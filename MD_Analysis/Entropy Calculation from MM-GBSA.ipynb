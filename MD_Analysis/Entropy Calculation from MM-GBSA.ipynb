{
 "cells": [
  {
   "cell_type": "markdown",
   "id": "19a72265",
   "metadata": {},
   "source": [
    "# Entropy Calculation from MM-GBSA data"
   ]
  },
  {
   "cell_type": "markdown",
   "id": "ad1bab52",
   "metadata": {},
   "source": [
    "## Ref : JACS, 138, 5722"
   ]
  },
  {
   "cell_type": "raw",
   "id": "b56c1364",
   "metadata": {},
   "source": [
    "Code Developer : Yeongrae Cho"
   ]
  },
  {
   "cell_type": "code",
   "execution_count": 18,
   "id": "053baa55",
   "metadata": {},
   "outputs": [
    {
     "name": "stdout",
     "output_type": "stream",
     "text": [
      "The estimated -TΔS is: 8.5610 kcal/mol\n",
      "The average Sol energy is: 33.2339 kcal/mol\n",
      "The average E_pl^int is: -52.3234 kcal/mol\n",
      "The total is: -10.5285 kcal/mol\n"
     ]
    }
   ],
   "source": [
    "import pandas as pd\n",
    "import numpy as np\n",
    "\n",
    "# csv 파일 읽기\n",
    "data = pd.read_csv('TH301_IN.csv')\n",
    "\n",
    "# r_psp_MMGBSA_dG_Bind 컬럼 값을 E_pl^int로 사용\n",
    "data['E_pl^int'] =  (data['r_psp_MMGBSA_dG_Bind_Coulomb']+\n",
    "                    data['r_psp_MMGBSA_dG_Bind_Covalent']+\n",
    "                    data['r_psp_MMGBSA_dG_Bind_Hbond']+\n",
    "                    data['r_psp_MMGBSA_dG_Bind_Lipo']+\n",
    "                    data['r_psp_MMGBSA_dG_Bind_Packing'])\n",
    "\n",
    "# 시간에 따른 E_pl^int의 평균을 계산\n",
    "E_pl_mean = data['E_pl^int'].mean()\n",
    "\n",
    "# ΔE_pl^int 계산\n",
    "data['ΔE_pl^int'] = data['E_pl^int'] - E_pl_mean\n",
    "\n",
    "# β는 주어진 값에 따라 설정되어야 함 (예시로 1로 설정)\n",
    "beta = 1 / (0.0019872041 * 300)\n",
    "\n",
    "# e^(βΔE_pl^int)의 평균 계산\n",
    "avg_exp_term = np.mean(np.exp(beta * data['ΔE_pl^int']))\n",
    "\n",
    "# -TΔS 계산 (T는 온도, 예시로 298.15 K로 설정)\n",
    "T = 300\n",
    "K = 0.0019872041  # Boltzmann constant in kcal/mol*K\n",
    "negative_T_delta_S = K * T * np.log(avg_exp_term)\n",
    "\n",
    "# Sol 데이터 출력\n",
    "sol_avg = data['r_psp_MMGBSA_dG_Bind_Solv_GB'].mean()\n",
    "\n",
    "# 3개의 값 합산\n",
    "total = negative_T_delta_S + sol_avg + E_pl_mean\n",
    "\n",
    "print(f\"The estimated -TΔS is: {negative_T_delta_S:.4f} kcal/mol\")\n",
    "print(f\"The average Sol energy is: {sol_avg:.4f} kcal/mol\")\n",
    "print(f\"The average E_pl^int is: {E_pl_mean:.4f} kcal/mol\")\n",
    "print(f\"The total is: {total:.4f} kcal/mol\")"
   ]
  },
  {
   "cell_type": "code",
   "execution_count": null,
   "id": "bfc12a2f",
   "metadata": {},
   "outputs": [],
   "source": []
  },
  {
   "cell_type": "code",
   "execution_count": 19,
   "id": "ad7f5e16",
   "metadata": {},
   "outputs": [
    {
     "name": "stdout",
     "output_type": "stream",
     "text": [
      "The estimated -TΔS is: 8.6326 kcal/mol\n",
      "The average Sol energy is: 33.2339 kcal/mol\n",
      "The average E_pl^int is: -52.3234 kcal/mol\n",
      "The total is: -10.4569 kcal/mol\n"
     ]
    }
   ],
   "source": [
    "import pandas as pd\n",
    "import numpy as np\n",
    "\n",
    "# csv 파일 읽기\n",
    "data = pd.read_csv('TH301_IN.csv')\n",
    "\n",
    "# r_psp_MMGBSA_dG_Bind 컬럼 값을 E_pl^int로 사용\n",
    "data['E_pl^int'] =  (data['r_psp_MMGBSA_dG_Bind_Coulomb']+\n",
    "                    data['r_psp_MMGBSA_dG_Bind_Covalent']+\n",
    "                    data['r_psp_MMGBSA_dG_Bind_Hbond']+\n",
    "                    data['r_psp_MMGBSA_dG_Bind_Lipo']+\n",
    "                    data['r_psp_MMGBSA_dG_Bind_Packing'])\n",
    "\n",
    "# 시간에 따른 E_pl^int의 평균을 계산\n",
    "E_pl_mean = data['E_pl^int'].mean()\n",
    "\n",
    "# ΔE_pl^int 계산\n",
    "data['ΔE_pl^int'] = data['E_pl^int'] - E_pl_mean\n",
    "\n",
    "# β는 주어진 값에 따라 설정되어야 함 (예시로 1로 설정)\n",
    "beta = 1 / (0.0019872041 * 298)\n",
    "\n",
    "# e^(βΔE_pl^int)의 평균 계산\n",
    "avg_exp_term = np.mean(np.exp(beta * data['ΔE_pl^int']))\n",
    "\n",
    "# -TΔS 계산 (T는 온도, 예시로 298.15 K로 설정)\n",
    "T = 300\n",
    "K = 0.0019872041  # Boltzmann constant in kcal/mol*K\n",
    "negative_T_delta_S = K * T * np.log(avg_exp_term)\n",
    "\n",
    "# Sol 데이터 출력\n",
    "sol_avg = data['r_psp_MMGBSA_dG_Bind_Solv_GB'].mean()\n",
    "\n",
    "# 3개의 값 합산\n",
    "total = negative_T_delta_S + sol_avg + E_pl_mean\n",
    "\n",
    "print(f\"The estimated -TΔS is: {negative_T_delta_S:.4f} kcal/mol\")\n",
    "print(f\"The average Sol energy is: {sol_avg:.4f} kcal/mol\")\n",
    "print(f\"The average E_pl^int is: {E_pl_mean:.4f} kcal/mol\")\n",
    "print(f\"The total is: {total:.4f} kcal/mol\")"
   ]
  },
  {
   "cell_type": "code",
   "execution_count": null,
   "id": "c7e4ebce",
   "metadata": {},
   "outputs": [],
   "source": []
  },
  {
   "cell_type": "code",
   "execution_count": null,
   "id": "b0d7b8cb",
   "metadata": {},
   "outputs": [],
   "source": []
  }
 ],
 "metadata": {
  "kernelspec": {
   "display_name": "Python 3",
   "language": "python",
   "name": "python3"
  },
  "language_info": {
   "codemirror_mode": {
    "name": "ipython",
    "version": 3
   },
   "file_extension": ".py",
   "mimetype": "text/x-python",
   "name": "python",
   "nbconvert_exporter": "python",
   "pygments_lexer": "ipython3",
   "version": "3.6.15"
  }
 },
 "nbformat": 4,
 "nbformat_minor": 5
}
