{
 "cells": [
  {
   "cell_type": "code",
   "execution_count": 72,
   "id": "da476352",
   "metadata": {},
   "outputs": [],
   "source": [
    "import sys\n",
    "import os\n",
    "import natsort\n",
    "\n",
    "import pymol\n",
    "from pymol import cmd, stored\n",
    "import __main__\n",
    "__main__.pymol_argv = ['pymol','-qc']\n",
    "pymol.finish_launching()"
   ]
  },
  {
   "cell_type": "markdown",
   "id": "4efe1009",
   "metadata": {},
   "source": [
    "#MUST extraction MOL2 format\n",
    "\n",
    "#If extract PDB format, pymol SASA not recognise any molecule information"
   ]
  },
  {
   "cell_type": "code",
   "execution_count": 73,
   "id": "1e970c3e",
   "metadata": {},
   "outputs": [],
   "source": [
    "def SASA_Calculation(File_path):\n",
    "    cmd.load(File_path)  ### MD_Frame\n",
    "    cmd.set('dot_solvent', 1) ### 0=Volume, 1=SASA\n",
    "    cmd.set('dot_density', 4) ### 1,2 defalut 4 is higher accuracy than defalut\n",
    "    cmd.set('solvent_radius', 1.4)### ball size"
   ]
  },
  {
   "cell_type": "code",
   "execution_count": 74,
   "id": "9f24edaa",
   "metadata": {},
   "outputs": [],
   "source": [
    "def Volume_Calculation(File_path):\n",
    "    cmd.load(File_path)  ### MD_Frame\n",
    "    cmd.set('dot_solvent', 0) ### 0=Volume, 1=SASA\n",
    "    cmd.set('dot_density', 4) ### 1,2 defalut 4 is higher accuracy than defalut\n",
    "    cmd.set('solvent_radius', 1.4)### ball size"
   ]
  },
  {
   "cell_type": "code",
   "execution_count": 84,
   "id": "3aec7682",
   "metadata": {},
   "outputs": [],
   "source": [
    "def PSA_Calculation(File_path):\n",
    "    cmd.load(File_path)  ### MD_Frame\n",
    "    cmd.set('dot_density', 4)\n",
    "    cmd.remove('hydrogen')\n",
    "    cmd.remove('solvent')\n",
    "    cmd.show('dots')\n",
    "    cmd.set('dot_solvent',\"on\") ### on = surface_PSA //  off = molecue_PSA\n",
    "    #cmd.get_area(\"elem N+O+S+P+Br\")\n",
    "    #cmd.reinitialize()"
   ]
  },
  {
   "cell_type": "code",
   "execution_count": 76,
   "id": "2e7e3c1c",
   "metadata": {},
   "outputs": [],
   "source": [
    "def initialize_pymol(options):\n",
    "    \"\"\"Initializes PyMOL\"\"\"\n",
    "    # Pass standard arguments of function to prevent PyMOL from printing out PDB headers (workaround)\n",
    "    finish_launching(args=['pymol', options, '-K'])\n",
    "    cmd.reinitialize()"
   ]
  },
  {
   "cell_type": "code",
   "execution_count": 87,
   "id": "17461057",
   "metadata": {},
   "outputs": [],
   "source": [
    "dir_list = os.listdir('./C2mim_Tf2N')\n",
    "Alter_DIR_list = natsort.natsorted(dir_list)"
   ]
  },
  {
   "cell_type": "code",
   "execution_count": 86,
   "id": "0f1e2879",
   "metadata": {},
   "outputs": [],
   "source": [
    "import sys\n",
    "\n",
    "sys.stdout = open(\"C2mim_Tf2N_PSA.csv\", \"w\")\n",
    "\n",
    "number = 1\n",
    "for i in Alter_DIR_list:\n",
    "    cmd.reinitialize()\n",
    "    PSA_Calculation('./C2mim_Tf2N/'+i)\n",
    "    print('Frame_'+str(number),\",\", cmd.get_area(\"elem N+O+S+P+Br\"))\n",
    "    number = number + 1"
   ]
  },
  {
   "cell_type": "code",
   "execution_count": 88,
   "id": "ec7bf03a",
   "metadata": {},
   "outputs": [],
   "source": [
    "import sys\n",
    "\n",
    "sys.stdout = open(\"C2mim_Tf2N_Positive.csv\", \"w\")\n",
    "\n",
    "number = 1\n",
    "for i in Alter_DIR_list:\n",
    "    cmd.reinitialize()\n",
    "    PSA_Calculation('./C2mim_Tf2N/'+i)\n",
    "    print('Frame_'+str(number),\",\", cmd.get_area(\"elem N+P\"))\n",
    "    number = number + 1"
   ]
  },
  {
   "cell_type": "code",
   "execution_count": 89,
   "id": "36479c82",
   "metadata": {},
   "outputs": [],
   "source": [
    "import sys\n",
    "\n",
    "sys.stdout = open(\"C2mim_Tf2N_Negative.csv\", \"w\")\n",
    "\n",
    "number = 1\n",
    "for i in Alter_DIR_list:\n",
    "    cmd.reinitialize()\n",
    "    PSA_Calculation('./C2mim_Tf2N/'+i)\n",
    "    print('Frame_'+str(number),\",\", cmd.get_area(\"elem O+S+P\"))\n",
    "    number = number + 1"
   ]
  },
  {
   "cell_type": "code",
   "execution_count": null,
   "id": "61f732f4",
   "metadata": {},
   "outputs": [],
   "source": []
  },
  {
   "cell_type": "code",
   "execution_count": null,
   "id": "43c860ca",
   "metadata": {},
   "outputs": [],
   "source": []
  },
  {
   "cell_type": "code",
   "execution_count": null,
   "id": "677c7e47",
   "metadata": {},
   "outputs": [],
   "source": []
  },
  {
   "cell_type": "code",
   "execution_count": null,
   "id": "d07a0bea",
   "metadata": {},
   "outputs": [],
   "source": []
  },
  {
   "cell_type": "code",
   "execution_count": null,
   "id": "6cb75b2e",
   "metadata": {},
   "outputs": [],
   "source": []
  }
 ],
 "metadata": {
  "kernelspec": {
   "display_name": "Python 3",
   "language": "python",
   "name": "python3"
  },
  "language_info": {
   "codemirror_mode": {
    "name": "ipython",
    "version": 3
   },
   "file_extension": ".py",
   "mimetype": "text/x-python",
   "name": "python",
   "nbconvert_exporter": "python",
   "pygments_lexer": "ipython3",
   "version": "3.7.12"
  }
 },
 "nbformat": 4,
 "nbformat_minor": 5
}
