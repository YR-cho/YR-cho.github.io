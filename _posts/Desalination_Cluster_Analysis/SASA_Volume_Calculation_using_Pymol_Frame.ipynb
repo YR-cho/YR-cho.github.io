{
 "cells": [
  {
   "cell_type": "code",
   "execution_count": 1,
   "id": "da476352",
   "metadata": {},
   "outputs": [],
   "source": [
    "import sys\n",
    "import os\n",
    "import natsort\n",
    "\n",
    "import pymol\n",
    "from pymol import cmd, stored\n",
    "import __main__\n",
    "__main__.pymol_argv = ['pymol','-qc']\n",
    "pymol.finish_launching()"
   ]
  },
  {
   "cell_type": "markdown",
   "id": "4efe1009",
   "metadata": {},
   "source": [
    "#MUST extraction MOL2 format\n",
    "\n",
    "#If extract PDB format, pymol SASA not recognise any molecule information"
   ]
  },
  {
   "cell_type": "code",
   "execution_count": 2,
   "id": "1e970c3e",
   "metadata": {},
   "outputs": [],
   "source": [
    "def SASA_Calculation(File_path):\n",
    "    cmd.load(File_path)  ### MD_Frame\n",
    "    cmd.set('dot_solvent', 1) ### 0=Volume, 1=SASA\n",
    "    cmd.set('dot_density', 4) ### 1,2 defalut 4 is higher accuracy than defalut\n",
    "    cmd.set('solvent_radius', 1.4)### ball size"
   ]
  },
  {
   "cell_type": "code",
   "execution_count": 3,
   "id": "29e1f709",
   "metadata": {},
   "outputs": [],
   "source": [
    "dir_list = os.listdir('./C4mim_Tf2N_0.5M')\n",
    "Alter_DIR_list = natsort.natsorted(dir_list)"
   ]
  },
  {
   "cell_type": "code",
   "execution_count": 4,
   "id": "26c9ea61",
   "metadata": {},
   "outputs": [],
   "source": [
    "for i in Alter_DIR_list:\n",
    "    SASA_Calculation('./C4mim_Tf2N_0.5M/'+i)"
   ]
  },
  {
   "cell_type": "code",
   "execution_count": null,
   "id": "9bb6e4dc",
   "metadata": {},
   "outputs": [],
   "source": []
  },
  {
   "cell_type": "code",
   "execution_count": null,
   "id": "0db26b46",
   "metadata": {},
   "outputs": [],
   "source": []
  },
  {
   "cell_type": "code",
   "execution_count": 6,
   "id": "938736bd",
   "metadata": {},
   "outputs": [
    {
     "name": "stdout",
     "output_type": "stream",
     "text": [
      "147067.890625\n",
      "87311.3828125\n",
      "71963.9140625\n",
      "69539.125\n",
      "59089.76953125\n",
      "53656.9609375\n",
      "48850.34765625\n",
      "47077.51953125\n",
      "44742.4296875\n",
      "43270.2890625\n",
      "42654.24609375\n",
      "41448.55078125\n",
      "40141.87109375\n",
      "40822.05859375\n",
      "38764.33984375\n",
      "38962.84375\n",
      "38923.0703125\n",
      "38757.96875\n",
      "36734.8671875\n",
      "38871.5859375\n",
      "39285.62890625\n",
      "39349.921875\n",
      "38938.21484375\n",
      "37391.515625\n",
      "36731.57421875\n",
      "37116.6875\n",
      "37314.97265625\n",
      "37354.5859375\n",
      "38138.84375\n",
      "37093.01171875\n",
      "36624.64453125\n",
      "37522.828125\n",
      "38539.3359375\n",
      "39268.6015625\n",
      "40011.625\n",
      "39134.015625\n",
      "39122.1796875\n",
      "38101.75390625\n",
      "37582.3203125\n",
      "39635.12890625\n",
      "38850.94921875\n",
      "39321.88671875\n",
      "38025.12890625\n",
      "38422.515625\n",
      "39747.0078125\n",
      "38531.9453125\n",
      "39775.40625\n",
      "36864.58203125\n",
      "38394.20703125\n",
      "38910.76171875\n",
      "38209.83984375\n"
     ]
    }
   ],
   "source": [
    "for i in Alter_DIR_list:\n",
    "    print(cmd.get_area(i[:-5]))"
   ]
  },
  {
   "cell_type": "code",
   "execution_count": 17,
   "id": "45472374",
   "metadata": {},
   "outputs": [
    {
     "name": "stdout",
     "output_type": "stream",
     "text": [
      "Frame_1 , 147067.890625\n",
      "Frame_2 , 87311.3828125\n",
      "Frame_3 , 71963.9140625\n",
      "Frame_4 , 69539.125\n",
      "Frame_5 , 59089.76953125\n",
      "Frame_6 , 53656.9609375\n",
      "Frame_7 , 48850.34765625\n",
      "Frame_8 , 47077.51953125\n",
      "Frame_9 , 44742.4296875\n",
      "Frame_10 , 43270.2890625\n",
      "Frame_11 , 42654.24609375\n",
      "Frame_12 , 41448.55078125\n",
      "Frame_13 , 40141.87109375\n",
      "Frame_14 , 40822.05859375\n",
      "Frame_15 , 38764.33984375\n",
      "Frame_16 , 38962.84375\n",
      "Frame_17 , 38923.0703125\n",
      "Frame_18 , 38757.96875\n",
      "Frame_19 , 36734.8671875\n",
      "Frame_20 , 38871.5859375\n",
      "Frame_21 , 39285.62890625\n",
      "Frame_22 , 39349.921875\n",
      "Frame_23 , 38938.21484375\n",
      "Frame_24 , 37391.515625\n",
      "Frame_25 , 36731.57421875\n",
      "Frame_26 , 37116.6875\n",
      "Frame_27 , 37314.97265625\n",
      "Frame_28 , 37354.5859375\n",
      "Frame_29 , 38138.84375\n",
      "Frame_30 , 37093.01171875\n",
      "Frame_31 , 36624.64453125\n",
      "Frame_32 , 37522.828125\n",
      "Frame_33 , 38539.3359375\n",
      "Frame_34 , 39268.6015625\n",
      "Frame_35 , 40011.625\n",
      "Frame_36 , 39134.015625\n",
      "Frame_37 , 39122.1796875\n",
      "Frame_38 , 38101.75390625\n",
      "Frame_39 , 37582.3203125\n",
      "Frame_40 , 39635.12890625\n",
      "Frame_41 , 38850.94921875\n",
      "Frame_42 , 39321.88671875\n",
      "Frame_43 , 38025.12890625\n",
      "Frame_44 , 38422.515625\n",
      "Frame_45 , 39747.0078125\n",
      "Frame_46 , 38531.9453125\n",
      "Frame_47 , 39775.40625\n",
      "Frame_48 , 36864.58203125\n",
      "Frame_49 , 38394.20703125\n",
      "Frame_50 , 38910.76171875\n",
      "Frame_51 , 38209.83984375\n"
     ]
    }
   ],
   "source": [
    "number = 1\n",
    "for i in Alter_DIR_list:\n",
    "    print('Frame_'+str(number),\",\", cmd.get_area(i[:-5]))\n",
    "    number = number + 1"
   ]
  },
  {
   "cell_type": "code",
   "execution_count": null,
   "id": "0855a3b3",
   "metadata": {},
   "outputs": [],
   "source": []
  },
  {
   "cell_type": "code",
   "execution_count": null,
   "id": "0dfd7fc8",
   "metadata": {},
   "outputs": [],
   "source": [
    "import sys\n",
    "\n",
    "sys.stdout = open(\"A.csv\", \"w\")\n",
    "\n",
    "for n in range(10):\n",
    "    print(n)\n",
    "    \n",
    "sys.stdout.close() \n",
    "sys.stdout = temp"
   ]
  },
  {
   "cell_type": "code",
   "execution_count": 1,
   "id": "848ce45c",
   "metadata": {},
   "outputs": [
    {
     "name": "stdout",
     "output_type": "stream",
     "text": [
      "0\n",
      "1\n",
      "2\n",
      "3\n",
      "4\n",
      "5\n",
      "6\n",
      "7\n",
      "8\n",
      "9\n"
     ]
    }
   ],
   "source": [
    "import sys\n",
    "for n in range(10):\n",
    "    print(n)"
   ]
  },
  {
   "cell_type": "code",
   "execution_count": null,
   "id": "cc893d1e",
   "metadata": {},
   "outputs": [],
   "source": []
  },
  {
   "cell_type": "code",
   "execution_count": null,
   "id": "e382f673",
   "metadata": {},
   "outputs": [],
   "source": []
  },
  {
   "cell_type": "code",
   "execution_count": null,
   "id": "939c363d",
   "metadata": {},
   "outputs": [],
   "source": []
  },
  {
   "cell_type": "code",
   "execution_count": null,
   "id": "3954af1b",
   "metadata": {},
   "outputs": [],
   "source": []
  },
  {
   "cell_type": "code",
   "execution_count": null,
   "id": "e162648a",
   "metadata": {},
   "outputs": [],
   "source": []
  },
  {
   "cell_type": "code",
   "execution_count": null,
   "id": "45cded4f",
   "metadata": {},
   "outputs": [],
   "source": []
  },
  {
   "cell_type": "code",
   "execution_count": null,
   "id": "651583cd",
   "metadata": {},
   "outputs": [],
   "source": []
  },
  {
   "cell_type": "code",
   "execution_count": null,
   "id": "b847633b",
   "metadata": {},
   "outputs": [],
   "source": []
  },
  {
   "cell_type": "code",
   "execution_count": null,
   "id": "ab0d1bf3",
   "metadata": {},
   "outputs": [],
   "source": []
  },
  {
   "cell_type": "code",
   "execution_count": null,
   "id": "1eace79d",
   "metadata": {},
   "outputs": [],
   "source": []
  },
  {
   "cell_type": "code",
   "execution_count": null,
   "id": "3ade1c5b",
   "metadata": {},
   "outputs": [],
   "source": []
  },
  {
   "cell_type": "code",
   "execution_count": null,
   "id": "628d06e1",
   "metadata": {},
   "outputs": [],
   "source": []
  },
  {
   "cell_type": "code",
   "execution_count": null,
   "id": "48ca50c9",
   "metadata": {},
   "outputs": [],
   "source": []
  },
  {
   "cell_type": "code",
   "execution_count": null,
   "id": "00b6cfe9",
   "metadata": {},
   "outputs": [],
   "source": []
  },
  {
   "cell_type": "code",
   "execution_count": null,
   "id": "966b90b4",
   "metadata": {},
   "outputs": [],
   "source": []
  },
  {
   "cell_type": "code",
   "execution_count": null,
   "id": "045b92f4",
   "metadata": {},
   "outputs": [],
   "source": []
  },
  {
   "cell_type": "code",
   "execution_count": null,
   "id": "0287b9b8",
   "metadata": {},
   "outputs": [],
   "source": []
  },
  {
   "cell_type": "code",
   "execution_count": null,
   "id": "e2493cc8",
   "metadata": {},
   "outputs": [],
   "source": []
  },
  {
   "cell_type": "code",
   "execution_count": null,
   "id": "bc9a1c05",
   "metadata": {},
   "outputs": [],
   "source": []
  },
  {
   "cell_type": "code",
   "execution_count": null,
   "id": "d7bd7339",
   "metadata": {},
   "outputs": [],
   "source": []
  },
  {
   "cell_type": "code",
   "execution_count": null,
   "id": "ddb3ac11",
   "metadata": {},
   "outputs": [],
   "source": []
  },
  {
   "cell_type": "code",
   "execution_count": null,
   "id": "e65c2495",
   "metadata": {},
   "outputs": [],
   "source": []
  }
 ],
 "metadata": {
  "kernelspec": {
   "display_name": "Python 3",
   "language": "python",
   "name": "python3"
  },
  "language_info": {
   "codemirror_mode": {
    "name": "ipython",
    "version": 3
   },
   "file_extension": ".py",
   "mimetype": "text/x-python",
   "name": "python",
   "nbconvert_exporter": "python",
   "pygments_lexer": "ipython3",
   "version": "3.7.12"
  }
 },
 "nbformat": 4,
 "nbformat_minor": 5
}
