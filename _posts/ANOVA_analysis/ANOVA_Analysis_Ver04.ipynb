{
 "cells": [
  {
   "cell_type": "markdown",
   "id": "07fe396e-2c50-42f0-ae0f-8b30ddee5c9c",
   "metadata": {},
   "source": [
    "## STEP 1. ANOVA 분석"
   ]
  },
  {
   "cell_type": "code",
   "execution_count": 102,
   "id": "498e7340-28a3-4fa1-b79f-8b0d0a99dd42",
   "metadata": {},
   "outputs": [],
   "source": [
    "import pandas as pd\n",
    "import scipy.stats as stats\n",
    "from statsmodels.stats.multicomp import MultiComparison\n",
    "\n",
    "# 파일 불러오기\n",
    "file_path = './ANOVA_rename.csv'\n",
    "df = pd.read_csv(file_path)\n",
    "\n",
    "#df = df[~df['Class'].isin(['QC', 'Control'])]  ## QC/Control 제외, 즉 정확하게 해당 글자로 타이핑 해야함. 대소문자 구별 주의"
   ]
  },
  {
   "cell_type": "code",
   "execution_count": 103,
   "id": "f8ce7f6a-a3c9-404a-a83d-84f8cb6e9f18",
   "metadata": {},
   "outputs": [
    {
     "data": {
      "text/plain": [
       "(190, 7)"
      ]
     },
     "execution_count": 103,
     "metadata": {},
     "output_type": "execute_result"
    }
   ],
   "source": [
    "df.shape"
   ]
  },
  {
   "cell_type": "code",
   "execution_count": 104,
   "id": "ba6666b6-33c7-4998-aa38-b4cc9ff54f9f",
   "metadata": {},
   "outputs": [
    {
     "data": {
      "text/plain": [
       "(169, 7)"
      ]
     },
     "execution_count": 104,
     "metadata": {},
     "output_type": "execute_result"
    }
   ],
   "source": [
    "# 결측값 제거\n",
    "df = df.dropna()\n",
    "df.shape"
   ]
  },
  {
   "cell_type": "code",
   "execution_count": 105,
   "id": "9a28d62f-d8e9-4797-8db1-2670ce633760",
   "metadata": {},
   "outputs": [],
   "source": [
    "# 결과를 저장할 리스트 초기화\n",
    "results = []"
   ]
  },
  {
   "cell_type": "code",
   "execution_count": null,
   "id": "1d448445-a06f-48d7-a7b9-e40f97c838c8",
   "metadata": {},
   "outputs": [],
   "source": []
  },
  {
   "cell_type": "code",
   "execution_count": 106,
   "id": "efce6a10-3257-41d4-a5fd-efb4f208a870",
   "metadata": {},
   "outputs": [],
   "source": [
    "# 'Class'가 그룹이고, 각 protein column이 분석 대상\n",
    "group_column = 'Class'\n",
    "protein_columns = df.columns[2:]  # protein columns\n",
    "\n",
    "# 각 protein에 대해 ANOVA 수행\n",
    "for protein in protein_columns:\n",
    "    # 그룹별로 데이터 추출 (결측값은 이미 제거됨)\n",
    "    groups = [df[protein][df[group_column] == group] for group in df[group_column].unique()]\n",
    "    \n",
    "    # 그룹별 데이터가 존재하는 경우에만 ANOVA 수행\n",
    "    if all([len(group) > 0 for group in groups]):\n",
    "        f_stat, p_value = stats.f_oneway(*groups)\n",
    "        results.append({'Protein': protein, 'F-value': f_stat, 'P-value': p_value})\n",
    "    else:\n",
    "        results.append({'Protein': protein, 'F-value': None, 'P-value': None})\n",
    "\n",
    "# 결과를 DataFrame으로 변환\n",
    "results_df = pd.DataFrame(results)"
   ]
  },
  {
   "cell_type": "code",
   "execution_count": 107,
   "id": "9777169a-588d-4a62-acb8-a56c815a1d60",
   "metadata": {},
   "outputs": [
    {
     "data": {
      "text/html": [
       "<div>\n",
       "<style scoped>\n",
       "    .dataframe tbody tr th:only-of-type {\n",
       "        vertical-align: middle;\n",
       "    }\n",
       "\n",
       "    .dataframe tbody tr th {\n",
       "        vertical-align: top;\n",
       "    }\n",
       "\n",
       "    .dataframe thead th {\n",
       "        text-align: right;\n",
       "    }\n",
       "</style>\n",
       "<table border=\"1\" class=\"dataframe\">\n",
       "  <thead>\n",
       "    <tr style=\"text-align: right;\">\n",
       "      <th></th>\n",
       "      <th>Protein</th>\n",
       "      <th>F-value</th>\n",
       "      <th>P-value</th>\n",
       "    </tr>\n",
       "  </thead>\n",
       "  <tbody>\n",
       "    <tr>\n",
       "      <th>0</th>\n",
       "      <td>Protein_1</td>\n",
       "      <td>3.923470</td>\n",
       "      <td>0.004542</td>\n",
       "    </tr>\n",
       "    <tr>\n",
       "      <th>1</th>\n",
       "      <td>Protein_2</td>\n",
       "      <td>1.689493</td>\n",
       "      <td>0.154831</td>\n",
       "    </tr>\n",
       "    <tr>\n",
       "      <th>2</th>\n",
       "      <td>Protein_3</td>\n",
       "      <td>1.698392</td>\n",
       "      <td>0.152796</td>\n",
       "    </tr>\n",
       "    <tr>\n",
       "      <th>3</th>\n",
       "      <td>Protein_4</td>\n",
       "      <td>1.902700</td>\n",
       "      <td>0.112393</td>\n",
       "    </tr>\n",
       "    <tr>\n",
       "      <th>4</th>\n",
       "      <td>Protein_5</td>\n",
       "      <td>4.583375</td>\n",
       "      <td>0.001556</td>\n",
       "    </tr>\n",
       "  </tbody>\n",
       "</table>\n",
       "</div>"
      ],
      "text/plain": [
       "     Protein   F-value   P-value\n",
       "0  Protein_1  3.923470  0.004542\n",
       "1  Protein_2  1.689493  0.154831\n",
       "2  Protein_3  1.698392  0.152796\n",
       "3  Protein_4  1.902700  0.112393\n",
       "4  Protein_5  4.583375  0.001556"
      ]
     },
     "execution_count": 107,
     "metadata": {},
     "output_type": "execute_result"
    }
   ],
   "source": [
    "results_df"
   ]
  },
  {
   "cell_type": "code",
   "execution_count": 108,
   "id": "26680693-3551-4929-b225-52fec6f170d7",
   "metadata": {},
   "outputs": [],
   "source": [
    "\n",
    "results_df.to_csv('000.anova_results.csv', index=False)  ## 결과 저장"
   ]
  },
  {
   "cell_type": "markdown",
   "id": "707e03aa-9640-48a7-baa1-8aa5f3168ab1",
   "metadata": {},
   "source": [
    "## STEP 2. p-value 선별"
   ]
  },
  {
   "cell_type": "code",
   "execution_count": 109,
   "id": "1282b204-6962-4249-873e-7c1869137d8e",
   "metadata": {},
   "outputs": [],
   "source": [
    "# P-value가 0.05 이하인 protein만 필터링\n",
    "significant_proteins = results_df[results_df['P-value'] < 0.05]['Protein']"
   ]
  },
  {
   "cell_type": "code",
   "execution_count": 110,
   "id": "5c99351f-8d75-4d72-b00e-167c6d30eaeb",
   "metadata": {},
   "outputs": [
    {
     "data": {
      "text/plain": [
       "0    Protein_1\n",
       "4    Protein_5\n",
       "Name: Protein, dtype: object"
      ]
     },
     "execution_count": 110,
     "metadata": {},
     "output_type": "execute_result"
    }
   ],
   "source": [
    "significant_proteins"
   ]
  },
  {
   "cell_type": "code",
   "execution_count": null,
   "id": "b05b3940-abdf-49c7-a2fa-0158842fc085",
   "metadata": {},
   "outputs": [],
   "source": []
  },
  {
   "cell_type": "markdown",
   "id": "0b8a0677-cdb5-4c1a-ba5a-7153d4b7b831",
   "metadata": {},
   "source": [
    "## STEP 3. 사후분석"
   ]
  },
  {
   "cell_type": "code",
   "execution_count": 111,
   "id": "76b274ee-5091-4827-911e-fb621a94f9db",
   "metadata": {},
   "outputs": [],
   "source": [
    "tukey_results = []\n",
    "bonf_results = []\n",
    "\n",
    "for protein in significant_proteins:\n",
    "    \n",
    "    # Tukey HSD\n",
    "    mc = MultiComparison(df[protein], df[group_column])\n",
    "    tukey_result = mc.tukeyhsd(alpha=0.05)\n",
    "\n",
    "    for comparison in tukey_result.summary().data[1:]:\n",
    "        group1, group2, meandiff, p_adj, lower, upper, reject = comparison\n",
    "        tukey_results.append({\n",
    "            'Protein': protein,\n",
    "            'Group1': group1,\n",
    "            'Group2': group2,\n",
    "            'p-value adj': p_adj,\n",
    "            'Method': 'Tukey'\n",
    "        })\n",
    "\n",
    "    # Bonferroni\n",
    "    bonf_result = mc.allpairtest(stats.ttest_ind, method=\"bonf\")[0]\n",
    "\n",
    "    for comparison in bonf_result.data[1:]:\n",
    "        group1, group2, stat, pval, pval_corr, reject = comparison\n",
    "        bonf_results.append({\n",
    "            'Protein': protein,\n",
    "            'Group1': group1,\n",
    "            'Group2': group2,\n",
    "            'p-value corr': pval_corr,\n",
    "            'Method': 'Bonferroni'\n",
    "        })\n",
    "\n",
    "\n",
    "#### 사후분석 Resutl ####\n",
    "tukey_df = pd.DataFrame(tukey_results)\n",
    "bonf_df = pd.DataFrame(bonf_results)\n"
   ]
  },
  {
   "cell_type": "code",
   "execution_count": 112,
   "id": "5bf96902-261f-4bd3-9a02-449df547e9d9",
   "metadata": {},
   "outputs": [],
   "source": [
    "\n",
    "# 결과를 각각 Excel 파일로 저장\n",
    "tukey_df.to_csv('./001.tukey_analysis_results.csv', index=False)\n",
    "bonf_df.to_csv('./001.bonferroni_analysis_results.csv', index=False)"
   ]
  },
  {
   "cell_type": "code",
   "execution_count": null,
   "id": "46555143-9444-4247-8747-ef3fe23d53af",
   "metadata": {},
   "outputs": [],
   "source": []
  },
  {
   "cell_type": "markdown",
   "id": "2f99ab06-47cb-4e8c-972a-64dacf6a100d",
   "metadata": {},
   "source": [
    "## STEP 4. 사후분석 선별"
   ]
  },
  {
   "cell_type": "code",
   "execution_count": null,
   "id": "dd02deb0-6d76-4e03-b419-c14665009738",
   "metadata": {},
   "outputs": [],
   "source": []
  },
  {
   "cell_type": "code",
   "execution_count": 116,
   "id": "3409b70f-b1bd-462e-818d-bf6db8e47538",
   "metadata": {},
   "outputs": [],
   "source": [
    "import pandas as pd\n",
    "\n",
    "# 파일 불러오기\n",
    "bonferroni_file_path = './001.bonferroni_analysis_results.csv'\n",
    "tukey_file_path = './001.tukey_analysis_results.csv'\n",
    "\n",
    "# Excel 파일 읽기\n",
    "bonf_df = pd.read_csv(bonferroni_file_path)\n",
    "tukey_df = pd.read_csv(tukey_file_path)\n",
    "\n",
    "# 0.05 이하의 p-value adjustment 값을 가진 행만 필터링\n",
    "filtered_bonf_df = bonf_df[bonf_df['p-value corr'] < 0.05]\n",
    "filtered_tukey_df = tukey_df[tukey_df['p-value adj'] < 0.05]\n",
    "\n",
    "# 필터링된 결과를 각각 새로운 Excel 파일로 저장\n",
    "filtered_bonf_df.to_csv('./002.filtered_bonferroni_results.csv', index=False)\n",
    "filtered_tukey_df.to_csv('./002.filtered_tukey_results.csv', index=False)\n"
   ]
  },
  {
   "cell_type": "code",
   "execution_count": null,
   "id": "fa482abd-c668-4635-99c1-ca5b574af918",
   "metadata": {},
   "outputs": [],
   "source": []
  }
 ],
 "metadata": {
  "kernelspec": {
   "display_name": "Python 3 (ipykernel)",
   "language": "python",
   "name": "python3"
  },
  "language_info": {
   "codemirror_mode": {
    "name": "ipython",
    "version": 3
   },
   "file_extension": ".py",
   "mimetype": "text/x-python",
   "name": "python",
   "nbconvert_exporter": "python",
   "pygments_lexer": "ipython3",
   "version": "3.9.19"
  }
 },
 "nbformat": 4,
 "nbformat_minor": 5
}
