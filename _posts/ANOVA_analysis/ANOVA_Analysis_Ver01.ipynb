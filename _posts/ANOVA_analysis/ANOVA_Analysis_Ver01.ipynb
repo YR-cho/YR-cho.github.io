{
 "cells": [
  {
   "cell_type": "code",
   "execution_count": 23,
   "id": "6d733882-6e2d-40bb-9c6b-19bb469aaf6f",
   "metadata": {},
   "outputs": [],
   "source": [
    "##### one-way anova 분석 #######"
   ]
  },
  {
   "cell_type": "code",
   "execution_count": 24,
   "id": "b0fa5a43-c6f5-4141-b00f-ff7b12a33262",
   "metadata": {},
   "outputs": [],
   "source": [
    "import pandas as pd\n",
    "import scipy.stats as stats"
   ]
  },
  {
   "cell_type": "code",
   "execution_count": 25,
   "id": "b475b092-df56-4721-8295-e5f86ba31732",
   "metadata": {},
   "outputs": [],
   "source": [
    "file_path = './ANOVA_rename.csv'\n",
    "df = pd.read_csv(file_path)\n",
    "\n",
    "results = [] # 초기화"
   ]
  },
  {
   "cell_type": "code",
   "execution_count": 26,
   "id": "e9500a8e-91ea-4cdb-a93e-fbfdfbbd67d7",
   "metadata": {},
   "outputs": [],
   "source": [
    "# 'Class'가 그룹이고, 각 protein column이 분석 대상\n",
    "group_column = 'Class'\n",
    "protein_columns = df.columns[2:]  # protein columns"
   ]
  },
  {
   "cell_type": "code",
   "execution_count": 27,
   "id": "637ee2a8-4667-4aeb-ae37-62706ef6a680",
   "metadata": {},
   "outputs": [
    {
     "data": {
      "text/plain": [
       "Index(['Protein_1', 'Protein_2', 'Protein_3', 'Protein_4', 'Protein_5'], dtype='object')"
      ]
     },
     "execution_count": 27,
     "metadata": {},
     "output_type": "execute_result"
    }
   ],
   "source": [
    "protein_columns"
   ]
  },
  {
   "cell_type": "code",
   "execution_count": 28,
   "id": "2b72fc8a-9756-45f1-bae3-4a21c46ed6f0",
   "metadata": {},
   "outputs": [],
   "source": [
    "# 각 protein에 대해 ANOVA 수행\n",
    "for protein in protein_columns:\n",
    "    groups = [df[protein][df[group_column] == group] for group in df[group_column].unique()]\n",
    "    f_stat, p_value = stats.f_oneway(*groups)\n",
    "    results.append({'Protein': protein, 'F-value': f_stat, 'P-value': p_value})"
   ]
  },
  {
   "cell_type": "code",
   "execution_count": 29,
   "id": "53899082-2585-46b6-b4d2-9064932224bb",
   "metadata": {},
   "outputs": [],
   "source": [
    "results_df = pd.DataFrame(results)  ## Frame으로 변환"
   ]
  },
  {
   "cell_type": "code",
   "execution_count": 30,
   "id": "6346b2dd-c29d-49d1-9c33-142ec042828b",
   "metadata": {},
   "outputs": [
    {
     "data": {
      "text/html": [
       "<div>\n",
       "<style scoped>\n",
       "    .dataframe tbody tr th:only-of-type {\n",
       "        vertical-align: middle;\n",
       "    }\n",
       "\n",
       "    .dataframe tbody tr th {\n",
       "        vertical-align: top;\n",
       "    }\n",
       "\n",
       "    .dataframe thead th {\n",
       "        text-align: right;\n",
       "    }\n",
       "</style>\n",
       "<table border=\"1\" class=\"dataframe\">\n",
       "  <thead>\n",
       "    <tr style=\"text-align: right;\">\n",
       "      <th></th>\n",
       "      <th>Protein</th>\n",
       "      <th>F-value</th>\n",
       "      <th>P-value</th>\n",
       "    </tr>\n",
       "  </thead>\n",
       "  <tbody>\n",
       "    <tr>\n",
       "      <th>0</th>\n",
       "      <td>Protein_1</td>\n",
       "      <td>4.458930</td>\n",
       "      <td>0.001833</td>\n",
       "    </tr>\n",
       "    <tr>\n",
       "      <th>1</th>\n",
       "      <td>Protein_2</td>\n",
       "      <td>1.520789</td>\n",
       "      <td>0.197848</td>\n",
       "    </tr>\n",
       "    <tr>\n",
       "      <th>2</th>\n",
       "      <td>Protein_3</td>\n",
       "      <td>1.542382</td>\n",
       "      <td>0.191694</td>\n",
       "    </tr>\n",
       "    <tr>\n",
       "      <th>3</th>\n",
       "      <td>Protein_4</td>\n",
       "      <td>NaN</td>\n",
       "      <td>NaN</td>\n",
       "    </tr>\n",
       "    <tr>\n",
       "      <th>4</th>\n",
       "      <td>Protein_5</td>\n",
       "      <td>NaN</td>\n",
       "      <td>NaN</td>\n",
       "    </tr>\n",
       "  </tbody>\n",
       "</table>\n",
       "</div>"
      ],
      "text/plain": [
       "     Protein   F-value   P-value\n",
       "0  Protein_1  4.458930  0.001833\n",
       "1  Protein_2  1.520789  0.197848\n",
       "2  Protein_3  1.542382  0.191694\n",
       "3  Protein_4       NaN       NaN\n",
       "4  Protein_5       NaN       NaN"
      ]
     },
     "execution_count": 30,
     "metadata": {},
     "output_type": "execute_result"
    }
   ],
   "source": [
    "results_df"
   ]
  },
  {
   "cell_type": "code",
   "execution_count": 31,
   "id": "9e48fa26-a097-4bf7-a0a6-b690a1b47e2b",
   "metadata": {},
   "outputs": [],
   "source": [
    "## 데이터의 non 값이 있으면 에러 발생\n",
    "## 결측값이 존재할 때 해결 방법 고민하기"
   ]
  },
  {
   "cell_type": "code",
   "execution_count": null,
   "id": "eefd34bb-eda9-4c71-bfea-4708c440caad",
   "metadata": {},
   "outputs": [],
   "source": []
  }
 ],
 "metadata": {
  "kernelspec": {
   "display_name": "Python 3 (ipykernel)",
   "language": "python",
   "name": "python3"
  },
  "language_info": {
   "codemirror_mode": {
    "name": "ipython",
    "version": 3
   },
   "file_extension": ".py",
   "mimetype": "text/x-python",
   "name": "python",
   "nbconvert_exporter": "python",
   "pygments_lexer": "ipython3",
   "version": "3.9.19"
  }
 },
 "nbformat": 4,
 "nbformat_minor": 5
}
