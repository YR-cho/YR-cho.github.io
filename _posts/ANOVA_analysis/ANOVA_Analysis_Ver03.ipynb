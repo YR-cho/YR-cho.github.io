{
 "cells": [
  {
   "cell_type": "code",
   "execution_count": 1,
   "id": "13221daf-e8a2-4cec-9d54-07ab945936ef",
   "metadata": {},
   "outputs": [],
   "source": [
    "##### one-way anova 분석 #######"
   ]
  },
  {
   "cell_type": "code",
   "execution_count": 27,
   "id": "db605ab6-6f08-47b8-b61c-cfd34b04fdc9",
   "metadata": {},
   "outputs": [],
   "source": [
    "import pandas as pd\n",
    "import scipy.stats as stats\n",
    "import openpyxl"
   ]
  },
  {
   "cell_type": "code",
   "execution_count": 28,
   "id": "bf2be7b1-0114-4db0-9f25-2be2aa85a2b2",
   "metadata": {},
   "outputs": [],
   "source": [
    "file_path = './ANOVA (1).csv'\n",
    "df = pd.read_csv(file_path)\n",
    "df = df[~df['Class'].isin(['QC', 'Control'])] ## QC/Control 제외, 즉 정확하게 해당 글자로 타이핑 해야함. 대소문자 구별 주의\n",
    "\n",
    "results = [] # 초기화"
   ]
  },
  {
   "cell_type": "code",
   "execution_count": 29,
   "id": "52d93b6b-72c4-4a52-bafc-a6be1b856bdb",
   "metadata": {},
   "outputs": [],
   "source": [
    "# 'Class'가 그룹이고, 각 protein column이 분석 대상\n",
    "group_column = 'Class'\n",
    "protein_columns = df.columns[2:]  # protein columns"
   ]
  },
  {
   "cell_type": "code",
   "execution_count": 30,
   "id": "7565c43e-4b5a-4704-9269-b2505ba219c0",
   "metadata": {},
   "outputs": [],
   "source": [
    "# 각 protein에 대해 ANOVA 수행\n",
    "for protein in protein_columns:\n",
    "    # 결측값을 제외하고 그룹별로 데이터 추출\n",
    "    groups = [df[protein][df[group_column] == group].dropna() for group in df[group_column].unique()]\n",
    "    \n",
    "    # 그룹별 데이터가 존재하는 경우에만 ANOVA 수행\n",
    "    if all([len(group) > 0 for group in groups]):\n",
    "        f_stat, p_value = stats.f_oneway(*groups)\n",
    "        results.append({'Protein': protein, 'F-value': f_stat, 'P-value': p_value})\n",
    "    else:\n",
    "        results.append({'Protein': protein, 'F-value': None, 'P-value': None})\n"
   ]
  },
  {
   "cell_type": "code",
   "execution_count": 31,
   "id": "82f87659-30d0-41bc-afb5-18e72e03e7dc",
   "metadata": {},
   "outputs": [],
   "source": [
    "results_df = pd.DataFrame(results) ## Frame으로 변환"
   ]
  },
  {
   "cell_type": "code",
   "execution_count": 32,
   "id": "b9adb8c4-d236-436f-b867-c3f0ddaf660a",
   "metadata": {},
   "outputs": [
    {
     "data": {
      "text/html": [
       "<div>\n",
       "<style scoped>\n",
       "    .dataframe tbody tr th:only-of-type {\n",
       "        vertical-align: middle;\n",
       "    }\n",
       "\n",
       "    .dataframe tbody tr th {\n",
       "        vertical-align: top;\n",
       "    }\n",
       "\n",
       "    .dataframe thead th {\n",
       "        text-align: right;\n",
       "    }\n",
       "</style>\n",
       "<table border=\"1\" class=\"dataframe\">\n",
       "  <thead>\n",
       "    <tr style=\"text-align: right;\">\n",
       "      <th></th>\n",
       "      <th>Protein</th>\n",
       "      <th>F-value</th>\n",
       "      <th>P-value</th>\n",
       "    </tr>\n",
       "  </thead>\n",
       "  <tbody>\n",
       "    <tr>\n",
       "      <th>0</th>\n",
       "      <td>A0A075B6H9</td>\n",
       "      <td>0.437531</td>\n",
       "      <td>0.646358</td>\n",
       "    </tr>\n",
       "    <tr>\n",
       "      <th>1</th>\n",
       "      <td>A0A075B6I0</td>\n",
       "      <td>0.841876</td>\n",
       "      <td>0.432701</td>\n",
       "    </tr>\n",
       "    <tr>\n",
       "      <th>2</th>\n",
       "      <td>A0A075B6I1</td>\n",
       "      <td>1.016466</td>\n",
       "      <td>0.364073</td>\n",
       "    </tr>\n",
       "    <tr>\n",
       "      <th>3</th>\n",
       "      <td>A0A075B6I4</td>\n",
       "      <td>3.016719</td>\n",
       "      <td>0.051622</td>\n",
       "    </tr>\n",
       "    <tr>\n",
       "      <th>4</th>\n",
       "      <td>A0A075B6I7</td>\n",
       "      <td>0.265996</td>\n",
       "      <td>0.766805</td>\n",
       "    </tr>\n",
       "  </tbody>\n",
       "</table>\n",
       "</div>"
      ],
      "text/plain": [
       "      Protein   F-value   P-value\n",
       "0  A0A075B6H9  0.437531  0.646358\n",
       "1  A0A075B6I0  0.841876  0.432701\n",
       "2  A0A075B6I1  1.016466  0.364073\n",
       "3  A0A075B6I4  3.016719  0.051622\n",
       "4  A0A075B6I7  0.265996  0.766805"
      ]
     },
     "execution_count": 32,
     "metadata": {},
     "output_type": "execute_result"
    }
   ],
   "source": [
    "results_df"
   ]
  },
  {
   "cell_type": "code",
   "execution_count": 33,
   "id": "6861b8b2-8f1c-4121-a5c2-bd0bb5b1b122",
   "metadata": {},
   "outputs": [],
   "source": [
    "results_df.to_csv('anova_results.csv', index=False)  ## 결과 저장\n",
    "results_df.to_excel('anova_results.xlsx', index=False)  ## 결과 저장"
   ]
  },
  {
   "cell_type": "code",
   "execution_count": null,
   "id": "a30bec2f-a9fd-4b50-82cb-0c7fe872d238",
   "metadata": {},
   "outputs": [],
   "source": []
  }
 ],
 "metadata": {
  "kernelspec": {
   "display_name": "Python 3 (ipykernel)",
   "language": "python",
   "name": "python3"
  },
  "language_info": {
   "codemirror_mode": {
    "name": "ipython",
    "version": 3
   },
   "file_extension": ".py",
   "mimetype": "text/x-python",
   "name": "python",
   "nbconvert_exporter": "python",
   "pygments_lexer": "ipython3",
   "version": "3.9.19"
  }
 },
 "nbformat": 4,
 "nbformat_minor": 5
}
