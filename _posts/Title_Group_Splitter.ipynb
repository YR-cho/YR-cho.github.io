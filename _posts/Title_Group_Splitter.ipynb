{
 "cells": [
  {
   "cell_type": "code",
   "execution_count": 2,
   "id": "633c444b-1185-4544-844c-26af1976d65d",
   "metadata": {},
   "outputs": [
    {
     "name": "stdout",
     "output_type": "stream",
     "text": [
      "그룹화된 데이터가 './grouped_data' 폴더에 저장되었습니다.\n"
     ]
    }
   ],
   "source": [
    "import pandas as pd\n",
    "import os\n",
    "\n",
    "# CSV 파일 읽기\n",
    "file_path = \"./PROTAC_Benchmarking_MD_50ns_Extract_50_frame-out.csv\"\n",
    "data = pd.read_csv(file_path)\n",
    "\n",
    "# Title 컬럼에서 그룹화 키 추출 (공통 부분 추출)\n",
    "data['group'] = data['title'].str.extract(r'^(.*?)- Frame')\n",
    "\n",
    "# 그룹별로 데이터를 나누고 개별 파일로 저장\n",
    "output_dir = \"./grouped_data\"\n",
    "os.makedirs(output_dir, exist_ok=True)\n",
    "\n",
    "grouped_data = data.groupby('group')\n",
    "for group_name, group_df in grouped_data:\n",
    "    sanitized_group_name = group_name.replace(\" \", \"_\").replace(\"/\", \"-\")  # 안전한 파일 이름 처리\n",
    "    output_file = os.path.join(output_dir, f\"{sanitized_group_name}_group.csv\")\n",
    "    group_df.to_csv(output_file, index=False)\n",
    "\n",
    "print(f\"그룹화된 데이터가 '{output_dir}' 폴더에 저장되었습니다.\")\n"
   ]
  },
  {
   "cell_type": "code",
   "execution_count": null,
   "id": "0718c9b2-4233-4be0-9426-b42cd08a9876",
   "metadata": {},
   "outputs": [],
   "source": []
  }
 ],
 "metadata": {
  "kernelspec": {
   "display_name": "Python 3 (ipykernel)",
   "language": "python",
   "name": "python3"
  },
  "language_info": {
   "codemirror_mode": {
    "name": "ipython",
    "version": 3
   },
   "file_extension": ".py",
   "mimetype": "text/x-python",
   "name": "python",
   "nbconvert_exporter": "python",
   "pygments_lexer": "ipython3",
   "version": "3.12.4"
  }
 },
 "nbformat": 4,
 "nbformat_minor": 5
}
