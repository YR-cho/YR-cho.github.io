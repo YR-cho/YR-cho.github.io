{
 "cells": [
  {
   "cell_type": "code",
   "execution_count": 2,
   "id": "3e7b9f09-2915-4a7b-8e19-34da48bf2874",
   "metadata": {},
   "outputs": [
    {
     "name": "stdout",
     "output_type": "stream",
     "text": [
      "Filtered 결과 CSV 파일이 성공적으로 생성되었습니다: ./diffdock_input_filtered.csv\n"
     ]
    }
   ],
   "source": [
    "import os\n",
    "import pandas as pd\n",
    "\n",
    "# 파일 경로 설정\n",
    "input_csv_path = './diffdock_input.csv'\n",
    "result_folder_path = './5H1B_Result'\n",
    "\n",
    "# CSV 파일 읽기\n",
    "df = pd.read_csv(input_csv_path)\n",
    "\n",
    "# Check 결과를 저장할 리스트 초기화\n",
    "status_list = []\n",
    "\n",
    "# 각 complex_name에 대해 결과 확인\n",
    "for complex_name in df['complex_name']:\n",
    "    result_folder = os.path.join(result_folder_path, complex_name)\n",
    "    if not os.path.exists(result_folder):\n",
    "        status_list.append('X')  # 폴더가 없는 경우\n",
    "    else:\n",
    "        # 폴더가 존재하는 경우 파일이 있는지 확인\n",
    "        if len(os.listdir(result_folder)) == 0:\n",
    "            status_list.append('E')  # 폴더는 있으나 파일이 없는 경우\n",
    "        else:\n",
    "            status_list.append('O')  # 폴더도 있고 파일도 있는 경우\n",
    "\n",
    "# 결과를 DataFrame에 추가\n",
    "df['status'] = status_list\n",
    "\n",
    "# 전체 결과 CSV 파일로 저장\n",
    "output_csv_path = './diffdock_check_output.csv'\n",
    "df.to_csv(output_csv_path, index=False)\n",
    "\n",
    "# X나 E로 표시된 항목만 필터링\n",
    "df_filtered = df[df['status'].isin(['X', 'E'])]\n",
    "\n",
    "# 필터링된 결과를 새로운 CSV 파일로 저장\n",
    "filtered_output_csv_path = './diffdock_input_filtered.csv'\n",
    "df_filtered.to_csv(filtered_output_csv_path, index=False)\n",
    "\n",
    "print(f\"Filtered 결과 CSV 파일이 성공적으로 생성되었습니다: {filtered_output_csv_path}\")\n"
   ]
  },
  {
   "cell_type": "code",
   "execution_count": null,
   "id": "51cb7280-1b44-40ec-a322-399e8564945d",
   "metadata": {},
   "outputs": [],
   "source": []
  }
 ],
 "metadata": {
  "kernelspec": {
   "display_name": "Python 3 (ipykernel)",
   "language": "python",
   "name": "python3"
  },
  "language_info": {
   "codemirror_mode": {
    "name": "ipython",
    "version": 3
   },
   "file_extension": ".py",
   "mimetype": "text/x-python",
   "name": "python",
   "nbconvert_exporter": "python",
   "pygments_lexer": "ipython3",
   "version": "3.8.19"
  }
 },
 "nbformat": 4,
 "nbformat_minor": 5
}
