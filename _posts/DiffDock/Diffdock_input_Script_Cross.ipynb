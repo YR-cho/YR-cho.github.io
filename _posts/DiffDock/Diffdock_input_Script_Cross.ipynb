{
 "cells": [
  {
   "cell_type": "code",
   "execution_count": 3,
   "id": "11e607d5-f87c-40c9-8782-a7c83f61da4c",
   "metadata": {},
   "outputs": [
    {
     "name": "stdout",
     "output_type": "stream",
     "text": [
      "DiffDock input CSV 파일이 성공적으로 생성되었습니다: ./diffdock_input.csv\n"
     ]
    }
   ],
   "source": [
    "import os\n",
    "import pandas as pd\n",
    "\n",
    "# 설정할 폴더 경로\n",
    "protein_folder = './Target_Protein'\n",
    "ligand_folder = './Ligand'\n",
    "\n",
    "# protein 및 ligand 파일 목록 가져오기\n",
    "protein_files = [f for f in os.listdir(protein_folder) if os.path.isfile(os.path.join(protein_folder, f))]\n",
    "ligand_files = [f for f in os.listdir(ligand_folder) if os.path.isfile(os.path.join(ligand_folder, f))]\n",
    "\n",
    "# 결과를 저장할 리스트 초기화\n",
    "data = []\n",
    "\n",
    "# 각 단백질 파일에 대해 모든 리간드를 매칭\n",
    "for protein in protein_files:\n",
    "    protein_path = os.path.join(protein_folder, protein).replace('\\\\', '/')\n",
    "    for ligand in ligand_files:\n",
    "        ligand_path = os.path.join(ligand_folder, ligand).replace('\\\\', '/')\n",
    "        complex_name = f\"{os.path.splitext(protein)[0]}_{os.path.splitext(ligand)[0]}\"\n",
    "        data.append({\n",
    "            \"complex_name\": complex_name,\n",
    "            \"protein_path\": protein_path,\n",
    "            \"ligand_description\": ligand_path,\n",
    "            \"protein_sequence\": \"\"  # 빈 칸으로 설정\n",
    "        })\n",
    "\n",
    "# DataFrame으로 변환\n",
    "df = pd.DataFrame(data)\n",
    "\n",
    "# 컬럼 순서 지정\n",
    "df = df[['complex_name', 'protein_path', 'ligand_description', 'protein_sequence']]\n",
    "\n",
    "# CSV 파일로 저장\n",
    "output_csv_path = './diffdock_input.csv'\n",
    "df.to_csv(output_csv_path, index=False)\n",
    "\n",
    "print(f\"DiffDock input CSV 파일이 성공적으로 생성되었습니다: {output_csv_path}\")\n"
   ]
  },
  {
   "cell_type": "code",
   "execution_count": null,
   "id": "369c1849-4370-4c48-b660-3417001a97d9",
   "metadata": {},
   "outputs": [],
   "source": []
  }
 ],
 "metadata": {
  "kernelspec": {
   "display_name": "Python 3 (ipykernel)",
   "language": "python",
   "name": "python3"
  },
  "language_info": {
   "codemirror_mode": {
    "name": "ipython",
    "version": 3
   },
   "file_extension": ".py",
   "mimetype": "text/x-python",
   "name": "python",
   "nbconvert_exporter": "python",
   "pygments_lexer": "ipython3",
   "version": "3.8.19"
  }
 },
 "nbformat": 4,
 "nbformat_minor": 5
}
