{
 "cells": [
  {
   "cell_type": "code",
   "execution_count": 1,
   "id": "8ad51f80",
   "metadata": {},
   "outputs": [],
   "source": [
    "import pandas as pd"
   ]
  },
  {
   "cell_type": "code",
   "execution_count": 2,
   "id": "8ba15bdd",
   "metadata": {},
   "outputs": [],
   "source": [
    "#엑셀에 None값을 채우는 작업이 우선됨"
   ]
  },
  {
   "cell_type": "code",
   "execution_count": 3,
   "id": "22825039",
   "metadata": {},
   "outputs": [],
   "source": [
    "df = pd.read_csv(\"df_D.csv\",header=None)"
   ]
  },
  {
   "cell_type": "code",
   "execution_count": 4,
   "id": "10adaba6",
   "metadata": {},
   "outputs": [],
   "source": [
    "totol_list = []\n",
    "\n",
    "for i in range(1,175):\n",
    "    df_uni = df[i].unique()\n",
    "    df_list = df_uni.tolist()\n",
    "    \n",
    "    List_combine = totol_list + df_list\n",
    "    totol_list=list(set((List_combine)))"
   ]
  },
  {
   "cell_type": "code",
   "execution_count": 5,
   "id": "eefcefa8",
   "metadata": {},
   "outputs": [
    {
     "data": {
      "text/plain": [
       "845"
      ]
     },
     "execution_count": 5,
     "metadata": {},
     "output_type": "execute_result"
    }
   ],
   "source": [
    "len(totol_list)"
   ]
  },
  {
   "cell_type": "code",
   "execution_count": 6,
   "id": "b3e6705d",
   "metadata": {},
   "outputs": [],
   "source": [
    "df_SUMMAY = pd.DataFrame(totol_list)"
   ]
  },
  {
   "cell_type": "code",
   "execution_count": 7,
   "id": "637a0ef7",
   "metadata": {},
   "outputs": [],
   "source": [
    "df_SUMMAY.to_csv(\"df_SUMMAY.csv\")  ### 질병 관련 내용만 추출"
   ]
  },
  {
   "cell_type": "code",
   "execution_count": null,
   "id": "22285781",
   "metadata": {},
   "outputs": [],
   "source": []
  },
  {
   "cell_type": "raw",
   "id": "466f1173",
   "metadata": {},
   "source": []
  },
  {
   "cell_type": "markdown",
   "id": "7e68c18f",
   "metadata": {},
   "source": [
    "연구 목적에 따라서 필요한 부분만 Check함\n",
    "\n",
    "우리 연구의 경우 'v'로 표기함"
   ]
  },
  {
   "cell_type": "code",
   "execution_count": 11,
   "id": "b4487b63",
   "metadata": {},
   "outputs": [],
   "source": [
    "df_D = pd.read_csv(\"df_SUMMAY_Check.csv\")"
   ]
  },
  {
   "cell_type": "code",
   "execution_count": 12,
   "id": "99f501ef",
   "metadata": {},
   "outputs": [],
   "source": [
    "Select_disease = df_D[df_D['Check'] == 'v'].disease"
   ]
  },
  {
   "cell_type": "code",
   "execution_count": 13,
   "id": "6bef8bc1",
   "metadata": {},
   "outputs": [],
   "source": [
    "Select_disease_list = list(Select_disease)"
   ]
  },
  {
   "cell_type": "raw",
   "id": "9344b425",
   "metadata": {},
   "source": [
    "disease_list = []\n",
    "\n",
    "for i in range(0,len(Select_disease_list)):\n",
    "    word = Select_disease_list[i].strip()\n",
    "    disease_list.append(word)"
   ]
  },
  {
   "cell_type": "code",
   "execution_count": 14,
   "id": "8b269b30",
   "metadata": {},
   "outputs": [
    {
     "data": {
      "text/plain": [
       "[' Acute respiratory distress  syndrome (ARDS)',\n",
       " ' lung (small cell) (SCLC) (extensive)',\n",
       " ' lung (non-small ',\n",
       " ' Respiratory/thoracic cancer',\n",
       " ' NSCLC)',\n",
       " ' lung (non-small cell)  (NSCLC). Cancer',\n",
       " 'Acute respiratory distress syndrome (ARDS)',\n",
       " ' Lung Diseases',\n",
       " 'Atopic Asthma',\n",
       " ' Interstitial lung diseases',\n",
       " 'Allergy. Arthritis. Asthma. Autoimmune disease. Cancer. Cancer',\n",
       " 'Asthma',\n",
       " ' lung (non-small cell)  (NSCLC) (adenocarcinoma)',\n",
       " ' lung (non-small cell) (NSCLC) metastatic',\n",
       " ' non-small cell)  (NSCLC)',\n",
       " 'Asthma. Autoimmune disease. Cancer. Cancer thyroid',\n",
       " ' lung (non-small cell)  (NSCLC)',\n",
       " ' Chronic obstructive pulmonary  disease (COPD)',\n",
       " 'Chronic Airway Diseases',\n",
       " ' ell)  (NSCLC)',\n",
       " ' lung (small cell) (SCLC)  (extensive)',\n",
       " ' lung (non-small cell)  (NSCLC) metastatic',\n",
       " ' lung (non-small cell)  (NSCLC) (squamous cell ',\n",
       " ' lung (non-small cell)  (NSCLC) ',\n",
       " ' pulmonary',\n",
       " ' ulmonary  disease (COPD)',\n",
       " ' Idiopathic pulmonary fibrosis',\n",
       " ' lung (non-small cell)  (NSCLC) metastatic. Cancer',\n",
       " 'Group B Streptococcal Pneumonia',\n",
       " ' unspecified; Asthma; Attenuated coronary flow reserve and myocardial dysfunction; Chronic bronchitis; Chronic obstructive pulmonary disease',\n",
       " ' lung (small cell) (SCLC). Cancer',\n",
       " ' lung (non-small cell) (NSCLC)',\n",
       " ' Asthma']"
      ]
     },
     "execution_count": 14,
     "metadata": {},
     "output_type": "execute_result"
    }
   ],
   "source": [
    "Select_disease_list"
   ]
  },
  {
   "cell_type": "markdown",
   "id": "1e960b79",
   "metadata": {},
   "source": [
    "해당 내용을 보고 깔끔하게 정리함.\n",
    "\n",
    "중복을 제거하고, cell, small같이 정확하게 질변을 특정짖기 힘든 단어를 걸러냄"
   ]
  },
  {
   "cell_type": "code",
   "execution_count": 16,
   "id": "397700ec",
   "metadata": {},
   "outputs": [],
   "source": [
    "disease_list = ['ARDS',\n",
    "                'SCLC',\n",
    "                'lung',\n",
    "                'Respiratory/thoracic cancer',\n",
    "                'NSCLC',\n",
    "                'Acute respiratory distress syndrome',\n",
    "                'Lung',\n",
    "                'Atopic',\n",
    "                'Asthma',\n",
    "                'Allergy','COPD',\n",
    "                'Chronic obstructive pulmonary disease',\n",
    "                'Chronic Airway Diseases',\n",
    "                'pulmonary',\n",
    "                'Idiopathic pulmonary fibrosis'\n",
    "                'Group B Streptococcal Pneumonia',\n",
    "                'Chronic bronchitis',\n",
    "                'Chronic obstructive pulmonary disease']"
   ]
  },
  {
   "cell_type": "raw",
   "id": "d3c57a7f",
   "metadata": {},
   "source": [
    "해당 글자 list가 표기된 PDBID를 추출하는 작업"
   ]
  },
  {
   "cell_type": "code",
   "execution_count": 17,
   "id": "88977638",
   "metadata": {},
   "outputs": [],
   "source": [
    "TOTAL_PDB_LIST = []\n",
    "Col = 1\n",
    "\n",
    "for Col in range(1,df.shape[1]):\n",
    "    for i in range(0,len(disease_list)):\n",
    "        PDB_LIST=df[df[Col].str.contains(disease_list[i],na=False)][0].tolist()\n",
    "        TOTAL_PDB_LIST = list(set(TOTAL_PDB_LIST + PDB_LIST))\n",
    "    if i == len(disease_list):\n",
    "        Col+1\n",
    "TOTAL_PDB_LIST.sort()"
   ]
  },
  {
   "cell_type": "code",
   "execution_count": 18,
   "id": "589e88dc",
   "metadata": {},
   "outputs": [],
   "source": [
    "TOTAL_PDB_LIST_PD = pd.DataFrame(TOTAL_PDB_LIST)"
   ]
  },
  {
   "cell_type": "code",
   "execution_count": 19,
   "id": "d54eefa9",
   "metadata": {},
   "outputs": [],
   "source": [
    "TOTAL_PDB_LIST_PD.to_csv(\"TOTAL_PDB_LIST_PD.csv\")"
   ]
  },
  {
   "cell_type": "code",
   "execution_count": null,
   "id": "4de8c299",
   "metadata": {},
   "outputs": [],
   "source": []
  }
 ],
 "metadata": {
  "kernelspec": {
   "display_name": "Python 3 (ipykernel)",
   "language": "python",
   "name": "python3"
  },
  "language_info": {
   "codemirror_mode": {
    "name": "ipython",
    "version": 3
   },
   "file_extension": ".py",
   "mimetype": "text/x-python",
   "name": "python",
   "nbconvert_exporter": "python",
   "pygments_lexer": "ipython3",
   "version": "3.9.7"
  }
 },
 "nbformat": 4,
 "nbformat_minor": 5
}
