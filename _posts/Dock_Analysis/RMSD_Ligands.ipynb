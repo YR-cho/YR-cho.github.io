{
 "cells": [
  {
   "cell_type": "code",
   "execution_count": 1,
   "id": "5a9bc250",
   "metadata": {},
   "outputs": [],
   "source": [
    "from rdkit import Chem\n",
    "from rdkit.Chem import AllChem"
   ]
  },
  {
   "cell_type": "code",
   "execution_count": 2,
   "id": "727740d4",
   "metadata": {},
   "outputs": [
    {
     "name": "stdout",
     "output_type": "stream",
     "text": [
      "RMSD between ligand1 and ligand2: 1.31 Ångstroms\n"
     ]
    }
   ],
   "source": [
    "from rdkit import Chem\n",
    "from rdkit.Chem import AllChem\n",
    "\n",
    "# Load the SDF files\n",
    "sdf_file1 = \"DBA1.sdf\"\n",
    "sdf_file2 = \"DBA2.sdf\"\n",
    "\n",
    "# Load molecules from the SDF files\n",
    "mol1 = Chem.SDMolSupplier(sdf_file1)[0]\n",
    "mol2 = Chem.SDMolSupplier(sdf_file2)[0]\n",
    "\n",
    "# Check if molecules were loaded successfully\n",
    "if mol1 is not None and mol2 is not None:\n",
    "    # Generate conformers for the molecules\n",
    "    AllChem.EmbedMolecule(mol1, AllChem.ETKDG())\n",
    "    AllChem.EmbedMolecule(mol2, AllChem.ETKDG())\n",
    "\n",
    "    # Calculate the RMSD between the two conformers\n",
    "    rmsd = AllChem.GetBestRMS(mol1, mol2)\n",
    "\n",
    "    print(f\"RMSD between ligand1 and ligand2: {rmsd:.2f} Ångstroms\")\n",
    "else:\n",
    "    print(\"Error loading molecules from SDF files.\")"
   ]
  },
  {
   "cell_type": "code",
   "execution_count": null,
   "id": "4f039877",
   "metadata": {},
   "outputs": [],
   "source": []
  }
 ],
 "metadata": {
  "kernelspec": {
   "display_name": "Python 3",
   "language": "python",
   "name": "python3"
  },
  "language_info": {
   "codemirror_mode": {
    "name": "ipython",
    "version": 3
   },
   "file_extension": ".py",
   "mimetype": "text/x-python",
   "name": "python",
   "nbconvert_exporter": "python",
   "pygments_lexer": "ipython3",
   "version": "3.6.15"
  }
 },
 "nbformat": 4,
 "nbformat_minor": 5
}
