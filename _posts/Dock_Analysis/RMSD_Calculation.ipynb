{
 "cells": [
  {
   "cell_type": "code",
   "execution_count": 2,
   "id": "2bb759eb",
   "metadata": {},
   "outputs": [
    {
     "name": "stdout",
     "output_type": "stream",
     "text": [
      "RMSD: 13.444 Å\n"
     ]
    }
   ],
   "source": [
    "from rdkit import Chem\n",
    "import numpy as np\n",
    "\n",
    "def non_hydrogen_atoms(mol):\n",
    "    return [atom.GetIdx() for atom in mol.GetAtoms() if atom.GetSymbol() != 'H']\n",
    "\n",
    "# sdf 파일로부터 분자 로드\n",
    "mol1 = Chem.SDMolSupplier('3PYY_L1.sdf')[0]\n",
    "mol2 = Chem.SDMolSupplier('3PYY_L1_GLIDE.sdf')[0]\n",
    "\n",
    "# 수소가 아닌 원자의 인덱스를 얻습니다.\n",
    "non_hydrogen_mol1 = non_hydrogen_atoms(mol1)\n",
    "non_hydrogen_mol2 = non_hydrogen_atoms(mol2)\n",
    "\n",
    "# 원자 간의 거리를 계산하여 RMSD를 얻습니다.\n",
    "differences = []\n",
    "for idx1, idx2 in zip(non_hydrogen_mol1, non_hydrogen_mol2):\n",
    "    pos1 = np.array(mol1.GetConformer().GetAtomPosition(idx1))\n",
    "    pos2 = np.array(mol2.GetConformer().GetAtomPosition(idx2))\n",
    "    difference = np.linalg.norm(pos1 - pos2)\n",
    "    differences.append(difference)\n",
    "\n",
    "rmsd = np.sqrt(np.mean(np.square(differences)))\n",
    "\n",
    "print(f\"RMSD: {rmsd:.3f} Å\")"
   ]
  },
  {
   "cell_type": "code",
   "execution_count": null,
   "id": "55c12906",
   "metadata": {},
   "outputs": [],
   "source": []
  }
 ],
 "metadata": {
  "kernelspec": {
   "display_name": "Python 3",
   "language": "python",
   "name": "python3"
  },
  "language_info": {
   "codemirror_mode": {
    "name": "ipython",
    "version": 3
   },
   "file_extension": ".py",
   "mimetype": "text/x-python",
   "name": "python",
   "nbconvert_exporter": "python",
   "pygments_lexer": "ipython3",
   "version": "3.6.15"
  }
 },
 "nbformat": 4,
 "nbformat_minor": 5
}
