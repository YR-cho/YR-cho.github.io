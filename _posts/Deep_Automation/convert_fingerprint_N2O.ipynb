{
 "cells": [
  {
   "cell_type": "code",
   "execution_count": 1,
   "id": "2502c857",
   "metadata": {},
   "outputs": [],
   "source": [
    "import pandas as pd"
   ]
  },
  {
   "cell_type": "code",
   "execution_count": 23,
   "id": "0e8d0766",
   "metadata": {},
   "outputs": [
    {
     "name": "stderr",
     "output_type": "stream",
     "text": [
      "C:\\Users\\Public\\Documents\\ESTsoft\\CreatorTemp\\ipykernel_9316\\3297134334.py:4: DtypeWarning: Columns (609,632,636,641,667,668,669,670,675,676,677,748,750,752,776,789,816,821,848,856,857,858,859,1360,1362,1364,1367,1459,1461,1463,1466,1518,1527,1532,1537,1540,1541,1549,1550,1551,1552,1555,1585,1587,1589,1592,1594,1595,1596,1598,1599,1622,1626,1627,1631,1636,1657,1659,1660,1662,2090,2094,2095,2225,2230,2234,2261,2265,2266,2270,2275,2301,2302,2592,2605,2606,2607,2608,2609) have mixed types. Specify dtype option on import or set low_memory=False.\n",
      "  df = pd.read_csv('Inactive_3P0G.csv')  # 'your_file.csv'를 원하는 파일 경로로 변경하세요.\n"
     ]
    }
   ],
   "source": [
    "import pandas as pd\n",
    "\n",
    "df = pd.read_csv('Inactive_3P0G.csv') \n",
    "\n",
    "\n",
    "def update_cell(cell):\n",
    "    if pd.isnull(cell):  \n",
    "        return 0\n",
    "    elif '{' in str(cell):  \n",
    "        return 1\n",
    "    else:\n",
    "        return cell\n",
    "\n",
    "\n",
    "df = df.applymap(update_cell)\n",
    "\n",
    "df.to_csv('IF_3P0G.csv', index=False)  #\n"
   ]
  },
  {
   "cell_type": "code",
   "execution_count": null,
   "id": "e1795a7c",
   "metadata": {},
   "outputs": [],
   "source": []
  },
  {
   "cell_type": "code",
   "execution_count": null,
   "id": "f3bdaef2",
   "metadata": {},
   "outputs": [],
   "source": []
  },
  {
   "cell_type": "code",
   "execution_count": null,
   "id": "d8579cdc",
   "metadata": {},
   "outputs": [],
   "source": []
  },
  {
   "cell_type": "code",
   "execution_count": 27,
   "id": "478cb808",
   "metadata": {},
   "outputs": [],
   "source": [
    "import pandas as pd\n",
    "\n",
    "df = pd.read_csv('12.IF_6B73.result_IN.csv') \n",
    "\n",
    "result = df.groupby('Title')['DEEP'].max().reset_index()\n",
    "\n",
    "result.to_csv('Max_deep_values_6B73_IN.csv', index=False)\n"
   ]
  },
  {
   "cell_type": "code",
   "execution_count": 35,
   "id": "f8cac754",
   "metadata": {},
   "outputs": [],
   "source": [
    "import pandas as pd\n",
    "\n",
    "df = pd.read_csv('12.IF_3P0G.result.csv') \n",
    "\n",
    "df_filtered = df[df['DEEP'] >= 0.5]\n",
    "\n",
    "result = df_filtered.loc[df_filtered.groupby('Title')['DEEP'].idxmax()][['Title', 'DEEP', 'Score']]\n",
    "\n",
    "result.to_csv('Max_deep_values_3P0G_AC_SELECT.csv', index=False)\n"
   ]
  },
  {
   "cell_type": "code",
   "execution_count": null,
   "id": "ff0b6e8e",
   "metadata": {},
   "outputs": [],
   "source": []
  }
 ],
 "metadata": {
  "kernelspec": {
   "display_name": "Python 3 (ipykernel)",
   "language": "python",
   "name": "python3"
  },
  "language_info": {
   "codemirror_mode": {
    "name": "ipython",
    "version": 3
   },
   "file_extension": ".py",
   "mimetype": "text/x-python",
   "name": "python",
   "nbconvert_exporter": "python",
   "pygments_lexer": "ipython3",
   "version": "3.8.15"
  }
 },
 "nbformat": 4,
 "nbformat_minor": 5
}
