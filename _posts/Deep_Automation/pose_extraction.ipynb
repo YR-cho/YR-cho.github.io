{
 "cells": [
  {
   "cell_type": "code",
   "execution_count": 19,
   "id": "89a91fd3",
   "metadata": {},
   "outputs": [],
   "source": [
    "import pandas as pd\n",
    "# CSV 파일 읽기\n",
    "for file in file_list:\n",
    "    df = pd.read_csv('./Positive_Negative_Ratio_csv/'+file)\n",
    "    \n",
    "    # 0 이상 1 이하인 조건\n",
    "    cond1 = (df['r_i_glide_rmsd_to_input'] >= 0.0) & (df['r_i_glide_rmsd_to_input'] <= 1.0)\n",
    "    \n",
    "    # 1 초과 2 이하인 조건\n",
    "    cond2 = (df['r_i_glide_rmsd_to_input'] > 1.0) & (df['r_i_glide_rmsd_to_input'] <= 2.0)\n",
    "    \n",
    "    # 조건에 따라 데이터 추출\n",
    "    filtered_df1 = df[cond1]\n",
    "    filtered_df2 = df[cond2]\n",
    "    \n",
    "    \n",
    "    filtered_df1.to_csv('cond1_'+file, index=False)\n",
    "    filtered_df2.to_csv('cond2_'+file, index=False)"
   ]
  },
  {
   "cell_type": "code",
   "execution_count": 23,
   "id": "2e81435e",
   "metadata": {},
   "outputs": [],
   "source": [
    "import pandas as pd\n",
    "import os\n",
    "\n",
    "folder_path = './cond1'  # 폴더 경로 입력\n",
    "file_list = os.listdir(folder_path)  # 해당 폴더 내의 모든 파일 및 폴더 리스트\n",
    "\n",
    "# 파일만 필터링하여 리스트 생성\n",
    "file_list = [file for file in file_list if os.path.isfile(os.path.join(folder_path, file))]\n",
    "\n",
    "# 파일을 읽어서 데이터를 쌓을 빈 데이터프레임 생성\n",
    "df_concat = pd.DataFrame()\n",
    "\n",
    "# 파일 리스트를 순서대로 읽어들이면서 데이터를 쌓음\n",
    "for file_name in file_list:\n",
    "    file_path = os.path.join(folder_path, file_name)\n",
    "    df = pd.read_csv(file_path)\n",
    "    \n",
    "    # 데이터프레임을 데이터프레임 리스트에 추가\n",
    "    df_concat = pd.concat([df_concat, df], ignore_index=True, sort=False)\n",
    "\n",
    "# 쌓인 데이터프레임 출력\n",
    "\n",
    "df_concat_NA = df_concat.fillna(0)\n",
    "df_concat_NA.to_csv('cond1.csv', index=False)"
   ]
  },
  {
   "cell_type": "code",
   "execution_count": 24,
   "id": "8adb305f",
   "metadata": {},
   "outputs": [],
   "source": [
    "import pandas as pd\n",
    "import os\n",
    "\n",
    "folder_path = './cond2'  # 폴더 경로 입력\n",
    "file_list = os.listdir(folder_path)  # 해당 폴더 내의 모든 파일 및 폴더 리스트\n",
    "\n",
    "# 파일만 필터링하여 리스트 생성\n",
    "file_list = [file for file in file_list if os.path.isfile(os.path.join(folder_path, file))]\n",
    "\n",
    "# 파일을 읽어서 데이터를 쌓을 빈 데이터프레임 생성\n",
    "df_concat = pd.DataFrame()\n",
    "\n",
    "# 파일 리스트를 순서대로 읽어들이면서 데이터를 쌓음\n",
    "for file_name in file_list:\n",
    "    file_path = os.path.join(folder_path, file_name)\n",
    "    df = pd.read_csv(file_path)\n",
    "    \n",
    "    # 데이터프레임을 데이터프레임 리스트에 추가\n",
    "    df_concat = pd.concat([df_concat, df], ignore_index=True, sort=False)\n",
    "\n",
    "# 쌓인 데이터프레임 출력\n",
    "\n",
    "df_concat_NA = df_concat.fillna(0)\n",
    "df_concat_NA.to_csv('cond2.csv', index=False)"
   ]
  },
  {
   "cell_type": "code",
   "execution_count": null,
   "id": "afb8e9b0",
   "metadata": {},
   "outputs": [],
   "source": []
  }
 ],
 "metadata": {
  "kernelspec": {
   "display_name": "Python 3",
   "language": "python",
   "name": "python3"
  },
  "language_info": {
   "codemirror_mode": {
    "name": "ipython",
    "version": 3
   },
   "file_extension": ".py",
   "mimetype": "text/x-python",
   "name": "python",
   "nbconvert_exporter": "python",
   "pygments_lexer": "ipython3",
   "version": "3.6.15"
  }
 },
 "nbformat": 4,
 "nbformat_minor": 5
}
