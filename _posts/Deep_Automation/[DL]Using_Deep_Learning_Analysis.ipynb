{
 "cells": [
  {
   "cell_type": "markdown",
   "id": "afe8a360",
   "metadata": {},
   "source": [
    "### 00.Module Load"
   ]
  },
  {
   "cell_type": "code",
   "execution_count": 2,
   "id": "1f681eb1",
   "metadata": {},
   "outputs": [],
   "source": [
    "import re\n",
    "import pandas as pd\n",
    "import numpy as np\n",
    "import tensorflow as tf\n",
    "import keras\n",
    "import matplotlib.pyplot as plt"
   ]
  },
  {
   "cell_type": "code",
   "execution_count": 3,
   "id": "56b0fe87",
   "metadata": {},
   "outputs": [],
   "source": [
    "def DataConcate(Sample):\n",
    "    Deep_Matrix = pd.read_csv('./Data_Align/Data_Align_Residue.csv',low_memory=False)\n",
    "    Sample = Sample[[col for col in Sample.columns if col in Deep_Matrix.columns]]  ### Sample에서 기존에 없는 컬럼을 삭제\n",
    "    CON = pd.concat([Deep_Matrix, Sample], axis=0,ignore_index=True, sort=False).fillna(0)\n",
    "    Deep_Matrix_Sample = CON.iloc[:, 1:] ### Title 컬럼 제거\n",
    "    return Deep_Matrix_Sample"
   ]
  },
  {
   "cell_type": "markdown",
   "id": "63ec824c",
   "metadata": {},
   "source": [
    "### 01.Deep Learning Model Load"
   ]
  },
  {
   "cell_type": "code",
   "execution_count": 4,
   "id": "dfe4fecb",
   "metadata": {},
   "outputs": [],
   "source": [
    "#Model Ver 1\n",
    "model = tf.keras.models.load_model('my_model_Check')\n",
    "#Model Ver 2\n",
    "#model = tf.keras.models.load_model('Numbering_Model_200')"
   ]
  },
  {
   "cell_type": "markdown",
   "id": "d41165c4",
   "metadata": {},
   "source": [
    "### 02.DataLoad"
   ]
  },
  {
   "cell_type": "markdown",
   "id": "7fd8f88e",
   "metadata": {},
   "source": [
    "### 03.Using Model - 1"
   ]
  },
  {
   "cell_type": "code",
   "execution_count": 5,
   "id": "8912b3ff",
   "metadata": {},
   "outputs": [],
   "source": [
    "Sample = pd.read_csv('cond1.csv',low_memory=False)   ### Sample에 데이터 넣기\n",
    "Deep_Matrix_Sample = DataConcate(Sample)   ## DataConcate는 Def함수로 이미 정의함 Sample데이터를 이미 학습한 딥러닝 데이터의 shape에 맞춤\n",
    "### Shape(데이터의 컬럼10505)"
   ]
  },
  {
   "cell_type": "code",
   "execution_count": 6,
   "id": "44222f9e",
   "metadata": {},
   "outputs": [],
   "source": [
    "Prediction_array = model.predict(Deep_Matrix_Sample)"
   ]
  },
  {
   "cell_type": "code",
   "execution_count": 7,
   "id": "61283f60",
   "metadata": {},
   "outputs": [],
   "source": [
    "mask = Prediction_array[:, 0] > Prediction_array[:, 1]\n",
    "result = Prediction_array[mask]"
   ]
  },
  {
   "cell_type": "code",
   "execution_count": 8,
   "id": "b15eda34",
   "metadata": {},
   "outputs": [],
   "source": [
    "cond1 = result[:,0]"
   ]
  },
  {
   "cell_type": "code",
   "execution_count": 9,
   "id": "39977df4",
   "metadata": {},
   "outputs": [
    {
     "name": "stdout",
     "output_type": "stream",
     "text": [
      "Minimum value:  0.77527845\n",
      "Maximum value:  1.0\n",
      "Mean value:  0.9887099\n",
      "Standard deviation:  0.036099266\n"
     ]
    }
   ],
   "source": [
    "print(\"Minimum value: \", np.min(cond1))\n",
    "print(\"Maximum value: \", np.max(cond1))\n",
    "print(\"Mean value: \", np.mean(cond1))\n",
    "print(\"Standard deviation: \", np.std(cond1))"
   ]
  },
  {
   "cell_type": "code",
   "execution_count": 17,
   "id": "f8151e23",
   "metadata": {},
   "outputs": [
    {
     "data": {
      "text/plain": [
       "50"
      ]
     },
     "execution_count": 17,
     "metadata": {},
     "output_type": "execute_result"
    }
   ],
   "source": [
    "len(cond1)"
   ]
  },
  {
   "cell_type": "code",
   "execution_count": null,
   "id": "578e68ef",
   "metadata": {},
   "outputs": [],
   "source": []
  },
  {
   "cell_type": "code",
   "execution_count": 10,
   "id": "b9af8752",
   "metadata": {},
   "outputs": [],
   "source": [
    "Sample = pd.read_csv('cond2.csv',low_memory=False)   ### Sample에 데이터 넣기\n",
    "Deep_Matrix_Sample = DataConcate(Sample)   ## DataConcate는 Def함수로 이미 정의함 Sample데이터를 이미 학습한 딥러닝 데이터의 shape에 맞춤\n",
    "### Shape(데이터의 컬럼10505)"
   ]
  },
  {
   "cell_type": "code",
   "execution_count": 11,
   "id": "0bca0a85",
   "metadata": {},
   "outputs": [],
   "source": [
    "Prediction_array = model.predict(Deep_Matrix_Sample)"
   ]
  },
  {
   "cell_type": "code",
   "execution_count": 12,
   "id": "af1da00d",
   "metadata": {},
   "outputs": [],
   "source": [
    "mask = Prediction_array[:, 0] > Prediction_array[:, 1]\n",
    "result = Prediction_array[mask]"
   ]
  },
  {
   "cell_type": "code",
   "execution_count": 13,
   "id": "f66278bb",
   "metadata": {},
   "outputs": [],
   "source": [
    "cond2 = result[:,0]"
   ]
  },
  {
   "cell_type": "code",
   "execution_count": 14,
   "id": "0e81d1cb",
   "metadata": {},
   "outputs": [
    {
     "name": "stdout",
     "output_type": "stream",
     "text": [
      "Minimum value:  0.019362986\n",
      "Maximum value:  1.0\n",
      "Mean value:  0.89068574\n",
      "Standard deviation:  0.23861566\n"
     ]
    }
   ],
   "source": [
    "print(\"Minimum value: \", np.min(cond2))\n",
    "print(\"Maximum value: \", np.max(cond2))\n",
    "print(\"Mean value: \", np.mean(cond2))\n",
    "print(\"Standard deviation: \", np.std(cond2))"
   ]
  },
  {
   "cell_type": "code",
   "execution_count": 18,
   "id": "3bc7a89f",
   "metadata": {},
   "outputs": [
    {
     "data": {
      "text/plain": [
       "79"
      ]
     },
     "execution_count": 18,
     "metadata": {},
     "output_type": "execute_result"
    }
   ],
   "source": [
    "len(cond2)"
   ]
  },
  {
   "cell_type": "code",
   "execution_count": 32,
   "id": "bbc89531",
   "metadata": {},
   "outputs": [
    {
     "name": "stderr",
     "output_type": "stream",
     "text": [
      "C:\\Users\\AMD\\.conda\\envs\\QM_DEEP\\lib\\site-packages\\numpy\\core\\_asarray.py:83: VisibleDeprecationWarning: Creating an ndarray from ragged nested sequences (which is a list-or-tuple of lists-or-tuples-or ndarrays with different lengths or shapes) is deprecated. If you meant to do this, you must specify 'dtype=object' when creating the ndarray\n",
      "  return array(a, dtype, copy=False, order=order)\n"
     ]
    },
    {
     "data": {
      "image/png": "[encoded data removed]",
      "text/plain": [
       "<Figure size 432x288 with 1 Axes>"
      ]
     },
     "metadata": {
      "needs_background": "light"
     },
     "output_type": "display_data"
    }
   ],
   "source": [
    "import numpy as np\n",
    "import matplotlib.pyplot as plt\n",
    "plt.rcParams['font.family'] = 'Times New Roman'\n",
    "# 두 개의 데이터셋 생성\n",
    "data1 = np.array(cond1, dtype=object)\n",
    "data2 = np.array(cond2, dtype=object)\n",
    "\n",
    "# 4분위 박스 플롯 그리기\n",
    "fig, ax = plt.subplots()\n",
    "ax.boxplot([data1, data2], labels=['Range 1', 'Range 2'])\n",
    "\n",
    "plt.show()"
   ]
  },
  {
   "cell_type": "code",
   "execution_count": 21,
   "id": "d1044e8a",
   "metadata": {},
   "outputs": [
    {
     "name": "stderr",
     "output_type": "stream",
     "text": [
      "C:\\Users\\AMD\\.conda\\envs\\QM_DEEP\\lib\\site-packages\\numpy\\core\\_asarray.py:83: VisibleDeprecationWarning: Creating an ndarray from ragged nested sequences (which is a list-or-tuple of lists-or-tuples-or ndarrays with different lengths or shapes) is deprecated. If you meant to do this, you must specify 'dtype=object' when creating the ndarray\n",
      "  return array(a, dtype, copy=False, order=order)\n"
     ]
    },
    {
     "data": {
      "image/png": "[encoded data removed]",
      "text/plain": [
       "<Figure size 432x288 with 1 Axes>"
      ]
     },
     "metadata": {
      "needs_background": "light"
     },
     "output_type": "display_data"
    }
   ],
   "source": [
    "import numpy as np\n",
    "import matplotlib.pyplot as plt\n",
    "\n",
    "# 두 개의 데이터셋 생성\n",
    "data1 = np.array(cond1, dtype=object)\n",
    "data2 = np.array(cond2, dtype=object)\n",
    "\n",
    "# 4분위 박스 플롯 그리기\n",
    "fig, ax = plt.subplots()\n",
    "ax.boxplot([data1, data2])\n",
    "ax.set_xlim(0.5, 1.5)\n",
    "ax.set_ylim(-5, 5)\n",
    "plt.show()"
   ]
  },
  {
   "cell_type": "code",
   "execution_count": 22,
   "id": "6a285702",
   "metadata": {},
   "outputs": [
    {
     "data": {
      "image/png": "[encoded data removed]",
      "text/plain": [
       "<Figure size 432x288 with 1 Axes>"
      ]
     },
     "metadata": {
      "needs_background": "light"
     },
     "output_type": "display_data"
    }
   ],
   "source": [
    "import numpy as np\n",
    "import matplotlib.pyplot as plt\n",
    "\n",
    "# 두 개의 데이터셋 생성\n",
    "data1 = np.random.randn(100)\n",
    "data2 = np.random.randn(100)\n",
    "\n",
    "# 4분위 박스 플롯 그리기\n",
    "fig, ax = plt.subplots()\n",
    "ax.boxplot([data1, data2])\n",
    "\n",
    "plt.show()\n"
   ]
  },
  {
   "cell_type": "code",
   "execution_count": null,
   "id": "cb419947",
   "metadata": {},
   "outputs": [],
   "source": []
  },
  {
   "cell_type": "code",
   "execution_count": null,
   "id": "4d6bda7b",
   "metadata": {},
   "outputs": [],
   "source": []
  },
  {
   "cell_type": "code",
   "execution_count": null,
   "id": "7ddf90a3",
   "metadata": {},
   "outputs": [],
   "source": []
  },
  {
   "cell_type": "code",
   "execution_count": null,
   "id": "c2fed6fe",
   "metadata": {},
   "outputs": [],
   "source": []
  },
  {
   "cell_type": "code",
   "execution_count": null,
   "id": "1f0d2f1a",
   "metadata": {},
   "outputs": [],
   "source": []
  },
  {
   "cell_type": "code",
   "execution_count": null,
   "id": "1bcd7641",
   "metadata": {},
   "outputs": [],
   "source": []
  },
  {
   "cell_type": "code",
   "execution_count": null,
   "id": "b484da44",
   "metadata": {},
   "outputs": [],
   "source": []
  },
  {
   "cell_type": "code",
   "execution_count": null,
   "id": "f1f94a89",
   "metadata": {},
   "outputs": [],
   "source": []
  }
 ],
 "metadata": {
  "kernelspec": {
   "display_name": "Python 3",
   "language": "python",
   "name": "python3"
  },
  "language_info": {
   "codemirror_mode": {
    "name": "ipython",
    "version": 3
   },
   "file_extension": ".py",
   "mimetype": "text/x-python",
   "name": "python",
   "nbconvert_exporter": "python",
   "pygments_lexer": "ipython3",
   "version": "3.6.15"
  }
 },
 "nbformat": 4,
 "nbformat_minor": 5
}
