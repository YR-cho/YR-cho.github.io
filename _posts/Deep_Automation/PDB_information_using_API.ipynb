{
 "cells": [
  {
   "cell_type": "code",
   "execution_count": 2,
   "id": "8e220149",
   "metadata": {},
   "outputs": [
    {
     "name": "stdout",
     "output_type": "stream",
     "text": [
      "PDB ID: 3e3p, Experimental Method: X-RAY DIFFRACTION, Resolution: [2.0]\n",
      "PDB ID: 3e33, Experimental Method: X-RAY DIFFRACTION, Resolution: [1.9]\n"
     ]
    }
   ],
   "source": [
    "import requests\n",
    "\n",
    "pdb_ids = [\"3e3p\", \"3e33\"]\n",
    "\n",
    "api_base_url = \"https://data.rcsb.org/rest/v1/core/entry/\"\n",
    "\n",
    "for pdb_id in pdb_ids:\n",
    "    api_url = f\"{api_base_url}{pdb_id}\"\n",
    "\n",
    "    response = requests.get(api_url)\n",
    "\n",
    "    if response.status_code == 200:\n",
    "        data = response.json()\n",
    "        exp_method = data[\"exptl\"][0][\"method\"]\n",
    "\n",
    "        if \"rcsb_entry_info\" in data:\n",
    "            if \"resolution_combined\" in data[\"rcsb_entry_info\"]:\n",
    "                resolution = data[\"rcsb_entry_info\"][\"resolution_combined\"]\n",
    "            else:\n",
    "                resolution = \"Resolution not found\"\n",
    "        else:\n",
    "            resolution = \"Resolution not found\"\n",
    "\n",
    "        print(f\"PDB ID: {pdb_id}, Experimental Method: {exp_method}, Resolution: {resolution}\")\n",
    "    else:\n",
    "        print(f\"Error: Could not fetch data for PDB ID {pdb_id}\")"
   ]
  },
  {
   "cell_type": "code",
   "execution_count": null,
   "id": "6fef2f74",
   "metadata": {},
   "outputs": [],
   "source": []
  }
 ],
 "metadata": {
  "kernelspec": {
   "display_name": "Python 3",
   "language": "python",
   "name": "python3"
  },
  "language_info": {
   "codemirror_mode": {
    "name": "ipython",
    "version": 3
   },
   "file_extension": ".py",
   "mimetype": "text/x-python",
   "name": "python",
   "nbconvert_exporter": "python",
   "pygments_lexer": "ipython3",
   "version": "3.6.15"
  }
 },
 "nbformat": 4,
 "nbformat_minor": 5
}
