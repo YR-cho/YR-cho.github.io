{
 "cells": [
  {
   "cell_type": "code",
   "execution_count": 37,
   "id": "39217942",
   "metadata": {},
   "outputs": [
    {
     "name": "stdout",
     "output_type": "stream",
     "text": [
      "Binding affinity for PDBID 3E33:\n",
      "['FPP', 'BindingDB:\\xa0 3E33', 'Kd:\\xa02\\xa0(nM) from 1 assay(s)', 'ED7', 'BindingDB:\\xa0 3E33', 'IC50:\\xa0160\\xa0(nM) from 1 assay(s)']\n",
      "Binding affinity for PDBID 1A84:\n",
      "No binding affinity data found.\n",
      "[]\n",
      "Binding affinity for PDBID 2X8X:\n",
      "No binding affinity data found.\n",
      "[]\n",
      "Binding affinity for PDBID 6DE4:\n",
      "['G6Y', 'BindingDB:\\xa0 6DE4', 'Ki:\\xa0234\\xa0(nM) from 1 assay(s)']\n"
     ]
    }
   ],
   "source": [
    "from bs4 import BeautifulSoup\n",
    "from selenium import webdriver\n",
    "from selenium.webdriver.chrome.options import Options\n",
    "\n",
    "def get_binding_affinity(pdbid):\n",
    "    url = f\"https://www.rcsb.org/structure/{pdbid}\"\n",
    "    \n",
    "    # 웹 드라이버 경로를 지정\n",
    "    webdriver_path = \"C:/Users/QMMM/Downloads/chromedriver_win32/chromedriver.exe\"\n",
    "    \n",
    "    # 옵션 설정\n",
    "    chrome_options = Options()\n",
    "    chrome_options.add_argument(\"--headless\")  # 창이 나타나지 않도록 설정\n",
    "\n",
    "    driver = webdriver.Chrome(executable_path=webdriver_path, options=chrome_options)\n",
    "    driver.get(url)\n",
    "    \n",
    "    soup = BeautifulSoup(driver.page_source, 'html.parser')\n",
    "    \n",
    "    results = []\n",
    "    binding_affinity_table = soup.find(\"table\", {\"id\": \"binding-affinity-table\"})\n",
    "        \n",
    "    if binding_affinity_table:\n",
    "        table_rows = binding_affinity_table.find_all(\"tr\")\n",
    "        for row in table_rows:\n",
    "            columns = row.find_all(\"td\")\n",
    "            for column in columns:\n",
    "                results.append(column.text.strip())\n",
    "    else:\n",
    "        print(\"No binding affinity data found.\")\n",
    "    \n",
    "    driver.quit()\n",
    "    return results\n",
    "\n",
    "# PDBID 리스트를 정의\n",
    "pdbids = [\"3E33\", \"1A84\", \"2X8X\", \"6DE4\"]\n",
    "\n",
    "# 결과를 저장할 파일 열기\n",
    "with open(\"binding_affinity_extraction.txt\", \"w\", encoding='utf-8') as output_file:\n",
    "\n",
    "    # 각 PDBID에 대해 함수를 호출\n",
    "    for pdbid in pdbids:\n",
    "        print(f\"Binding affinity for PDBID {pdbid}:\")\n",
    "        results = get_binding_affinity(pdbid)\n",
    "        print(results)\n",
    "        \n",
    "        # 결과를 txt 파일에 저장\n",
    "        output_file.write(f\"Binding affinity for PDBID {pdbid}:\\n\")\n",
    "        for result in results:\n",
    "            output_file.write(f\"{result}\\n\")\n",
    "        \n",
    "        output_file.write(\"=============================\\n\")\n"
   ]
  },
  {
   "cell_type": "code",
   "execution_count": null,
   "id": "6909d57e",
   "metadata": {},
   "outputs": [],
   "source": []
  }
 ],
 "metadata": {
  "kernelspec": {
   "display_name": "Python 3 (ipykernel)",
   "language": "python",
   "name": "python3"
  },
  "language_info": {
   "codemirror_mode": {
    "name": "ipython",
    "version": 3
   },
   "file_extension": ".py",
   "mimetype": "text/x-python",
   "name": "python",
   "nbconvert_exporter": "python",
   "pygments_lexer": "ipython3",
   "version": "3.8.15"
  }
 },
 "nbformat": 4,
 "nbformat_minor": 5
}
