{
 "cells": [
  {
   "cell_type": "markdown",
   "id": "19a72265",
   "metadata": {},
   "source": [
    "# Entropy Calculation from MM-GBSA data"
   ]
  },
  {
   "cell_type": "markdown",
   "id": "ad1bab52",
   "metadata": {},
   "source": [
    "## Ref : JACS, 138, 5722"
   ]
  },
  {
   "cell_type": "raw",
   "id": "b56c1364",
   "metadata": {},
   "source": [
    "Code Developer : Yeongrae Cho"
   ]
  },
  {
   "cell_type": "code",
   "execution_count": 6,
   "id": "053baa55",
   "metadata": {},
   "outputs": [
    {
     "name": "stdout",
     "output_type": "stream",
     "text": [
      "The estimated -TΔS is: 64.7421 kcal/mol\n",
      "The average Sol energy is: -138.5868 kcal/mol\n",
      "The average E_pl^int is: 28.6300 kcal/mol\n",
      "The total is: -45.2147 kcal/mol\n"
     ]
    }
   ],
   "source": [
    "import pandas as pd\n",
    "import numpy as np\n",
    "\n",
    "# csv 파일 읽기\n",
    "data = pd.read_csv('IB3-T1-C4_conf1_POC_group.csv')\n",
    "\n",
    "# r_psp_MMGBSA_dG_Bind 컬럼 값을 E_pl^int로 사용\n",
    "data['E_pl^int'] =  (data['r_psp_MMGBSA_dG_Bind_Coulomb']+\n",
    "                    data['r_psp_MMGBSA_dG_Bind_Covalent']+\n",
    "                    data['r_psp_MMGBSA_dG_Bind_Hbond']+\n",
    "                    data['r_psp_MMGBSA_dG_Bind_Lipo']+\n",
    "                    data['r_psp_MMGBSA_dG_Bind_Packing']+\n",
    "                    data['r_psp_MMGBSA_dG_Bind_vdW'])\n",
    "\n",
    "# 시간에 따른 E_pl^int의 평균을 계산\n",
    "E_pl_mean = data['E_pl^int'].mean()\n",
    "\n",
    "# ΔE_pl^int 계산\n",
    "data['ΔE_pl^int'] = data['E_pl^int'] - E_pl_mean\n",
    "\n",
    "# The values γ and β we used in the calculation are the standard values of 0.00542 kcal/(mol·Å2) and 0.92 kcal/mol, respectively. \n",
    "beta = 0.92\n",
    "\n",
    "# e^(βΔE_pl^int)의 평균 계산\n",
    "avg_exp_term = np.mean(np.exp(beta * data['ΔE_pl^int']))\n",
    "\n",
    "# -TΔS 계산 (T는 온도, 예시로 298.15 K로 설정)\n",
    "T = 300\n",
    "K = 0.0019872041  # Boltzmann constant in kcal/mol*K\n",
    "negative_T_delta_S = K * T * np.log(avg_exp_term)\n",
    "\n",
    "# Sol 데이터 출력\n",
    "sol_avg = data['r_psp_MMGBSA_dG_Bind_Solv_GB'].mean()\n",
    "\n",
    "# 3개의 값 합산\n",
    "total = negative_T_delta_S + sol_avg + E_pl_mean\n",
    "\n",
    "print(f\"The estimated -TΔS is: {negative_T_delta_S:.4f} kcal/mol\")\n",
    "print(f\"The average Sol energy is: {sol_avg:.4f} kcal/mol\")\n",
    "print(f\"The average E_pl^int is: {E_pl_mean:.4f} kcal/mol\")\n",
    "print(f\"The total is: {total:.4f} kcal/mol\")"
   ]
  },
  {
   "cell_type": "code",
   "execution_count": null,
   "id": "bfc12a2f",
   "metadata": {},
   "outputs": [],
   "source": []
  },
  {
   "cell_type": "code",
   "execution_count": null,
   "id": "c7e4ebce",
   "metadata": {},
   "outputs": [],
   "source": []
  },
  {
   "cell_type": "code",
   "execution_count": null,
   "id": "b0d7b8cb",
   "metadata": {},
   "outputs": [],
   "source": []
  }
 ],
 "metadata": {
  "kernelspec": {
   "display_name": "Python 3 (ipykernel)",
   "language": "python",
   "name": "python3"
  },
  "language_info": {
   "codemirror_mode": {
    "name": "ipython",
    "version": 3
   },
   "file_extension": ".py",
   "mimetype": "text/x-python",
   "name": "python",
   "nbconvert_exporter": "python",
   "pygments_lexer": "ipython3",
   "version": "3.12.4"
  }
 },
 "nbformat": 4,
 "nbformat_minor": 5
}
