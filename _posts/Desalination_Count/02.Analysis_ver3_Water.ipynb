{
 "cells": [
  {
   "cell_type": "code",
   "execution_count": 1,
   "id": "3787739a",
   "metadata": {},
   "outputs": [],
   "source": [
    "import string\n",
    "import sys\n",
    "import pandas as pd\n",
    "from pandas import DataFrame\n",
    "import os\n",
    "import natsort\n",
    "import matplotlib.pyplot as plt"
   ]
  },
  {
   "cell_type": "markdown",
   "id": "f96f4ba0",
   "metadata": {},
   "source": [
    "## 데이터 취합"
   ]
  },
  {
   "cell_type": "markdown",
   "id": "2d03fe98",
   "metadata": {},
   "source": [
    "### 001.데이터 작업할 폴더 리스트로 만들기"
   ]
  },
  {
   "cell_type": "code",
   "execution_count": 5,
   "id": "facacfcf",
   "metadata": {},
   "outputs": [],
   "source": [
    "import os\n",
    "\n",
    "folder_path = './'  # 폴더 경로를 지정하세요\n",
    "folder_list = []\n",
    "\n",
    "for folder_name in os.listdir(folder_path):\n",
    "    if os.path.isdir(os.path.join(folder_path, folder_name)):\n",
    "        folder_list.append(folder_name)\n",
    "        \n",
    "del folder_list[0] ### .ipynb_checkpoints 파일 지우기 용도"
   ]
  },
  {
   "cell_type": "code",
   "execution_count": null,
   "id": "d051038f",
   "metadata": {},
   "outputs": [],
   "source": []
  },
  {
   "cell_type": "markdown",
   "id": "3877bd05",
   "metadata": {},
   "source": [
    "### 002. MD 에서 Frame단위로 있던 자료를 순차적으로 적제하기"
   ]
  },
  {
   "cell_type": "code",
   "execution_count": 7,
   "id": "7dd90266",
   "metadata": {},
   "outputs": [],
   "source": [
    "for FA in folder_list:\n",
    "    file_path = './'+FA+'/'\n",
    "    file_names = os.listdir(file_path)\n",
    "    file_names\n",
    "    after_order_list = natsort.natsorted(file_names)\n",
    "    \n",
    "    SUM_DATA = None\n",
    "    SUM_DATA = pd.DataFrame()  # 빈 데이터프레임으로 초기화\n",
    "    for i in after_order_list:\n",
    "        DATA = pd.read_csv(str(file_path+i),header=None)\n",
    "        SUM_DATA = pd.concat([SUM_DATA, DATA],axis=0,ignore_index=True)\n",
    "    \n",
    "    SUM_DATA.columns = [\"1.0A\",\"1.5A\",\"2.0A\",\"2.5A\",\"3.0A\",\"3.5A\",\"4.0A\",\"4.5A\",\"5.0A\",\"5.5A\",\"6.0A\",\"6.5A\"]    \n",
    "    SUM_DATA.to_csv(file_path[2:-1]+\".csv\", mode='a', index=False)"
   ]
  },
  {
   "cell_type": "code",
   "execution_count": null,
   "id": "e56b6e83",
   "metadata": {},
   "outputs": [],
   "source": []
  },
  {
   "cell_type": "markdown",
   "id": "c6844151",
   "metadata": {},
   "source": [
    "## 데이터 분석"
   ]
  },
  {
   "cell_type": "markdown",
   "id": "a2f55d3e",
   "metadata": {},
   "source": [
    "### 001.데이터 작업할 CSV파일 list로 만들기"
   ]
  },
  {
   "cell_type": "code",
   "execution_count": 8,
   "id": "0db81c9d",
   "metadata": {},
   "outputs": [],
   "source": [
    "import os\n",
    "\n",
    "folder_path = './'  # 폴더 경로를 지정하세요\n",
    "csv_file_list = []\n",
    "\n",
    "for file_name in os.listdir(folder_path):\n",
    "    if file_name.endswith('.csv'):\n",
    "        csv_file_list.append(file_name)"
   ]
  },
  {
   "cell_type": "code",
   "execution_count": null,
   "id": "6407809c",
   "metadata": {},
   "outputs": [],
   "source": []
  },
  {
   "cell_type": "markdown",
   "id": "72a5e00e",
   "metadata": {},
   "source": [
    "### 002. CSV에 있는 데이터 평균을 구하고 합치기"
   ]
  },
  {
   "cell_type": "code",
   "execution_count": 10,
   "id": "d94afb7c",
   "metadata": {},
   "outputs": [],
   "source": [
    "mean_values = pd.DataFrame()  # 빈 데이터프레임으로 초기화\n",
    "\n",
    "for i in csv_file_list:\n",
    "    DATA = pd.read_csv(str(i))\n",
    "    mean_values = pd.concat([mean_values, DATA[19:].mean()], axis=1)\n",
    "    \n",
    "modified_list = [csv[3:-4] for csv in csv_file_list]    \n",
    "mean_values.columns = modified_list\n",
    "mean_values.to_csv(\"SUMMARY_WATER.csv\", mode='a')\n"
   ]
  },
  {
   "cell_type": "code",
   "execution_count": null,
   "id": "0d5a65c5",
   "metadata": {},
   "outputs": [],
   "source": []
  }
 ],
 "metadata": {
  "kernelspec": {
   "display_name": "Python 3 (ipykernel)",
   "language": "python",
   "name": "python3"
  },
  "language_info": {
   "codemirror_mode": {
    "name": "ipython",
    "version": 3
   },
   "file_extension": ".py",
   "mimetype": "text/x-python",
   "name": "python",
   "nbconvert_exporter": "python",
   "pygments_lexer": "ipython3",
   "version": "3.8.15"
  }
 },
 "nbformat": 4,
 "nbformat_minor": 5
}
