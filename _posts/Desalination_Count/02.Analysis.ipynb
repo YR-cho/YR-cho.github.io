{
 "cells": [
  {
   "cell_type": "code",
   "execution_count": 104,
   "id": "3787739a",
   "metadata": {},
   "outputs": [],
   "source": [
    "import string\n",
    "import sys\n",
    "import pandas as pd\n",
    "from pandas import DataFrame\n",
    "import os\n",
    "import natsort\n",
    "import matplotlib.pyplot as plt"
   ]
  },
  {
   "cell_type": "code",
   "execution_count": null,
   "id": "567c68a0",
   "metadata": {},
   "outputs": [],
   "source": []
  },
  {
   "cell_type": "code",
   "execution_count": 37,
   "id": "56cbdec5",
   "metadata": {},
   "outputs": [
    {
     "data": {
      "text/plain": [
       "'disordered_system_BMIM_Tf2N_HF_6-311Gps_TIP5P_NaCl_395_395_9000_all_components_amorphous_-_Frame_21.mol2_inner_1.csv'"
      ]
     },
     "execution_count": 37,
     "metadata": {},
     "output_type": "execute_result"
    }
   ],
   "source": [
    "file_path = './BMIM_Tf2N/BMIM_Tf2N_0.5M_300K'\n",
    "file_names = os.listdir(file_path)\n",
    "file_names\n",
    "after_order_list = natsort.natsorted(file_names)\n",
    "after_order_list[1]\n"
   ]
  },
  {
   "cell_type": "code",
   "execution_count": 103,
   "id": "03aeb85b",
   "metadata": {},
   "outputs": [],
   "source": [
    "file_path = './EMIM_Tf2N/EMIM_Tf2N_1.5M_353.15K'\n",
    "file_names = os.listdir(file_path)\n",
    "after_order_list = natsort.natsorted(file_names)\n",
    "\n",
    "\n",
    "\n",
    "SUM_DATA = None\n",
    "for i in after_order_list:\n",
    "    DATA = pd.read_csv(str(file_path+\"/\"+i), header=None)\n",
    "    SUM_DATA = pd.concat([SUM_DATA, DATA])\n",
    "SUM_DATA.columns = ['EMI','T2N','T5P','NA','CL']\n",
    "absorption = ((SUM_DATA['T5P']/3)*18.02)/(((SUM_DATA['EMI']/19)*111.17) + ((SUM_DATA['T2N']/15)*281.16) + ((SUM_DATA['T5P']/3)*18.02))*100\n",
    "SUM_DATA_Cal = pd.concat([SUM_DATA, absorption], axis=1)\n",
    "SUM_DATA_Cal.columns = ['EMI','T2N','T5P','NA','CL','Abs']\n",
    "\n",
    "SUM_DATA_Cal.to_csv(str(file_path[12:]) + \".csv\", mode='a', index=False)\n"
   ]
  },
  {
   "cell_type": "code",
   "execution_count": null,
   "id": "3c791f95",
   "metadata": {},
   "outputs": [],
   "source": []
  },
  {
   "cell_type": "code",
   "execution_count": null,
   "id": "facacfcf",
   "metadata": {},
   "outputs": [],
   "source": []
  },
  {
   "cell_type": "code",
   "execution_count": 158,
   "id": "d29ec57b",
   "metadata": {},
   "outputs": [],
   "source": [
    "rename_list = []\n",
    "for i in after_order_list:\n",
    "    rename_list.append(i[0:18])\n",
    "\n",
    "    #print(i[0:18])"
   ]
  },
  {
   "cell_type": "code",
   "execution_count": null,
   "id": "b916d45d",
   "metadata": {},
   "outputs": [],
   "source": []
  },
  {
   "cell_type": "code",
   "execution_count": 175,
   "id": "41365fbb",
   "metadata": {},
   "outputs": [],
   "source": [
    "file_path = './Analysis/'\n",
    "file_names = os.listdir(file_path)\n",
    "file_names\n",
    "after_order_list = natsort.natsorted(file_names)\n",
    "\n",
    "\n",
    "\n",
    "\n",
    "SUM_DATA = None\n",
    "for i in after_order_list:\n",
    "    DATA = pd.read_csv(str(file_path+i))\n",
    "    SUM_DATA = pd.concat([SUM_DATA, DATA[\"Abs\"]],axis=1)\n",
    "    \n",
    "rename_list = []\n",
    "for i in after_order_list:\n",
    "    rename_list.append(i[0:18])\n",
    "    \n",
    "\n",
    "SUM_DATA.columns = rename_list\n",
    "\n",
    "SUM_DATA.to_csv(\"SUMMARY.csv\", mode='a', index=False)"
   ]
  },
  {
   "cell_type": "code",
   "execution_count": null,
   "id": "f4bc933a",
   "metadata": {},
   "outputs": [],
   "source": []
  },
  {
   "cell_type": "code",
   "execution_count": null,
   "id": "6cae6558",
   "metadata": {},
   "outputs": [],
   "source": []
  }
 ],
 "metadata": {
  "kernelspec": {
   "display_name": "Python 3",
   "language": "python",
   "name": "python3"
  },
  "language_info": {
   "codemirror_mode": {
    "name": "ipython",
    "version": 3
   },
   "file_extension": ".py",
   "mimetype": "text/x-python",
   "name": "python",
   "nbconvert_exporter": "python",
   "pygments_lexer": "ipython3",
   "version": "3.8.5"
  }
 },
 "nbformat": 4,
 "nbformat_minor": 5
}
