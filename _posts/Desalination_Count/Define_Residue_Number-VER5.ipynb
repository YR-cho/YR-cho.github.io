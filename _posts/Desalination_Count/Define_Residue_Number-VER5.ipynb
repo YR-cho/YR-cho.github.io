{
 "cells": [
  {
   "cell_type": "code",
   "execution_count": 1,
   "id": "99a64ed3",
   "metadata": {},
   "outputs": [],
   "source": [
    "import pandas as pd\n",
    "import numpy as np\n",
    "\n",
    "#import rdkit\n",
    "#from rdkit import Chem\n",
    "\n",
    "import biopandas\n",
    "from biopandas.pdb import PandasPdb\n",
    "from biopandas.mol2 import PandasMol2\n",
    "\n",
    "import matplotlib.pyplot as plt\n",
    "from mpl_toolkits.mplot3d import Axes3D\n",
    "\n",
    "import sys\n",
    "from collections import Counter\n",
    "import time"
   ]
  },
  {
   "cell_type": "code",
   "execution_count": 2,
   "id": "7cff6cf3",
   "metadata": {},
   "outputs": [],
   "source": [
    "ANION_MOLECULE = \"T2N\"\n",
    "ANION_ATOM_COUNT = 15\n",
    "ANION_weight = 139.22\n",
    "\n",
    "CATION_MOLECULE = \"BMI\"\n",
    "CATION_ATOM_COUNT = 25\n",
    "CATION_weight = 281.16\n",
    "\n",
    "WATER_MOLECULE = \"T5P\"\n",
    "WATER_ATOM_COUNT = 3\n",
    "WATER_weight = 18.02\n",
    "\n",
    "\n",
    "SODIUM_ATOM = \"NA\"\n",
    "CHLORIDE_ATOM = \"CL\"\n",
    "\n",
    "SURFACE_RANGE = 5\n",
    "DIGGER_RANGE = 6"
   ]
  },
  {
   "cell_type": "code",
   "execution_count": 3,
   "id": "f859345f",
   "metadata": {},
   "outputs": [],
   "source": [
    "INPUT_FILE = \"./FILE/BOX_Bmim_Tf2N_0_5M_all_components_amorphous_-_Frame_51.mol2\"\n",
    "INPUT_FILE_PATH = \"./FILE/BOX_Bmim_Tf2N_0_5M_all_components_amorphous_-_Frame_51.mol2\""
   ]
  },
  {
   "cell_type": "code",
   "execution_count": 4,
   "id": "564846bd",
   "metadata": {},
   "outputs": [],
   "source": [
    "cnt = 0\n",
    "find_word = \"@<TRIPOS>BOND\"\n",
    "with open(INPUT_FILE, 'r') as file:    # hello.txt 파일을 읽기 모드(r)로 열기\n",
    "    line = None    # 변수 line을 None으로 초기화\n",
    "    while line != '':\n",
    "        line = file.readline()\n",
    "        cnt += 1\n",
    "        if \"@<TRIPOS>BOND\" in line:\n",
    "            FN = cnt\n",
    "            \n",
    "        if \"@<TRIPOS>SUBSTRUCTURE\" in line:\n",
    "            EN = cnt\n",
    "#===============================================================================           \n",
    "f = open(INPUT_FILE_PATH, 'r')\n",
    "F = f.readlines()[FN:EN-1]\n",
    "Bond_list = []\n",
    "for i in range(EN-FN-1):\n",
    "    DATA = F[int(i)].strip().split()\n",
    "    Bond_list.append(DATA)\n",
    "#===============================================================================  \n",
    "column_name=['Bond_Index', 'Bond_Atom1', 'Bond_Atom2', 'Bond_Case']\n",
    "Bond_Data_Frame = pd.DataFrame(Bond_list, columns = column_name)\n",
    "#===============================================================================\n",
    "Bond_Data_Frame = Bond_Data_Frame.astype({'Bond_Atom1': int, 'Bond_Atom2': int})"
   ]
  },
  {
   "cell_type": "code",
   "execution_count": 5,
   "id": "07fa65cb",
   "metadata": {},
   "outputs": [],
   "source": [
    "pmol = PandasMol2().read_mol2(INPUT_FILE_PATH)  ### input\n",
    "Total_system = pmol.df"
   ]
  },
  {
   "cell_type": "code",
   "execution_count": 6,
   "id": "64d6fcff",
   "metadata": {},
   "outputs": [],
   "source": [
    "condition = (pmol.df.subst_name == CATION_MOLECULE) \n",
    "Data_Selecte_subst_CATION = pmol.df[condition]\n",
    "Data_Selecte_subst_CATION_index = pmol.df[condition].index\n",
    "\n",
    "condition = (pmol.df.subst_name == ANION_MOLECULE) \n",
    "Data_Selecte_subst_ANION = pmol.df[condition]\n",
    "Data_Selecte_subst_ANION_index = pmol.df[condition].index\n",
    "\n",
    "condition = (pmol.df.subst_name == WATER_MOLECULE) \n",
    "Data_Selecte_subst_WATER = pmol.df[condition]\n",
    "Data_Selecte_subst_WATER_index = pmol.df[condition].index\n",
    "\n",
    "condition = (pmol.df.subst_name == SODIUM_ATOM) \n",
    "Data_Selecte_subst_NA = pmol.df[condition]\n",
    "Data_Selecte_subst_NA_index = pmol.df[condition].index\n",
    "\n",
    "\n",
    "condition = (pmol.df.subst_name == CHLORIDE_ATOM) \n",
    "Data_Selecte_subst_CL = pmol.df[condition]\n",
    "Data_Selecte_subst_CL_index = pmol.df[condition].index"
   ]
  },
  {
   "cell_type": "code",
   "execution_count": 7,
   "id": "5781fc4c",
   "metadata": {},
   "outputs": [],
   "source": [
    "CATION_Residue_LIST = []\n",
    "for i in range(1, int(len(Data_Selecte_subst_CATION_index)/CATION_ATOM_COUNT)+1):\n",
    "    ATOM_COUNT = 0  ## while 반복문 초기화\n",
    "    while ATOM_COUNT < 25:    ## 수치 적정 변수로 생각하기\n",
    "        CATION_Residue_LIST.append(\"CATION_Res_\"+str(i))\n",
    "        ATOM_COUNT = ATOM_COUNT+1\n",
    "        \n",
    "        \n",
    "ANION_Residue_LIST = []\n",
    "for i in range(1, int(len(Data_Selecte_subst_ANION_index)/ANION_ATOM_COUNT)+1):\n",
    "    ATOM_COUNT = 0  ## while 반복문 초기화\n",
    "    while ATOM_COUNT < 15:    ## 수치 적정 변수로 생각하기\n",
    "        ANION_Residue_LIST.append(\"ANION_Res_\"+str(i))\n",
    "        ATOM_COUNT = ATOM_COUNT+1       \n",
    "        \n",
    "        \n",
    "WATER_Residue_LIST = []\n",
    "for i in range(1, int(len(Data_Selecte_subst_WATER_index)/WATER_ATOM_COUNT)+1):\n",
    "    ATOM_COUNT = 0  ## while 반복문 초기화\n",
    "    while ATOM_COUNT < 3:    ## 수치 적정 변수로 생각하기\n",
    "        WATER_Residue_LIST.append(\"WATER_Res_\"+str(i))\n",
    "        ATOM_COUNT = ATOM_COUNT+1        \n",
    "        \n",
    "        \n",
    "NA_Residue_LIST = []\n",
    "for i in range(1, int(len(Data_Selecte_subst_NA_index)/1)+1):\n",
    "    ATOM_COUNT = 0  ## while 반복문 초기화\n",
    "    while ATOM_COUNT < 1:    ## 수치 적정 변수로 생각하기\n",
    "        NA_Residue_LIST.append(\"NA_Res_\"+str(i))\n",
    "        ATOM_COUNT = ATOM_COUNT+1        \n",
    "        \n",
    "        \n",
    "CL_Residue_LIST = []\n",
    "for i in range(1, int(len(Data_Selecte_subst_CL_index)/1)+1):\n",
    "    ATOM_COUNT = 0  ## while 반복문 초기화\n",
    "    while ATOM_COUNT < 1:    ## 수치 적정 변수로 생각하기\n",
    "        CL_Residue_LIST.append(\"CL_Res_\"+str(i))\n",
    "        ATOM_COUNT = ATOM_COUNT+1        "
   ]
  },
  {
   "cell_type": "code",
   "execution_count": 8,
   "id": "ff7b879f",
   "metadata": {},
   "outputs": [],
   "source": [
    "SYSTEM_Reside_LIST = CATION_Residue_LIST + ANION_Residue_LIST + WATER_Residue_LIST + NA_Residue_LIST + CL_Residue_LIST"
   ]
  },
  {
   "cell_type": "code",
   "execution_count": 9,
   "id": "4a321e1e",
   "metadata": {},
   "outputs": [],
   "source": [
    "SYSTEM_Reside_DF = pd.DataFrame(SYSTEM_Reside_LIST)\n",
    "SYSTEM_Reside_DF.columns=[\"Residue_number\"]"
   ]
  },
  {
   "cell_type": "code",
   "execution_count": null,
   "id": "b94eb0e8",
   "metadata": {},
   "outputs": [],
   "source": []
  },
  {
   "cell_type": "code",
   "execution_count": 10,
   "id": "03e54c58",
   "metadata": {},
   "outputs": [],
   "source": [
    "Total_system_SYSTEM_Reside_DF = pd.concat([Total_system,SYSTEM_Reside_DF],axis=1)"
   ]
  },
  {
   "cell_type": "code",
   "execution_count": null,
   "id": "f96cf4b4",
   "metadata": {},
   "outputs": [],
   "source": []
  },
  {
   "cell_type": "code",
   "execution_count": 11,
   "id": "0368f915",
   "metadata": {},
   "outputs": [],
   "source": [
    "### 1. 특정 ATOM을 선택하면 해당 index를 뽑고 해당 Residue_number를 추출한다.\n",
    "### 2. 해당 Residue_number에 해당하는 분자를 찾는다."
   ]
  },
  {
   "cell_type": "code",
   "execution_count": 12,
   "id": "c1c1d593",
   "metadata": {},
   "outputs": [
    {
     "data": {
      "text/plain": [
       "42660"
      ]
     },
     "execution_count": 12,
     "metadata": {},
     "output_type": "execute_result"
    }
   ],
   "source": [
    "len(Total_system_SYSTEM_Reside_DF)"
   ]
  },
  {
   "cell_type": "code",
   "execution_count": 13,
   "id": "9943db5c",
   "metadata": {},
   "outputs": [
    {
     "data": {
      "text/plain": [
       "9675"
      ]
     },
     "execution_count": 13,
     "metadata": {},
     "output_type": "execute_result"
    }
   ],
   "source": [
    "len(Total_system_SYSTEM_Reside_DF[(Total_system_SYSTEM_Reside_DF['subst_name'] == CATION_MOLECULE)])"
   ]
  },
  {
   "cell_type": "code",
   "execution_count": null,
   "id": "61127e46",
   "metadata": {},
   "outputs": [],
   "source": []
  },
  {
   "cell_type": "markdown",
   "id": "21ae570b",
   "metadata": {},
   "source": [
    "## Define Cluster"
   ]
  },
  {
   "cell_type": "markdown",
   "id": "2800c20a",
   "metadata": {},
   "source": [
    "#### step 1. 선택한 molecule의 인근 (3A) ATOM 선택하기"
   ]
  },
  {
   "cell_type": "code",
   "execution_count": 14,
   "id": "7eac07a1",
   "metadata": {},
   "outputs": [],
   "source": [
    "condition = (pmol.df.subst_name == ANION_MOLECULE)\n",
    "Data_Selecte_subst = pmol.df[condition]\n",
    "Data_Selecte_subst_index = pmol.df[condition].index"
   ]
  },
  {
   "cell_type": "code",
   "execution_count": null,
   "id": "d211dd00",
   "metadata": {},
   "outputs": [],
   "source": []
  },
  {
   "cell_type": "code",
   "execution_count": 15,
   "id": "324a0671",
   "metadata": {},
   "outputs": [
    {
     "name": "stdout",
     "output_type": "stream",
     "text": [
      "time : 16.0209538936615\n"
     ]
    }
   ],
   "source": [
    "start = time.time()\n",
    "\n",
    "find_range = 3    ### input\n",
    "list_set = []\n",
    "list_set_array = np.array([], dtype= int)\n",
    "\n",
    "\n",
    "for i in range(0, len(Data_Selecte_subst_index)):\n",
    "    select_dataframe = None  ## 선택한 데이터 프레임 초기화\n",
    "    select_dataframe = Data_Selecte_subst.iloc[i]\n",
    "\n",
    "\n",
    "    sq1_range = (select_dataframe[['x','y','z']]+find_range)\n",
    "    sq3_range = (select_dataframe[['x','y','z']]-find_range)\n",
    "\n",
    "    selected_dataframe = Total_system_SYSTEM_Reside_DF[(Total_system_SYSTEM_Reside_DF['x'] <= sq1_range[\"x\"]) &\n",
    "                                                       (Total_system_SYSTEM_Reside_DF['x'] >= sq3_range[\"x\"]) &\n",
    "                                                       (Total_system_SYSTEM_Reside_DF['y'] <= sq1_range[\"y\"]) &\n",
    "                                                       (Total_system_SYSTEM_Reside_DF['y'] >= sq3_range[\"y\"]) &\n",
    "                                                       (Total_system_SYSTEM_Reside_DF['z'] <= sq1_range[\"z\"]) &\n",
    "                                                       (Total_system_SYSTEM_Reside_DF['z'] >= sq3_range[\"z\"])]\n",
    "                                      \n",
    "\n",
    "    cal_x = (float(select_dataframe[\"x\"]) - selected_dataframe[\"x\"]).pow(2)\n",
    "    cal_y = (float(select_dataframe[\"y\"]) - selected_dataframe[\"y\"]).pow(2)\n",
    "    cal_z = (float(select_dataframe[\"z\"]) - selected_dataframe[\"z\"]).pow(2)\n",
    "    Distance = (cal_x+cal_y+cal_z)**0.5\n",
    "    \n",
    "    #Distance\n",
    "\n",
    "    Distance_index = Distance[(Distance <= find_range)].index\n",
    "    Select_Atom_List = Distance_index.values.tolist()\n",
    "    Select_Atom_List_NP = np.array(Select_Atom_List,dtype=int)\n",
    "    \n",
    "    list_set_array = np.append(list_set_array,Select_Atom_List_NP)\n",
    "list_set_array= np.unique(list_set_array)\n",
    "list_set = list_set_array.tolist()\n",
    "        \n",
    "print(\"time :\",time.time() - start)"
   ]
  },
  {
   "cell_type": "code",
   "execution_count": null,
   "id": "4e843d13",
   "metadata": {},
   "outputs": [],
   "source": []
  },
  {
   "cell_type": "code",
   "execution_count": null,
   "id": "f59ffc1c",
   "metadata": {},
   "outputs": [],
   "source": []
  },
  {
   "cell_type": "code",
   "execution_count": null,
   "id": "889cc859",
   "metadata": {},
   "outputs": [],
   "source": []
  },
  {
   "cell_type": "markdown",
   "id": "1e38f5c3",
   "metadata": {},
   "source": [
    "#### step 2. 선택한 molecule에서 Cation Residue만 선택하기"
   ]
  },
  {
   "cell_type": "code",
   "execution_count": 16,
   "id": "3b949fd4",
   "metadata": {},
   "outputs": [],
   "source": [
    "# 포함하고자 하는 문자열 리스트 생성\n",
    "Select_Residue_List = Total_system_SYSTEM_Reside_DF.iloc[list_set][[\"Residue_number\"]].drop_duplicates().squeeze().to_list()\n",
    "\n",
    "# 해당 list_set 있는 잔기를 선택\n",
    "result = Total_system_SYSTEM_Reside_DF[Total_system_SYSTEM_Reside_DF['Residue_number'].isin(Select_Residue_List)]"
   ]
  },
  {
   "cell_type": "code",
   "execution_count": null,
   "id": "49558286",
   "metadata": {},
   "outputs": [],
   "source": []
  },
  {
   "cell_type": "markdown",
   "id": "5663b2c9",
   "metadata": {},
   "source": [
    "#### step 3. 선택한 molecule의 인근 (3A) ATOM 선택하기"
   ]
  },
  {
   "cell_type": "code",
   "execution_count": 17,
   "id": "ce54228f",
   "metadata": {},
   "outputs": [],
   "source": [
    "Data_Selecte_subst = result[result['subst_name'] == CATION_MOLECULE]"
   ]
  },
  {
   "cell_type": "code",
   "execution_count": 18,
   "id": "f555519b",
   "metadata": {},
   "outputs": [],
   "source": [
    "Data_Selecte_subst_index = result[result['subst_name'] == CATION_MOLECULE].index"
   ]
  },
  {
   "cell_type": "code",
   "execution_count": 19,
   "id": "24fef65c",
   "metadata": {},
   "outputs": [
    {
     "name": "stdout",
     "output_type": "stream",
     "text": [
      "time : 27.240888833999634\n"
     ]
    }
   ],
   "source": [
    "start = time.time()\n",
    "\n",
    "find_range = 3    ### input\n",
    "list_set = []\n",
    "list_set_array = np.array([], dtype= int)\n",
    "\n",
    "for i in range(0, len(Data_Selecte_subst_index)):\n",
    "    select_dataframe = None  ## 선택한 데이터 프레임 초기화\n",
    "    select_dataframe = Data_Selecte_subst.iloc[i]\n",
    "\n",
    "\n",
    "    sq1_range = (select_dataframe[['x','y','z']]+find_range)\n",
    "    sq3_range = (select_dataframe[['x','y','z']]-find_range)\n",
    "\n",
    "    selected_dataframe = Total_system[(Total_system['x'] <= sq1_range[\"x\"]) &\n",
    "                                      (Total_system['x'] >= sq3_range[\"x\"]) &\n",
    "                                      (Total_system['y'] <= sq1_range[\"y\"]) &\n",
    "                                      (Total_system['y'] >= sq3_range[\"y\"]) &\n",
    "                                      (Total_system['z'] <= sq1_range[\"z\"]) &\n",
    "                                      (Total_system['z'] >= sq3_range[\"z\"])]\n",
    "                                      \n",
    "\n",
    "    cal_x = (float(select_dataframe[\"x\"]) - selected_dataframe[\"x\"]).pow(2)\n",
    "    cal_y = (float(select_dataframe[\"y\"]) - selected_dataframe[\"y\"]).pow(2)\n",
    "    cal_z = (float(select_dataframe[\"z\"]) - selected_dataframe[\"z\"]).pow(2)\n",
    "    Distance = (cal_x+cal_y+cal_z)**0.5\n",
    "    \n",
    "    #Distance\n",
    "\n",
    "    Distance_index = Distance[(Distance <= find_range)].index\n",
    "    Select_Atom_List=Distance_index.values.tolist()\n",
    "    Select_Atom_List_NP = np.array(Select_Atom_List,dtype=int)\n",
    "    \n",
    "    list_set_array = np.append(list_set_array,Select_Atom_List_NP)\n",
    "list_set_array= np.unique(list_set_array)\n",
    "list_set = list_set_array.tolist()\n",
    "\n",
    "print(\"time :\",time.time() - start)"
   ]
  },
  {
   "cell_type": "code",
   "execution_count": null,
   "id": "d2ec9cde",
   "metadata": {},
   "outputs": [],
   "source": []
  },
  {
   "cell_type": "code",
   "execution_count": 20,
   "id": "d0d0d3eb",
   "metadata": {},
   "outputs": [],
   "source": [
    "# 포함하고자 하는 문자열 리스트 생성\n",
    "Select_Residue_List = Total_system_SYSTEM_Reside_DF.iloc[list_set][[\"Residue_number\"]].drop_duplicates().squeeze().to_list()\n",
    "\n",
    "# 해당 list_set 있는 잔기를 선택\n",
    "result = Total_system_SYSTEM_Reside_DF[Total_system_SYSTEM_Reside_DF['Residue_number'].isin(Select_Residue_List)]"
   ]
  },
  {
   "cell_type": "code",
   "execution_count": null,
   "id": "f2364e06",
   "metadata": {},
   "outputs": [],
   "source": []
  },
  {
   "cell_type": "markdown",
   "id": "6bd5b0be",
   "metadata": {},
   "source": [
    "#### step 4. IL Cluster Define"
   ]
  },
  {
   "cell_type": "code",
   "execution_count": 21,
   "id": "8acb2380",
   "metadata": {},
   "outputs": [],
   "source": [
    "IL_Cluster = result[(result['subst_name'] == CATION_MOLECULE)|(result['subst_name'] == ANION_MOLECULE)]"
   ]
  },
  {
   "cell_type": "code",
   "execution_count": 22,
   "id": "e711ece4",
   "metadata": {},
   "outputs": [
    {
     "data": {
      "text/html": [
       "<div>\n",
       "<style scoped>\n",
       "    .dataframe tbody tr th:only-of-type {\n",
       "        vertical-align: middle;\n",
       "    }\n",
       "\n",
       "    .dataframe tbody tr th {\n",
       "        vertical-align: top;\n",
       "    }\n",
       "\n",
       "    .dataframe thead th {\n",
       "        text-align: right;\n",
       "    }\n",
       "</style>\n",
       "<table border=\"1\" class=\"dataframe\">\n",
       "  <thead>\n",
       "    <tr style=\"text-align: right;\">\n",
       "      <th></th>\n",
       "      <th>atom_id</th>\n",
       "      <th>atom_name</th>\n",
       "      <th>x</th>\n",
       "      <th>y</th>\n",
       "      <th>z</th>\n",
       "      <th>atom_type</th>\n",
       "      <th>subst_id</th>\n",
       "      <th>subst_name</th>\n",
       "      <th>charge</th>\n",
       "      <th>Residue_number</th>\n",
       "    </tr>\n",
       "  </thead>\n",
       "  <tbody>\n",
       "    <tr>\n",
       "      <th>0</th>\n",
       "      <td>1</td>\n",
       "      <td>C</td>\n",
       "      <td>21.7125</td>\n",
       "      <td>12.9756</td>\n",
       "      <td>-21.7713</td>\n",
       "      <td>C.3</td>\n",
       "      <td>1</td>\n",
       "      <td>BMI</td>\n",
       "      <td>-0.3305</td>\n",
       "      <td>CATION_Res_1</td>\n",
       "    </tr>\n",
       "    <tr>\n",
       "      <th>1</th>\n",
       "      <td>2</td>\n",
       "      <td>N</td>\n",
       "      <td>22.9275</td>\n",
       "      <td>12.3355</td>\n",
       "      <td>-21.4824</td>\n",
       "      <td>N.pl3</td>\n",
       "      <td>1</td>\n",
       "      <td>BMI</td>\n",
       "      <td>0.1939</td>\n",
       "      <td>CATION_Res_1</td>\n",
       "    </tr>\n",
       "    <tr>\n",
       "      <th>2</th>\n",
       "      <td>3</td>\n",
       "      <td>C</td>\n",
       "      <td>22.9824</td>\n",
       "      <td>11.0176</td>\n",
       "      <td>-21.2151</td>\n",
       "      <td>C.ar</td>\n",
       "      <td>1</td>\n",
       "      <td>BMI</td>\n",
       "      <td>-0.1044</td>\n",
       "      <td>CATION_Res_1</td>\n",
       "    </tr>\n",
       "    <tr>\n",
       "      <th>3</th>\n",
       "      <td>4</td>\n",
       "      <td>N</td>\n",
       "      <td>24.2717</td>\n",
       "      <td>10.6997</td>\n",
       "      <td>-20.8984</td>\n",
       "      <td>N.pl3</td>\n",
       "      <td>1</td>\n",
       "      <td>BMI</td>\n",
       "      <td>0.2896</td>\n",
       "      <td>CATION_Res_1</td>\n",
       "    </tr>\n",
       "    <tr>\n",
       "      <th>4</th>\n",
       "      <td>5</td>\n",
       "      <td>C</td>\n",
       "      <td>25.0390</td>\n",
       "      <td>11.8696</td>\n",
       "      <td>-20.9131</td>\n",
       "      <td>C.ar</td>\n",
       "      <td>1</td>\n",
       "      <td>BMI</td>\n",
       "      <td>-0.3225</td>\n",
       "      <td>CATION_Res_1</td>\n",
       "    </tr>\n",
       "    <tr>\n",
       "      <th>...</th>\n",
       "      <td>...</td>\n",
       "      <td>...</td>\n",
       "      <td>...</td>\n",
       "      <td>...</td>\n",
       "      <td>...</td>\n",
       "      <td>...</td>\n",
       "      <td>...</td>\n",
       "      <td>...</td>\n",
       "      <td>...</td>\n",
       "      <td>...</td>\n",
       "    </tr>\n",
       "    <tr>\n",
       "      <th>15475</th>\n",
       "      <td>15476</td>\n",
       "      <td>F</td>\n",
       "      <td>18.5276</td>\n",
       "      <td>30.0993</td>\n",
       "      <td>-18.6566</td>\n",
       "      <td>F</td>\n",
       "      <td>2</td>\n",
       "      <td>T2N</td>\n",
       "      <td>-0.1518</td>\n",
       "      <td>ANION_Res_387</td>\n",
       "    </tr>\n",
       "    <tr>\n",
       "      <th>15476</th>\n",
       "      <td>15477</td>\n",
       "      <td>O</td>\n",
       "      <td>17.4059</td>\n",
       "      <td>33.6747</td>\n",
       "      <td>-17.9482</td>\n",
       "      <td>O.2</td>\n",
       "      <td>2</td>\n",
       "      <td>T2N</td>\n",
       "      <td>-0.6559</td>\n",
       "      <td>ANION_Res_387</td>\n",
       "    </tr>\n",
       "    <tr>\n",
       "      <th>15477</th>\n",
       "      <td>15478</td>\n",
       "      <td>O</td>\n",
       "      <td>16.6167</td>\n",
       "      <td>31.5197</td>\n",
       "      <td>-16.9102</td>\n",
       "      <td>O.2</td>\n",
       "      <td>2</td>\n",
       "      <td>T2N</td>\n",
       "      <td>-0.6559</td>\n",
       "      <td>ANION_Res_387</td>\n",
       "    </tr>\n",
       "    <tr>\n",
       "      <th>15478</th>\n",
       "      <td>15479</td>\n",
       "      <td>O</td>\n",
       "      <td>15.8857</td>\n",
       "      <td>34.0225</td>\n",
       "      <td>-20.4904</td>\n",
       "      <td>O.2</td>\n",
       "      <td>2</td>\n",
       "      <td>T2N</td>\n",
       "      <td>-0.6559</td>\n",
       "      <td>ANION_Res_387</td>\n",
       "    </tr>\n",
       "    <tr>\n",
       "      <th>15479</th>\n",
       "      <td>15480</td>\n",
       "      <td>O</td>\n",
       "      <td>14.6515</td>\n",
       "      <td>33.8076</td>\n",
       "      <td>-18.3547</td>\n",
       "      <td>O.2</td>\n",
       "      <td>2</td>\n",
       "      <td>T2N</td>\n",
       "      <td>-0.6559</td>\n",
       "      <td>ANION_Res_387</td>\n",
       "    </tr>\n",
       "  </tbody>\n",
       "</table>\n",
       "<p>15425 rows × 10 columns</p>\n",
       "</div>"
      ],
      "text/plain": [
       "       atom_id atom_name        x        y        z atom_type  subst_id  \\\n",
       "0            1         C  21.7125  12.9756 -21.7713       C.3         1   \n",
       "1            2         N  22.9275  12.3355 -21.4824     N.pl3         1   \n",
       "2            3         C  22.9824  11.0176 -21.2151      C.ar         1   \n",
       "3            4         N  24.2717  10.6997 -20.8984     N.pl3         1   \n",
       "4            5         C  25.0390  11.8696 -20.9131      C.ar         1   \n",
       "...        ...       ...      ...      ...      ...       ...       ...   \n",
       "15475    15476         F  18.5276  30.0993 -18.6566         F         2   \n",
       "15476    15477         O  17.4059  33.6747 -17.9482       O.2         2   \n",
       "15477    15478         O  16.6167  31.5197 -16.9102       O.2         2   \n",
       "15478    15479         O  15.8857  34.0225 -20.4904       O.2         2   \n",
       "15479    15480         O  14.6515  33.8076 -18.3547       O.2         2   \n",
       "\n",
       "      subst_name  charge Residue_number  \n",
       "0            BMI -0.3305   CATION_Res_1  \n",
       "1            BMI  0.1939   CATION_Res_1  \n",
       "2            BMI -0.1044   CATION_Res_1  \n",
       "3            BMI  0.2896   CATION_Res_1  \n",
       "4            BMI -0.3225   CATION_Res_1  \n",
       "...          ...     ...            ...  \n",
       "15475        T2N -0.1518  ANION_Res_387  \n",
       "15476        T2N -0.6559  ANION_Res_387  \n",
       "15477        T2N -0.6559  ANION_Res_387  \n",
       "15478        T2N -0.6559  ANION_Res_387  \n",
       "15479        T2N -0.6559  ANION_Res_387  \n",
       "\n",
       "[15425 rows x 10 columns]"
      ]
     },
     "execution_count": 22,
     "metadata": {},
     "output_type": "execute_result"
    }
   ],
   "source": [
    "IL_Cluster"
   ]
  },
  {
   "cell_type": "code",
   "execution_count": null,
   "id": "9ec3819b",
   "metadata": {},
   "outputs": [],
   "source": []
  },
  {
   "cell_type": "markdown",
   "id": "793886f0",
   "metadata": {},
   "source": [
    "## Select 5A Surface"
   ]
  },
  {
   "cell_type": "markdown",
   "id": "68290f4d",
   "metadata": {},
   "source": [
    "#### step 1. Select 5A surface"
   ]
  },
  {
   "cell_type": "code",
   "execution_count": 23,
   "id": "b75872e9",
   "metadata": {},
   "outputs": [],
   "source": [
    "Data_Selecte_subst = IL_Cluster\n",
    "Data_Selecte_subst_index = IL_Cluster.index"
   ]
  },
  {
   "cell_type": "code",
   "execution_count": 24,
   "id": "77eb3b37",
   "metadata": {},
   "outputs": [
    {
     "name": "stdout",
     "output_type": "stream",
     "text": [
      "time : 47.76913118362427\n"
     ]
    }
   ],
   "source": [
    "start = time.time()\n",
    "\n",
    "find_range = SURFACE_RANGE    ### input\n",
    "list_set = []\n",
    "list_set_array = np.array([], dtype= int)\n",
    "\n",
    "for i in range(0, len(Data_Selecte_subst_index)):\n",
    "    select_dataframe = None  ## 선택한 데이터 프레임 초기화\n",
    "    select_dataframe = Data_Selecte_subst.iloc[i]\n",
    "\n",
    "\n",
    "    sq1_range = (select_dataframe[['x','y','z']]+find_range)\n",
    "    sq3_range = (select_dataframe[['x','y','z']]-find_range)\n",
    "\n",
    "    selected_dataframe = Total_system[(Total_system['x'] <= sq1_range[\"x\"]) &\n",
    "                                      (Total_system['x'] >= sq3_range[\"x\"]) &\n",
    "                                      (Total_system['y'] <= sq1_range[\"y\"]) &\n",
    "                                      (Total_system['y'] >= sq3_range[\"y\"]) &\n",
    "                                      (Total_system['z'] <= sq1_range[\"z\"]) &\n",
    "                                      (Total_system['z'] >= sq3_range[\"z\"])]\n",
    "                                      \n",
    "\n",
    "    cal_x = (float(select_dataframe[\"x\"]) - selected_dataframe[\"x\"]).pow(2)\n",
    "    cal_y = (float(select_dataframe[\"y\"]) - selected_dataframe[\"y\"]).pow(2)\n",
    "    cal_z = (float(select_dataframe[\"z\"]) - selected_dataframe[\"z\"]).pow(2)\n",
    "    Distance = (cal_x+cal_y+cal_z)**0.5\n",
    "    \n",
    "    #Distance\n",
    "\n",
    "    Distance_index = Distance[(Distance <= find_range)].index\n",
    "    Select_Atom_List=Distance_index.values.tolist()\n",
    "    Select_Atom_List_NP = np.array(Select_Atom_List,dtype=int)\n",
    "    \n",
    "    list_set_array = np.append(list_set_array,Select_Atom_List_NP)\n",
    "list_set_array= np.unique(list_set_array)\n",
    "list_set = list_set_array.tolist()\n",
    "\n",
    "print(\"time :\",time.time() - start)"
   ]
  },
  {
   "cell_type": "code",
   "execution_count": null,
   "id": "6e578e95",
   "metadata": {},
   "outputs": [],
   "source": []
  },
  {
   "cell_type": "code",
   "execution_count": 25,
   "id": "212897d3",
   "metadata": {},
   "outputs": [],
   "source": [
    "# 포함하고자 하는 문자열 리스트 생성\n",
    "Select_Residue_List = Total_system_SYSTEM_Reside_DF.iloc[list_set][[\"Residue_number\"]].drop_duplicates().squeeze().to_list()\n",
    "\n",
    "# 해당 list_set 있는 잔기를 선택\n",
    "result = Total_system_SYSTEM_Reside_DF[Total_system_SYSTEM_Reside_DF['Residue_number'].isin(Select_Residue_List)]"
   ]
  },
  {
   "cell_type": "code",
   "execution_count": 26,
   "id": "e68b42b3",
   "metadata": {},
   "outputs": [],
   "source": [
    "IL_Cluster_surface = result[(result['subst_name'] == CATION_MOLECULE)|\n",
    "                            (result['subst_name'] == ANION_MOLECULE)|\n",
    "                            (result['subst_name'] == WATER_MOLECULE)|\n",
    "                            (result['subst_name'] == SODIUM_ATOM)|\n",
    "                            (result['subst_name'] == CHLORIDE_ATOM)]"
   ]
  },
  {
   "cell_type": "code",
   "execution_count": null,
   "id": "de95c646",
   "metadata": {},
   "outputs": [],
   "source": []
  },
  {
   "cell_type": "markdown",
   "id": "2117f62a",
   "metadata": {},
   "source": [
    "#### step 2. Invert"
   ]
  },
  {
   "cell_type": "code",
   "execution_count": 27,
   "id": "4aec72a3",
   "metadata": {},
   "outputs": [],
   "source": [
    "IL_Cluster_surface_NAME = IL_Cluster_surface[\"Residue_number\"].drop_duplicates().squeeze().to_list()"
   ]
  },
  {
   "cell_type": "code",
   "execution_count": 28,
   "id": "b68876f3",
   "metadata": {},
   "outputs": [],
   "source": [
    "IL_Cluster_surface_invert = Total_system_SYSTEM_Reside_DF[~Total_system_SYSTEM_Reside_DF['Residue_number'].isin(IL_Cluster_surface_NAME)]"
   ]
  },
  {
   "cell_type": "code",
   "execution_count": null,
   "id": "f9275ed0",
   "metadata": {},
   "outputs": [],
   "source": []
  },
  {
   "cell_type": "markdown",
   "id": "66952656",
   "metadata": {},
   "source": [
    "#### step 3. Select 5A surface From Invert moleuce --range1"
   ]
  },
  {
   "cell_type": "code",
   "execution_count": 39,
   "id": "481a1327",
   "metadata": {},
   "outputs": [],
   "source": [
    "Data_Selecte_subst = IL_Cluster_surface_invert\n",
    "Data_Selecte_subst_index = IL_Cluster_surface_invert.index"
   ]
  },
  {
   "cell_type": "code",
   "execution_count": 40,
   "id": "56896961",
   "metadata": {},
   "outputs": [
    {
     "name": "stdout",
     "output_type": "stream",
     "text": [
      "time : 73.99800944328308\n"
     ]
    }
   ],
   "source": [
    "start = time.time()\n",
    "\n",
    "\n",
    "find_range = DIGGER_RANGE    ### input\n",
    "list_set = []\n",
    "list_set_array = np.array([], dtype= int)\n",
    "\n",
    "for i in range(0, len(Data_Selecte_subst_index)):\n",
    "    select_dataframe = None  ## 선택한 데이터 프레임 초기화\n",
    "    select_dataframe = Data_Selecte_subst.iloc[i]\n",
    "\n",
    "\n",
    "    sq1_range = (select_dataframe[['x','y','z']]+find_range)\n",
    "    sq3_range = (select_dataframe[['x','y','z']]-find_range)\n",
    "\n",
    "    selected_dataframe = Total_system[(Total_system['x'] <= sq1_range[\"x\"]) &\n",
    "                                      (Total_system['x'] >= sq3_range[\"x\"]) &\n",
    "                                      (Total_system['y'] <= sq1_range[\"y\"]) &\n",
    "                                      (Total_system['y'] >= sq3_range[\"y\"]) &\n",
    "                                      (Total_system['z'] <= sq1_range[\"z\"]) &\n",
    "                                      (Total_system['z'] >= sq3_range[\"z\"])]\n",
    "                                      \n",
    "\n",
    "    cal_x = (float(select_dataframe[\"x\"]) - selected_dataframe[\"x\"]).pow(2)\n",
    "    cal_y = (float(select_dataframe[\"y\"]) - selected_dataframe[\"y\"]).pow(2)\n",
    "    cal_z = (float(select_dataframe[\"z\"]) - selected_dataframe[\"z\"]).pow(2)\n",
    "    Distance = (cal_x+cal_y+cal_z)**0.5\n",
    "    \n",
    "    #Distance\n",
    "\n",
    "    Distance_index = Distance[(Distance <= find_range)].index\n",
    "    Select_Atom_List=Distance_index.values.tolist()\n",
    "    Select_Atom_List_NP = np.array(Select_Atom_List,dtype=int)\n",
    "    \n",
    "    list_set_array = np.append(list_set_array,Select_Atom_List_NP)\n",
    "list_set_array= np.unique(list_set_array)\n",
    "list_set = list_set_array.tolist()\n",
    "\n",
    "\n",
    "\n",
    "# 포함하고자 하는 문자열 리스트 생성\n",
    "Select_Residue_List = Total_system_SYSTEM_Reside_DF.iloc[list_set][[\"Residue_number\"]].drop_duplicates().squeeze().to_list()\n",
    "\n",
    "# 해당 list_set 있는 잔기를 선택\n",
    "result1 = Total_system_SYSTEM_Reside_DF[Total_system_SYSTEM_Reside_DF['Residue_number'].isin(Select_Residue_List)]\n",
    "\n",
    "print(\"time :\",time.time() - start)"
   ]
  },
  {
   "cell_type": "code",
   "execution_count": null,
   "id": "c3218cc3",
   "metadata": {},
   "outputs": [],
   "source": []
  },
  {
   "cell_type": "markdown",
   "id": "4ed1bd7f",
   "metadata": {},
   "source": [
    "#### step 3. Select 5A surface From Invert moleuce --range2"
   ]
  },
  {
   "cell_type": "code",
   "execution_count": 41,
   "id": "65252150",
   "metadata": {},
   "outputs": [
    {
     "name": "stdout",
     "output_type": "stream",
     "text": [
      "time : 85.17514133453369\n"
     ]
    }
   ],
   "source": [
    "start = time.time()\n",
    "\n",
    "\n",
    "find_range = DIGGER_RANGE+1    ### input\n",
    "list_set = []\n",
    "list_set_array = np.array([], dtype= int)\n",
    "\n",
    "for i in range(0, len(Data_Selecte_subst_index)):\n",
    "    select_dataframe = None  ## 선택한 데이터 프레임 초기화\n",
    "    select_dataframe = Data_Selecte_subst.iloc[i]\n",
    "\n",
    "\n",
    "    sq1_range = (select_dataframe[['x','y','z']]+find_range)\n",
    "    sq3_range = (select_dataframe[['x','y','z']]-find_range)\n",
    "\n",
    "    selected_dataframe = Total_system[(Total_system['x'] <= sq1_range[\"x\"]) &\n",
    "                                      (Total_system['x'] >= sq3_range[\"x\"]) &\n",
    "                                      (Total_system['y'] <= sq1_range[\"y\"]) &\n",
    "                                      (Total_system['y'] >= sq3_range[\"y\"]) &\n",
    "                                      (Total_system['z'] <= sq1_range[\"z\"]) &\n",
    "                                      (Total_system['z'] >= sq3_range[\"z\"])]\n",
    "                                      \n",
    "\n",
    "    cal_x = (float(select_dataframe[\"x\"]) - selected_dataframe[\"x\"]).pow(2)\n",
    "    cal_y = (float(select_dataframe[\"y\"]) - selected_dataframe[\"y\"]).pow(2)\n",
    "    cal_z = (float(select_dataframe[\"z\"]) - selected_dataframe[\"z\"]).pow(2)\n",
    "    Distance = (cal_x+cal_y+cal_z)**0.5\n",
    "    \n",
    "    #Distance\n",
    "\n",
    "    Distance_index = Distance[(Distance <= find_range)].index\n",
    "    Select_Atom_List=Distance_index.values.tolist()\n",
    "    Select_Atom_List_NP = np.array(Select_Atom_List,dtype=int)\n",
    "    \n",
    "    list_set_array = np.append(list_set_array,Select_Atom_List_NP)\n",
    "list_set_array= np.unique(list_set_array)\n",
    "list_set = list_set_array.tolist()\n",
    "\n",
    "\n",
    "\n",
    "# 포함하고자 하는 문자열 리스트 생성\n",
    "Select_Residue_List = Total_system_SYSTEM_Reside_DF.iloc[list_set][[\"Residue_number\"]].drop_duplicates().squeeze().to_list()\n",
    "\n",
    "# 해당 list_set 있는 잔기를 선택\n",
    "result2 = Total_system_SYSTEM_Reside_DF[Total_system_SYSTEM_Reside_DF['Residue_number'].isin(Select_Residue_List)]\n",
    "\n",
    "print(\"time :\",time.time() - start)"
   ]
  },
  {
   "cell_type": "code",
   "execution_count": null,
   "id": "2c1eb773",
   "metadata": {},
   "outputs": [],
   "source": []
  },
  {
   "cell_type": "code",
   "execution_count": null,
   "id": "d13ddb64",
   "metadata": {},
   "outputs": [],
   "source": []
  },
  {
   "cell_type": "code",
   "execution_count": null,
   "id": "ebaef279",
   "metadata": {},
   "outputs": [],
   "source": []
  },
  {
   "cell_type": "code",
   "execution_count": null,
   "id": "5b8be7f7",
   "metadata": {},
   "outputs": [],
   "source": []
  },
  {
   "cell_type": "markdown",
   "id": "ac760109",
   "metadata": {},
   "source": [
    "#### step 3. Select 5A surface From Invert moleuce --range3"
   ]
  },
  {
   "cell_type": "code",
   "execution_count": 42,
   "id": "985fc6ff",
   "metadata": {},
   "outputs": [
    {
     "name": "stdout",
     "output_type": "stream",
     "text": [
      "time : 100.39217901229858\n"
     ]
    }
   ],
   "source": [
    "start = time.time()\n",
    "\n",
    "\n",
    "find_range = DIGGER_RANGE+2    ### input\n",
    "list_set = []\n",
    "list_set_array = np.array([], dtype= int)\n",
    "\n",
    "for i in range(0, len(Data_Selecte_subst_index)):\n",
    "    select_dataframe = None  ## 선택한 데이터 프레임 초기화\n",
    "    select_dataframe = Data_Selecte_subst.iloc[i]\n",
    "\n",
    "\n",
    "    sq1_range = (select_dataframe[['x','y','z']]+find_range)\n",
    "    sq3_range = (select_dataframe[['x','y','z']]-find_range)\n",
    "\n",
    "    selected_dataframe = Total_system[(Total_system['x'] <= sq1_range[\"x\"]) &\n",
    "                                      (Total_system['x'] >= sq3_range[\"x\"]) &\n",
    "                                      (Total_system['y'] <= sq1_range[\"y\"]) &\n",
    "                                      (Total_system['y'] >= sq3_range[\"y\"]) &\n",
    "                                      (Total_system['z'] <= sq1_range[\"z\"]) &\n",
    "                                      (Total_system['z'] >= sq3_range[\"z\"])]\n",
    "                                      \n",
    "\n",
    "    cal_x = (float(select_dataframe[\"x\"]) - selected_dataframe[\"x\"]).pow(2)\n",
    "    cal_y = (float(select_dataframe[\"y\"]) - selected_dataframe[\"y\"]).pow(2)\n",
    "    cal_z = (float(select_dataframe[\"z\"]) - selected_dataframe[\"z\"]).pow(2)\n",
    "    Distance = (cal_x+cal_y+cal_z)**0.5\n",
    "    \n",
    "    #Distance\n",
    "\n",
    "    Distance_index = Distance[(Distance <= find_range)].index\n",
    "    Select_Atom_List=Distance_index.values.tolist()\n",
    "    Select_Atom_List_NP = np.array(Select_Atom_List,dtype=int)\n",
    "    \n",
    "    list_set_array = np.append(list_set_array,Select_Atom_List_NP)\n",
    "list_set_array= np.unique(list_set_array)\n",
    "list_set = list_set_array.tolist()\n",
    "\n",
    "\n",
    "\n",
    "# 포함하고자 하는 문자열 리스트 생성\n",
    "Select_Residue_List = Total_system_SYSTEM_Reside_DF.iloc[list_set][[\"Residue_number\"]].drop_duplicates().squeeze().to_list()\n",
    "\n",
    "# 해당 list_set 있는 잔기를 선택\n",
    "result3 = Total_system_SYSTEM_Reside_DF[Total_system_SYSTEM_Reside_DF['Residue_number'].isin(Select_Residue_List)]\n",
    "\n",
    "print(\"time :\",time.time() - start)"
   ]
  },
  {
   "cell_type": "code",
   "execution_count": null,
   "id": "075fcb0d",
   "metadata": {},
   "outputs": [],
   "source": []
  },
  {
   "cell_type": "markdown",
   "id": "864595a2",
   "metadata": {},
   "source": [
    "#### step 3. Select 5A surface From Invert moleuce --range4"
   ]
  },
  {
   "cell_type": "code",
   "execution_count": 43,
   "id": "07a6246e",
   "metadata": {},
   "outputs": [
    {
     "name": "stdout",
     "output_type": "stream",
     "text": [
      "time : 121.33368182182312\n"
     ]
    }
   ],
   "source": [
    "start = time.time()\n",
    "\n",
    "\n",
    "find_range = DIGGER_RANGE+3    ### input\n",
    "list_set = []\n",
    "list_set_array = np.array([], dtype= int)\n",
    "\n",
    "for i in range(0, len(Data_Selecte_subst_index)):\n",
    "    select_dataframe = None  ## 선택한 데이터 프레임 초기화\n",
    "    select_dataframe = Data_Selecte_subst.iloc[i]\n",
    "\n",
    "\n",
    "    sq1_range = (select_dataframe[['x','y','z']]+find_range)\n",
    "    sq3_range = (select_dataframe[['x','y','z']]-find_range)\n",
    "\n",
    "    selected_dataframe = Total_system[(Total_system['x'] <= sq1_range[\"x\"]) &\n",
    "                                      (Total_system['x'] >= sq3_range[\"x\"]) &\n",
    "                                      (Total_system['y'] <= sq1_range[\"y\"]) &\n",
    "                                      (Total_system['y'] >= sq3_range[\"y\"]) &\n",
    "                                      (Total_system['z'] <= sq1_range[\"z\"]) &\n",
    "                                      (Total_system['z'] >= sq3_range[\"z\"])]\n",
    "                                      \n",
    "\n",
    "    cal_x = (float(select_dataframe[\"x\"]) - selected_dataframe[\"x\"]).pow(2)\n",
    "    cal_y = (float(select_dataframe[\"y\"]) - selected_dataframe[\"y\"]).pow(2)\n",
    "    cal_z = (float(select_dataframe[\"z\"]) - selected_dataframe[\"z\"]).pow(2)\n",
    "    Distance = (cal_x+cal_y+cal_z)**0.5\n",
    "    \n",
    "    #Distance\n",
    "\n",
    "    Distance_index = Distance[(Distance <= find_range)].index\n",
    "    Select_Atom_List=Distance_index.values.tolist()\n",
    "    Select_Atom_List_NP = np.array(Select_Atom_List,dtype=int)\n",
    "    \n",
    "    list_set_array = np.append(list_set_array,Select_Atom_List_NP)\n",
    "list_set_array= np.unique(list_set_array)\n",
    "list_set = list_set_array.tolist()\n",
    "\n",
    "\n",
    "\n",
    "# 포함하고자 하는 문자열 리스트 생성\n",
    "Select_Residue_List = Total_system_SYSTEM_Reside_DF.iloc[list_set][[\"Residue_number\"]].drop_duplicates().squeeze().to_list()\n",
    "\n",
    "# 해당 list_set 있는 잔기를 선택\n",
    "result4 = Total_system_SYSTEM_Reside_DF[Total_system_SYSTEM_Reside_DF['Residue_number'].isin(Select_Residue_List)]\n",
    "\n",
    "print(\"time :\",time.time() - start)"
   ]
  },
  {
   "cell_type": "code",
   "execution_count": null,
   "id": "3dcb47db",
   "metadata": {},
   "outputs": [],
   "source": []
  },
  {
   "cell_type": "markdown",
   "id": "f24e3576",
   "metadata": {},
   "source": [
    "#### step 3. Select 5A surface From Invert moleuce --range5"
   ]
  },
  {
   "cell_type": "code",
   "execution_count": 44,
   "id": "09b2c6fa",
   "metadata": {},
   "outputs": [
    {
     "name": "stdout",
     "output_type": "stream",
     "text": [
      "time : 145.38730430603027\n"
     ]
    }
   ],
   "source": [
    "start = time.time()\n",
    "\n",
    "\n",
    "find_range = DIGGER_RANGE+4    ### input\n",
    "list_set = []\n",
    "list_set_array = np.array([], dtype= int)\n",
    "\n",
    "for i in range(0, len(Data_Selecte_subst_index)):\n",
    "    select_dataframe = None  ## 선택한 데이터 프레임 초기화\n",
    "    select_dataframe = Data_Selecte_subst.iloc[i]\n",
    "\n",
    "\n",
    "    sq1_range = (select_dataframe[['x','y','z']]+find_range)\n",
    "    sq3_range = (select_dataframe[['x','y','z']]-find_range)\n",
    "\n",
    "    selected_dataframe = Total_system[(Total_system['x'] <= sq1_range[\"x\"]) &\n",
    "                                      (Total_system['x'] >= sq3_range[\"x\"]) &\n",
    "                                      (Total_system['y'] <= sq1_range[\"y\"]) &\n",
    "                                      (Total_system['y'] >= sq3_range[\"y\"]) &\n",
    "                                      (Total_system['z'] <= sq1_range[\"z\"]) &\n",
    "                                      (Total_system['z'] >= sq3_range[\"z\"])]\n",
    "                                      \n",
    "\n",
    "    cal_x = (float(select_dataframe[\"x\"]) - selected_dataframe[\"x\"]).pow(2)\n",
    "    cal_y = (float(select_dataframe[\"y\"]) - selected_dataframe[\"y\"]).pow(2)\n",
    "    cal_z = (float(select_dataframe[\"z\"]) - selected_dataframe[\"z\"]).pow(2)\n",
    "    Distance = (cal_x+cal_y+cal_z)**0.5\n",
    "    \n",
    "    #Distance\n",
    "\n",
    "    Distance_index = Distance[(Distance <= find_range)].index\n",
    "    Select_Atom_List=Distance_index.values.tolist()\n",
    "    Select_Atom_List_NP = np.array(Select_Atom_List,dtype=int)\n",
    "    \n",
    "    list_set_array = np.append(list_set_array,Select_Atom_List_NP)\n",
    "list_set_array= np.unique(list_set_array)\n",
    "list_set = list_set_array.tolist()\n",
    "\n",
    "\n",
    "\n",
    "# 포함하고자 하는 문자열 리스트 생성\n",
    "Select_Residue_List = Total_system_SYSTEM_Reside_DF.iloc[list_set][[\"Residue_number\"]].drop_duplicates().squeeze().to_list()\n",
    "\n",
    "# 해당 list_set 있는 잔기를 선택\n",
    "result5 = Total_system_SYSTEM_Reside_DF[Total_system_SYSTEM_Reside_DF['Residue_number'].isin(Select_Residue_List)]\n",
    "\n",
    "print(\"time :\",time.time() - start)"
   ]
  },
  {
   "cell_type": "code",
   "execution_count": null,
   "id": "28728e51",
   "metadata": {},
   "outputs": [],
   "source": []
  },
  {
   "cell_type": "markdown",
   "id": "785e725b",
   "metadata": {},
   "source": [
    "#### step 3. Select 5A surface From Invert moleuce --range6"
   ]
  },
  {
   "cell_type": "code",
   "execution_count": 45,
   "id": "9290c652",
   "metadata": {},
   "outputs": [
    {
     "name": "stdout",
     "output_type": "stream",
     "text": [
      "time : 173.8938913345337\n"
     ]
    }
   ],
   "source": [
    "start = time.time()\n",
    "\n",
    "\n",
    "find_range = DIGGER_RANGE +5   ### input\n",
    "list_set = []\n",
    "list_set_array = np.array([], dtype= int)\n",
    "\n",
    "for i in range(0, len(Data_Selecte_subst_index)):\n",
    "    select_dataframe = None  ## 선택한 데이터 프레임 초기화\n",
    "    select_dataframe = Data_Selecte_subst.iloc[i]\n",
    "\n",
    "\n",
    "    sq1_range = (select_dataframe[['x','y','z']]+find_range)\n",
    "    sq3_range = (select_dataframe[['x','y','z']]-find_range)\n",
    "\n",
    "    selected_dataframe = Total_system[(Total_system['x'] <= sq1_range[\"x\"]) &\n",
    "                                      (Total_system['x'] >= sq3_range[\"x\"]) &\n",
    "                                      (Total_system['y'] <= sq1_range[\"y\"]) &\n",
    "                                      (Total_system['y'] >= sq3_range[\"y\"]) &\n",
    "                                      (Total_system['z'] <= sq1_range[\"z\"]) &\n",
    "                                      (Total_system['z'] >= sq3_range[\"z\"])]\n",
    "                                      \n",
    "\n",
    "    cal_x = (float(select_dataframe[\"x\"]) - selected_dataframe[\"x\"]).pow(2)\n",
    "    cal_y = (float(select_dataframe[\"y\"]) - selected_dataframe[\"y\"]).pow(2)\n",
    "    cal_z = (float(select_dataframe[\"z\"]) - selected_dataframe[\"z\"]).pow(2)\n",
    "    Distance = (cal_x+cal_y+cal_z)**0.5\n",
    "    \n",
    "    #Distance\n",
    "\n",
    "    Distance_index = Distance[(Distance <= find_range)].index\n",
    "    Select_Atom_List=Distance_index.values.tolist()\n",
    "    Select_Atom_List_NP = np.array(Select_Atom_List,dtype=int)\n",
    "    \n",
    "    list_set_array = np.append(list_set_array,Select_Atom_List_NP)\n",
    "list_set_array= np.unique(list_set_array)\n",
    "list_set = list_set_array.tolist()\n",
    "\n",
    "\n",
    "\n",
    "# 포함하고자 하는 문자열 리스트 생성\n",
    "Select_Residue_List = Total_system_SYSTEM_Reside_DF.iloc[list_set][[\"Residue_number\"]].drop_duplicates().squeeze().to_list()\n",
    "\n",
    "# 해당 list_set 있는 잔기를 선택\n",
    "result6 = Total_system_SYSTEM_Reside_DF[Total_system_SYSTEM_Reside_DF['Residue_number'].isin(Select_Residue_List)]\n",
    "\n",
    "print(\"time :\",time.time() - start)"
   ]
  },
  {
   "cell_type": "code",
   "execution_count": null,
   "id": "b6c8cf88",
   "metadata": {},
   "outputs": [],
   "source": []
  },
  {
   "cell_type": "code",
   "execution_count": null,
   "id": "7996f4ff",
   "metadata": {},
   "outputs": [],
   "source": []
  },
  {
   "cell_type": "markdown",
   "id": "0e5a687b",
   "metadata": {},
   "source": [
    "#### step 3. Select 5A surface From Invert moleuce --range7"
   ]
  },
  {
   "cell_type": "code",
   "execution_count": 46,
   "id": "cbf2e047",
   "metadata": {},
   "outputs": [
    {
     "name": "stdout",
     "output_type": "stream",
     "text": [
      "time : 204.4238464832306\n"
     ]
    }
   ],
   "source": [
    "start = time.time()\n",
    "\n",
    "\n",
    "find_range = DIGGER_RANGE+6    ### input\n",
    "list_set = []\n",
    "list_set_array = np.array([], dtype= int)\n",
    "\n",
    "for i in range(0, len(Data_Selecte_subst_index)):\n",
    "    select_dataframe = None  ## 선택한 데이터 프레임 초기화\n",
    "    select_dataframe = Data_Selecte_subst.iloc[i]\n",
    "\n",
    "\n",
    "    sq1_range = (select_dataframe[['x','y','z']]+find_range)\n",
    "    sq3_range = (select_dataframe[['x','y','z']]-find_range)\n",
    "\n",
    "    selected_dataframe = Total_system[(Total_system['x'] <= sq1_range[\"x\"]) &\n",
    "                                      (Total_system['x'] >= sq3_range[\"x\"]) &\n",
    "                                      (Total_system['y'] <= sq1_range[\"y\"]) &\n",
    "                                      (Total_system['y'] >= sq3_range[\"y\"]) &\n",
    "                                      (Total_system['z'] <= sq1_range[\"z\"]) &\n",
    "                                      (Total_system['z'] >= sq3_range[\"z\"])]\n",
    "                                      \n",
    "\n",
    "    cal_x = (float(select_dataframe[\"x\"]) - selected_dataframe[\"x\"]).pow(2)\n",
    "    cal_y = (float(select_dataframe[\"y\"]) - selected_dataframe[\"y\"]).pow(2)\n",
    "    cal_z = (float(select_dataframe[\"z\"]) - selected_dataframe[\"z\"]).pow(2)\n",
    "    Distance = (cal_x+cal_y+cal_z)**0.5\n",
    "    \n",
    "    #Distance\n",
    "\n",
    "    Distance_index = Distance[(Distance <= find_range)].index\n",
    "    Select_Atom_List=Distance_index.values.tolist()\n",
    "    Select_Atom_List_NP = np.array(Select_Atom_List,dtype=int)\n",
    "    \n",
    "    list_set_array = np.append(list_set_array,Select_Atom_List_NP)\n",
    "list_set_array= np.unique(list_set_array)\n",
    "list_set = list_set_array.tolist()\n",
    "\n",
    "\n",
    "\n",
    "# 포함하고자 하는 문자열 리스트 생성\n",
    "Select_Residue_List = Total_system_SYSTEM_Reside_DF.iloc[list_set][[\"Residue_number\"]].drop_duplicates().squeeze().to_list()\n",
    "\n",
    "# 해당 list_set 있는 잔기를 선택\n",
    "result7 = Total_system_SYSTEM_Reside_DF[Total_system_SYSTEM_Reside_DF['Residue_number'].isin(Select_Residue_List)]\n",
    "\n",
    "print(\"time :\",time.time() - start)"
   ]
  },
  {
   "cell_type": "code",
   "execution_count": null,
   "id": "770331ef",
   "metadata": {},
   "outputs": [],
   "source": []
  },
  {
   "cell_type": "code",
   "execution_count": null,
   "id": "d51e12f8",
   "metadata": {},
   "outputs": [],
   "source": []
  },
  {
   "cell_type": "markdown",
   "id": "d2abc1d8",
   "metadata": {},
   "source": [
    "#### step 3. Select 5A surface From Invert moleuce --range8"
   ]
  },
  {
   "cell_type": "code",
   "execution_count": 47,
   "id": "591a71c6",
   "metadata": {},
   "outputs": [
    {
     "name": "stdout",
     "output_type": "stream",
     "text": [
      "time : 239.98254680633545\n"
     ]
    }
   ],
   "source": [
    "start = time.time()\n",
    "\n",
    "\n",
    "find_range = DIGGER_RANGE+7   ### input\n",
    "list_set = []\n",
    "list_set_array = np.array([], dtype= int)\n",
    "\n",
    "for i in range(0, len(Data_Selecte_subst_index)):\n",
    "    select_dataframe = None  ## 선택한 데이터 프레임 초기화\n",
    "    select_dataframe = Data_Selecte_subst.iloc[i]\n",
    "\n",
    "\n",
    "    sq1_range = (select_dataframe[['x','y','z']]+find_range)\n",
    "    sq3_range = (select_dataframe[['x','y','z']]-find_range)\n",
    "\n",
    "    selected_dataframe = Total_system[(Total_system['x'] <= sq1_range[\"x\"]) &\n",
    "                                      (Total_system['x'] >= sq3_range[\"x\"]) &\n",
    "                                      (Total_system['y'] <= sq1_range[\"y\"]) &\n",
    "                                      (Total_system['y'] >= sq3_range[\"y\"]) &\n",
    "                                      (Total_system['z'] <= sq1_range[\"z\"]) &\n",
    "                                      (Total_system['z'] >= sq3_range[\"z\"])]\n",
    "                                      \n",
    "\n",
    "    cal_x = (float(select_dataframe[\"x\"]) - selected_dataframe[\"x\"]).pow(2)\n",
    "    cal_y = (float(select_dataframe[\"y\"]) - selected_dataframe[\"y\"]).pow(2)\n",
    "    cal_z = (float(select_dataframe[\"z\"]) - selected_dataframe[\"z\"]).pow(2)\n",
    "    Distance = (cal_x+cal_y+cal_z)**0.5\n",
    "    \n",
    "    #Distance\n",
    "\n",
    "    Distance_index = Distance[(Distance <= find_range)].index\n",
    "    Select_Atom_List=Distance_index.values.tolist()\n",
    "    Select_Atom_List_NP = np.array(Select_Atom_List,dtype=int)\n",
    "    \n",
    "    list_set_array = np.append(list_set_array,Select_Atom_List_NP)\n",
    "list_set_array= np.unique(list_set_array)\n",
    "list_set = list_set_array.tolist()\n",
    "\n",
    "\n",
    "\n",
    "# 포함하고자 하는 문자열 리스트 생성\n",
    "Select_Residue_List = Total_system_SYSTEM_Reside_DF.iloc[list_set][[\"Residue_number\"]].drop_duplicates().squeeze().to_list()\n",
    "\n",
    "# 해당 list_set 있는 잔기를 선택\n",
    "result8 = Total_system_SYSTEM_Reside_DF[Total_system_SYSTEM_Reside_DF['Residue_number'].isin(Select_Residue_List)]\n",
    "\n",
    "print(\"time :\",time.time() - start)"
   ]
  },
  {
   "cell_type": "code",
   "execution_count": null,
   "id": "746bc143",
   "metadata": {},
   "outputs": [],
   "source": []
  },
  {
   "cell_type": "code",
   "execution_count": null,
   "id": "bf8bc904",
   "metadata": {},
   "outputs": [],
   "source": []
  },
  {
   "cell_type": "markdown",
   "id": "1fbcd042",
   "metadata": {},
   "source": [
    "#### step 3. Select 5A surface From Invert moleuce --range9"
   ]
  },
  {
   "cell_type": "code",
   "execution_count": 48,
   "id": "4c8101b1",
   "metadata": {},
   "outputs": [
    {
     "name": "stdout",
     "output_type": "stream",
     "text": [
      "time : 275.80307364463806\n"
     ]
    }
   ],
   "source": [
    "start = time.time()\n",
    "\n",
    "\n",
    "find_range = DIGGER_RANGE+8    ### input\n",
    "list_set = []\n",
    "list_set_array = np.array([], dtype= int)\n",
    "\n",
    "for i in range(0, len(Data_Selecte_subst_index)):\n",
    "    select_dataframe = None  ## 선택한 데이터 프레임 초기화\n",
    "    select_dataframe = Data_Selecte_subst.iloc[i]\n",
    "\n",
    "\n",
    "    sq1_range = (select_dataframe[['x','y','z']]+find_range)\n",
    "    sq3_range = (select_dataframe[['x','y','z']]-find_range)\n",
    "\n",
    "    selected_dataframe = Total_system[(Total_system['x'] <= sq1_range[\"x\"]) &\n",
    "                                      (Total_system['x'] >= sq3_range[\"x\"]) &\n",
    "                                      (Total_system['y'] <= sq1_range[\"y\"]) &\n",
    "                                      (Total_system['y'] >= sq3_range[\"y\"]) &\n",
    "                                      (Total_system['z'] <= sq1_range[\"z\"]) &\n",
    "                                      (Total_system['z'] >= sq3_range[\"z\"])]\n",
    "                                      \n",
    "\n",
    "    cal_x = (float(select_dataframe[\"x\"]) - selected_dataframe[\"x\"]).pow(2)\n",
    "    cal_y = (float(select_dataframe[\"y\"]) - selected_dataframe[\"y\"]).pow(2)\n",
    "    cal_z = (float(select_dataframe[\"z\"]) - selected_dataframe[\"z\"]).pow(2)\n",
    "    Distance = (cal_x+cal_y+cal_z)**0.5\n",
    "    \n",
    "    #Distance\n",
    "\n",
    "    Distance_index = Distance[(Distance <= find_range)].index\n",
    "    Select_Atom_List=Distance_index.values.tolist()\n",
    "    Select_Atom_List_NP = np.array(Select_Atom_List,dtype=int)\n",
    "    \n",
    "    list_set_array = np.append(list_set_array,Select_Atom_List_NP)\n",
    "list_set_array= np.unique(list_set_array)\n",
    "list_set = list_set_array.tolist()\n",
    "\n",
    "\n",
    "\n",
    "# 포함하고자 하는 문자열 리스트 생성\n",
    "Select_Residue_List = Total_system_SYSTEM_Reside_DF.iloc[list_set][[\"Residue_number\"]].drop_duplicates().squeeze().to_list()\n",
    "\n",
    "# 해당 list_set 있는 잔기를 선택\n",
    "result9 = Total_system_SYSTEM_Reside_DF[Total_system_SYSTEM_Reside_DF['Residue_number'].isin(Select_Residue_List)]\n",
    "\n",
    "print(\"time :\",time.time() - start)"
   ]
  },
  {
   "cell_type": "code",
   "execution_count": null,
   "id": "789b172e",
   "metadata": {},
   "outputs": [],
   "source": []
  },
  {
   "cell_type": "markdown",
   "id": "3b9b0567",
   "metadata": {},
   "source": [
    "#### step 3. Select 5A surface From Invert moleuce --range10"
   ]
  },
  {
   "cell_type": "code",
   "execution_count": 49,
   "id": "3788d8ce",
   "metadata": {},
   "outputs": [
    {
     "name": "stdout",
     "output_type": "stream",
     "text": [
      "time : 324.4491653442383\n"
     ]
    }
   ],
   "source": [
    "start = time.time()\n",
    "\n",
    "\n",
    "find_range = DIGGER_RANGE +9   ### input\n",
    "list_set = []\n",
    "list_set_array = np.array([], dtype= int)\n",
    "\n",
    "for i in range(0, len(Data_Selecte_subst_index)):\n",
    "    select_dataframe = None  ## 선택한 데이터 프레임 초기화\n",
    "    select_dataframe = Data_Selecte_subst.iloc[i]\n",
    "\n",
    "\n",
    "    sq1_range = (select_dataframe[['x','y','z']]+find_range)\n",
    "    sq3_range = (select_dataframe[['x','y','z']]-find_range)\n",
    "\n",
    "    selected_dataframe = Total_system[(Total_system['x'] <= sq1_range[\"x\"]) &\n",
    "                                      (Total_system['x'] >= sq3_range[\"x\"]) &\n",
    "                                      (Total_system['y'] <= sq1_range[\"y\"]) &\n",
    "                                      (Total_system['y'] >= sq3_range[\"y\"]) &\n",
    "                                      (Total_system['z'] <= sq1_range[\"z\"]) &\n",
    "                                      (Total_system['z'] >= sq3_range[\"z\"])]\n",
    "                                      \n",
    "\n",
    "    cal_x = (float(select_dataframe[\"x\"]) - selected_dataframe[\"x\"]).pow(2)\n",
    "    cal_y = (float(select_dataframe[\"y\"]) - selected_dataframe[\"y\"]).pow(2)\n",
    "    cal_z = (float(select_dataframe[\"z\"]) - selected_dataframe[\"z\"]).pow(2)\n",
    "    Distance = (cal_x+cal_y+cal_z)**0.5\n",
    "    \n",
    "    #Distance\n",
    "\n",
    "    Distance_index = Distance[(Distance <= find_range)].index\n",
    "    Select_Atom_List=Distance_index.values.tolist()\n",
    "    Select_Atom_List_NP = np.array(Select_Atom_List,dtype=int)\n",
    "    \n",
    "    list_set_array = np.append(list_set_array,Select_Atom_List_NP)\n",
    "list_set_array= np.unique(list_set_array)\n",
    "list_set = list_set_array.tolist()\n",
    "\n",
    "\n",
    "\n",
    "# 포함하고자 하는 문자열 리스트 생성\n",
    "Select_Residue_List = Total_system_SYSTEM_Reside_DF.iloc[list_set][[\"Residue_number\"]].drop_duplicates().squeeze().to_list()\n",
    "\n",
    "# 해당 list_set 있는 잔기를 선택\n",
    "result10 = Total_system_SYSTEM_Reside_DF[Total_system_SYSTEM_Reside_DF['Residue_number'].isin(Select_Residue_List)]\n",
    "\n",
    "print(\"time :\",time.time() - start)"
   ]
  },
  {
   "cell_type": "code",
   "execution_count": null,
   "id": "8e43ce13",
   "metadata": {},
   "outputs": [],
   "source": []
  },
  {
   "cell_type": "markdown",
   "id": "1aee054a",
   "metadata": {},
   "source": [
    "#### step 3. Select 5A surface From Invert moleuce --range11"
   ]
  },
  {
   "cell_type": "code",
   "execution_count": 50,
   "id": "877c5bf7",
   "metadata": {},
   "outputs": [
    {
     "name": "stdout",
     "output_type": "stream",
     "text": [
      "time : 374.7162094116211\n"
     ]
    }
   ],
   "source": [
    "start = time.time()\n",
    "\n",
    "\n",
    "find_range = DIGGER_RANGE+10   ### input\n",
    "list_set = []\n",
    "list_set_array = np.array([], dtype= int)\n",
    "\n",
    "for i in range(0, len(Data_Selecte_subst_index)):\n",
    "    select_dataframe = None  ## 선택한 데이터 프레임 초기화\n",
    "    select_dataframe = Data_Selecte_subst.iloc[i]\n",
    "\n",
    "\n",
    "    sq1_range = (select_dataframe[['x','y','z']]+find_range)\n",
    "    sq3_range = (select_dataframe[['x','y','z']]-find_range)\n",
    "\n",
    "    selected_dataframe = Total_system[(Total_system['x'] <= sq1_range[\"x\"]) &\n",
    "                                      (Total_system['x'] >= sq3_range[\"x\"]) &\n",
    "                                      (Total_system['y'] <= sq1_range[\"y\"]) &\n",
    "                                      (Total_system['y'] >= sq3_range[\"y\"]) &\n",
    "                                      (Total_system['z'] <= sq1_range[\"z\"]) &\n",
    "                                      (Total_system['z'] >= sq3_range[\"z\"])]\n",
    "                                      \n",
    "\n",
    "    cal_x = (float(select_dataframe[\"x\"]) - selected_dataframe[\"x\"]).pow(2)\n",
    "    cal_y = (float(select_dataframe[\"y\"]) - selected_dataframe[\"y\"]).pow(2)\n",
    "    cal_z = (float(select_dataframe[\"z\"]) - selected_dataframe[\"z\"]).pow(2)\n",
    "    Distance = (cal_x+cal_y+cal_z)**0.5\n",
    "    \n",
    "    #Distance\n",
    "\n",
    "    Distance_index = Distance[(Distance <= find_range)].index\n",
    "    Select_Atom_List=Distance_index.values.tolist()\n",
    "    Select_Atom_List_NP = np.array(Select_Atom_List,dtype=int)\n",
    "    \n",
    "    list_set_array = np.append(list_set_array,Select_Atom_List_NP)\n",
    "list_set_array= np.unique(list_set_array)\n",
    "list_set = list_set_array.tolist()\n",
    "\n",
    "\n",
    "\n",
    "# 포함하고자 하는 문자열 리스트 생성\n",
    "Select_Residue_List = Total_system_SYSTEM_Reside_DF.iloc[list_set][[\"Residue_number\"]].drop_duplicates().squeeze().to_list()\n",
    "\n",
    "# 해당 list_set 있는 잔기를 선택\n",
    "result11 = Total_system_SYSTEM_Reside_DF[Total_system_SYSTEM_Reside_DF['Residue_number'].isin(Select_Residue_List)]\n",
    "\n",
    "print(\"time :\",time.time() - start)"
   ]
  },
  {
   "cell_type": "code",
   "execution_count": null,
   "id": "9fb16ac8",
   "metadata": {},
   "outputs": [],
   "source": []
  },
  {
   "cell_type": "code",
   "execution_count": null,
   "id": "c86b49bb",
   "metadata": {},
   "outputs": [],
   "source": []
  },
  {
   "cell_type": "markdown",
   "id": "6d81f030",
   "metadata": {},
   "source": [
    "#### step 3. Select 5A surface From Invert moleuce --range12"
   ]
  },
  {
   "cell_type": "code",
   "execution_count": 51,
   "id": "6d8ecf4e",
   "metadata": {},
   "outputs": [
    {
     "name": "stdout",
     "output_type": "stream",
     "text": [
      "time : 432.091890335083\n"
     ]
    }
   ],
   "source": [
    "start = time.time()\n",
    "\n",
    "\n",
    "find_range = DIGGER_RANGE+11   ### input\n",
    "list_set = []\n",
    "list_set_array = np.array([], dtype= int)\n",
    "\n",
    "for i in range(0, len(Data_Selecte_subst_index)):\n",
    "    select_dataframe = None  ## 선택한 데이터 프레임 초기화\n",
    "    select_dataframe = Data_Selecte_subst.iloc[i]\n",
    "\n",
    "\n",
    "    sq1_range = (select_dataframe[['x','y','z']]+find_range)\n",
    "    sq3_range = (select_dataframe[['x','y','z']]-find_range)\n",
    "\n",
    "    selected_dataframe = Total_system[(Total_system['x'] <= sq1_range[\"x\"]) &\n",
    "                                      (Total_system['x'] >= sq3_range[\"x\"]) &\n",
    "                                      (Total_system['y'] <= sq1_range[\"y\"]) &\n",
    "                                      (Total_system['y'] >= sq3_range[\"y\"]) &\n",
    "                                      (Total_system['z'] <= sq1_range[\"z\"]) &\n",
    "                                      (Total_system['z'] >= sq3_range[\"z\"])]\n",
    "                                      \n",
    "\n",
    "    cal_x = (float(select_dataframe[\"x\"]) - selected_dataframe[\"x\"]).pow(2)\n",
    "    cal_y = (float(select_dataframe[\"y\"]) - selected_dataframe[\"y\"]).pow(2)\n",
    "    cal_z = (float(select_dataframe[\"z\"]) - selected_dataframe[\"z\"]).pow(2)\n",
    "    Distance = (cal_x+cal_y+cal_z)**0.5\n",
    "    \n",
    "    #Distance\n",
    "\n",
    "    Distance_index = Distance[(Distance <= find_range)].index\n",
    "    Select_Atom_List=Distance_index.values.tolist()\n",
    "    Select_Atom_List_NP = np.array(Select_Atom_List,dtype=int)\n",
    "    \n",
    "    list_set_array = np.append(list_set_array,Select_Atom_List_NP)\n",
    "list_set_array= np.unique(list_set_array)\n",
    "list_set = list_set_array.tolist()\n",
    "\n",
    "\n",
    "\n",
    "# 포함하고자 하는 문자열 리스트 생성\n",
    "Select_Residue_List = Total_system_SYSTEM_Reside_DF.iloc[list_set][[\"Residue_number\"]].drop_duplicates().squeeze().to_list()\n",
    "\n",
    "# 해당 list_set 있는 잔기를 선택\n",
    "result12 = Total_system_SYSTEM_Reside_DF[Total_system_SYSTEM_Reside_DF['Residue_number'].isin(Select_Residue_List)]\n",
    "\n",
    "print(\"time :\",time.time() - start)"
   ]
  },
  {
   "cell_type": "code",
   "execution_count": null,
   "id": "c084a121",
   "metadata": {},
   "outputs": [],
   "source": []
  },
  {
   "cell_type": "code",
   "execution_count": null,
   "id": "c74bd65c",
   "metadata": {},
   "outputs": [],
   "source": []
  },
  {
   "cell_type": "code",
   "execution_count": null,
   "id": "7e936ae8",
   "metadata": {},
   "outputs": [],
   "source": []
  },
  {
   "cell_type": "code",
   "execution_count": 52,
   "id": "ce96bdc1",
   "metadata": {},
   "outputs": [],
   "source": [
    "IL_Cluster_digger1 = result1[(result1['subst_name'] == CATION_MOLECULE)|\n",
    "                             (result1['subst_name'] == ANION_MOLECULE)|\n",
    "                             (result1['subst_name'] == WATER_MOLECULE)|\n",
    "                             (result1['subst_name'] == SODIUM_ATOM)|\n",
    "                             (result1['subst_name'] == CHLORIDE_ATOM)]"
   ]
  },
  {
   "cell_type": "code",
   "execution_count": 53,
   "id": "747130b4",
   "metadata": {},
   "outputs": [],
   "source": [
    "IL_Cluster_digger2 = result2[(result2['subst_name'] == CATION_MOLECULE)|\n",
    "                             (result2['subst_name'] == ANION_MOLECULE)|\n",
    "                             (result2['subst_name'] == WATER_MOLECULE)|\n",
    "                             (result2['subst_name'] == SODIUM_ATOM)|\n",
    "                             (result2['subst_name'] == CHLORIDE_ATOM)]"
   ]
  },
  {
   "cell_type": "code",
   "execution_count": 54,
   "id": "20eef7dd",
   "metadata": {},
   "outputs": [],
   "source": [
    "IL_Cluster_digger3 = result3[(result3['subst_name'] == CATION_MOLECULE)|\n",
    "                             (result3['subst_name'] == ANION_MOLECULE)|\n",
    "                             (result3['subst_name'] == WATER_MOLECULE)|\n",
    "                             (result3['subst_name'] == SODIUM_ATOM)|\n",
    "                             (result3['subst_name'] == CHLORIDE_ATOM)]"
   ]
  },
  {
   "cell_type": "code",
   "execution_count": 55,
   "id": "1fbc350e",
   "metadata": {},
   "outputs": [],
   "source": [
    "IL_Cluster_digger4 = result4[(result4['subst_name'] == CATION_MOLECULE)|\n",
    "                             (result4['subst_name'] == ANION_MOLECULE)|\n",
    "                             (result4['subst_name'] == WATER_MOLECULE)|\n",
    "                             (result4['subst_name'] == SODIUM_ATOM)|\n",
    "                             (result4['subst_name'] == CHLORIDE_ATOM)]"
   ]
  },
  {
   "cell_type": "code",
   "execution_count": 56,
   "id": "9e73d8e4",
   "metadata": {},
   "outputs": [],
   "source": [
    "IL_Cluster_digger5 = result5[(result5['subst_name'] == CATION_MOLECULE)|\n",
    "                             (result5['subst_name'] == ANION_MOLECULE)|\n",
    "                             (result5['subst_name'] == WATER_MOLECULE)|\n",
    "                             (result5['subst_name'] == SODIUM_ATOM)|\n",
    "                             (result5['subst_name'] == CHLORIDE_ATOM)]"
   ]
  },
  {
   "cell_type": "code",
   "execution_count": 57,
   "id": "e84d00c4",
   "metadata": {},
   "outputs": [],
   "source": [
    "IL_Cluster_digger6 = result6[(result6['subst_name'] == CATION_MOLECULE)|\n",
    "                             (result6['subst_name'] == ANION_MOLECULE)|\n",
    "                             (result6['subst_name'] == WATER_MOLECULE)|\n",
    "                             (result6['subst_name'] == SODIUM_ATOM)|\n",
    "                             (result6['subst_name'] == CHLORIDE_ATOM)]"
   ]
  },
  {
   "cell_type": "code",
   "execution_count": 58,
   "id": "ba91dfda",
   "metadata": {},
   "outputs": [],
   "source": [
    "IL_Cluster_digger7 = result7[(result7['subst_name'] == CATION_MOLECULE)|\n",
    "                             (result7['subst_name'] == ANION_MOLECULE)|\n",
    "                             (result7['subst_name'] == WATER_MOLECULE)|\n",
    "                             (result7['subst_name'] == SODIUM_ATOM)|\n",
    "                             (result7['subst_name'] == CHLORIDE_ATOM)]"
   ]
  },
  {
   "cell_type": "code",
   "execution_count": 59,
   "id": "8eaeaf69",
   "metadata": {},
   "outputs": [],
   "source": [
    "IL_Cluster_digger8 = result8[(result8['subst_name'] == CATION_MOLECULE)|\n",
    "                             (result8['subst_name'] == ANION_MOLECULE)|\n",
    "                             (result8['subst_name'] == WATER_MOLECULE)|\n",
    "                             (result8['subst_name'] == SODIUM_ATOM)|\n",
    "                             (result8['subst_name'] == CHLORIDE_ATOM)]"
   ]
  },
  {
   "cell_type": "code",
   "execution_count": 60,
   "id": "b10997c0",
   "metadata": {},
   "outputs": [],
   "source": [
    "IL_Cluster_digger9 = result9[(result9['subst_name'] == CATION_MOLECULE)|\n",
    "                             (result9['subst_name'] == ANION_MOLECULE)|\n",
    "                             (result9['subst_name'] == WATER_MOLECULE)|\n",
    "                             (result9['subst_name'] == SODIUM_ATOM)|\n",
    "                             (result9['subst_name'] == CHLORIDE_ATOM)]"
   ]
  },
  {
   "cell_type": "code",
   "execution_count": 61,
   "id": "e1589de7",
   "metadata": {},
   "outputs": [],
   "source": [
    "IL_Cluster_digger10 = result10[(result10['subst_name'] == CATION_MOLECULE)|\n",
    "                               (result10['subst_name'] == ANION_MOLECULE)|\n",
    "                               (result10['subst_name'] == WATER_MOLECULE)|\n",
    "                               (result10['subst_name'] == SODIUM_ATOM)|\n",
    "                               (result10['subst_name'] == CHLORIDE_ATOM)]"
   ]
  },
  {
   "cell_type": "code",
   "execution_count": 62,
   "id": "622e6348",
   "metadata": {},
   "outputs": [],
   "source": [
    "IL_Cluster_digger11 = result11[(result11['subst_name'] == CATION_MOLECULE)|\n",
    "                               (result11['subst_name'] == ANION_MOLECULE)|\n",
    "                               (result11['subst_name'] == WATER_MOLECULE)|\n",
    "                               (result11['subst_name'] == SODIUM_ATOM)|\n",
    "                               (result11['subst_name'] == CHLORIDE_ATOM)]"
   ]
  },
  {
   "cell_type": "code",
   "execution_count": 63,
   "id": "90f36317",
   "metadata": {},
   "outputs": [],
   "source": [
    "IL_Cluster_digger12 = result12[(result12['subst_name'] == CATION_MOLECULE)|\n",
    "                               (result12['subst_name'] == ANION_MOLECULE)|\n",
    "                               (result12['subst_name'] == WATER_MOLECULE)|\n",
    "                               (result12['subst_name'] == SODIUM_ATOM)|\n",
    "                               (result12['subst_name'] == CHLORIDE_ATOM)]"
   ]
  },
  {
   "cell_type": "code",
   "execution_count": null,
   "id": "d969a1df",
   "metadata": {},
   "outputs": [],
   "source": []
  },
  {
   "cell_type": "code",
   "execution_count": null,
   "id": "afdb3585",
   "metadata": {},
   "outputs": [],
   "source": []
  },
  {
   "cell_type": "code",
   "execution_count": null,
   "id": "347dadfe",
   "metadata": {},
   "outputs": [],
   "source": []
  },
  {
   "cell_type": "markdown",
   "id": "54de91fe",
   "metadata": {},
   "source": [
    "#### step 4. Define inside Water using invert"
   ]
  },
  {
   "cell_type": "code",
   "execution_count": 64,
   "id": "4cd66eab",
   "metadata": {},
   "outputs": [],
   "source": [
    "IL_Cluster_digger_NAME = IL_Cluster_digger1[\"Residue_number\"].drop_duplicates().squeeze().to_list()\n",
    "IL_Cluster_digger_INSIDE = Total_system_SYSTEM_Reside_DF[~Total_system_SYSTEM_Reside_DF['Residue_number'].isin(IL_Cluster_digger_NAME)]\n",
    "INSIDE_water1 = IL_Cluster_digger_INSIDE[(IL_Cluster_digger_INSIDE['subst_name'] == WATER_MOLECULE)]"
   ]
  },
  {
   "cell_type": "code",
   "execution_count": 65,
   "id": "f0ef1183",
   "metadata": {},
   "outputs": [],
   "source": [
    "IL_Cluster_digger_NAME = IL_Cluster_digger2[\"Residue_number\"].drop_duplicates().squeeze().to_list()\n",
    "IL_Cluster_digger_INSIDE = Total_system_SYSTEM_Reside_DF[~Total_system_SYSTEM_Reside_DF['Residue_number'].isin(IL_Cluster_digger_NAME)]\n",
    "INSIDE_water2 = IL_Cluster_digger_INSIDE[(IL_Cluster_digger_INSIDE['subst_name'] == WATER_MOLECULE)]"
   ]
  },
  {
   "cell_type": "code",
   "execution_count": 66,
   "id": "dbccc218",
   "metadata": {},
   "outputs": [],
   "source": [
    "IL_Cluster_digger_NAME = IL_Cluster_digger3[\"Residue_number\"].drop_duplicates().squeeze().to_list()\n",
    "IL_Cluster_digger_INSIDE = Total_system_SYSTEM_Reside_DF[~Total_system_SYSTEM_Reside_DF['Residue_number'].isin(IL_Cluster_digger_NAME)]\n",
    "INSIDE_water3 = IL_Cluster_digger_INSIDE[(IL_Cluster_digger_INSIDE['subst_name'] == WATER_MOLECULE)]"
   ]
  },
  {
   "cell_type": "code",
   "execution_count": 67,
   "id": "2346979c",
   "metadata": {},
   "outputs": [],
   "source": [
    "IL_Cluster_digger_NAME = IL_Cluster_digger4[\"Residue_number\"].drop_duplicates().squeeze().to_list()\n",
    "IL_Cluster_digger_INSIDE = Total_system_SYSTEM_Reside_DF[~Total_system_SYSTEM_Reside_DF['Residue_number'].isin(IL_Cluster_digger_NAME)]\n",
    "INSIDE_water4 = IL_Cluster_digger_INSIDE[(IL_Cluster_digger_INSIDE['subst_name'] == WATER_MOLECULE)]"
   ]
  },
  {
   "cell_type": "code",
   "execution_count": 68,
   "id": "08bedf9b",
   "metadata": {},
   "outputs": [],
   "source": [
    "IL_Cluster_digger_NAME = IL_Cluster_digger5[\"Residue_number\"].drop_duplicates().squeeze().to_list()\n",
    "IL_Cluster_digger_INSIDE = Total_system_SYSTEM_Reside_DF[~Total_system_SYSTEM_Reside_DF['Residue_number'].isin(IL_Cluster_digger_NAME)]\n",
    "INSIDE_water5 = IL_Cluster_digger_INSIDE[(IL_Cluster_digger_INSIDE['subst_name'] == WATER_MOLECULE)]"
   ]
  },
  {
   "cell_type": "code",
   "execution_count": 69,
   "id": "a4ca9ec3",
   "metadata": {},
   "outputs": [],
   "source": [
    "IL_Cluster_digger_NAME = IL_Cluster_digger6[\"Residue_number\"].drop_duplicates().squeeze().to_list()\n",
    "IL_Cluster_digger_INSIDE = Total_system_SYSTEM_Reside_DF[~Total_system_SYSTEM_Reside_DF['Residue_number'].isin(IL_Cluster_digger_NAME)]\n",
    "INSIDE_water6 = IL_Cluster_digger_INSIDE[(IL_Cluster_digger_INSIDE['subst_name'] == WATER_MOLECULE)]"
   ]
  },
  {
   "cell_type": "code",
   "execution_count": 70,
   "id": "f9099dfb",
   "metadata": {},
   "outputs": [],
   "source": [
    "IL_Cluster_digger_NAME = IL_Cluster_digger7[\"Residue_number\"].drop_duplicates().squeeze().to_list()\n",
    "IL_Cluster_digger_INSIDE = Total_system_SYSTEM_Reside_DF[~Total_system_SYSTEM_Reside_DF['Residue_number'].isin(IL_Cluster_digger_NAME)]\n",
    "INSIDE_water7 = IL_Cluster_digger_INSIDE[(IL_Cluster_digger_INSIDE['subst_name'] == WATER_MOLECULE)]"
   ]
  },
  {
   "cell_type": "code",
   "execution_count": 71,
   "id": "11967d3a",
   "metadata": {},
   "outputs": [],
   "source": [
    "IL_Cluster_digger_NAME = IL_Cluster_digger8[\"Residue_number\"].drop_duplicates().squeeze().to_list()\n",
    "IL_Cluster_digger_INSIDE = Total_system_SYSTEM_Reside_DF[~Total_system_SYSTEM_Reside_DF['Residue_number'].isin(IL_Cluster_digger_NAME)]\n",
    "INSIDE_water8 = IL_Cluster_digger_INSIDE[(IL_Cluster_digger_INSIDE['subst_name'] == WATER_MOLECULE)]"
   ]
  },
  {
   "cell_type": "code",
   "execution_count": 72,
   "id": "3881cbee",
   "metadata": {},
   "outputs": [],
   "source": [
    "IL_Cluster_digger_NAME = IL_Cluster_digger9[\"Residue_number\"].drop_duplicates().squeeze().to_list()\n",
    "IL_Cluster_digger_INSIDE = Total_system_SYSTEM_Reside_DF[~Total_system_SYSTEM_Reside_DF['Residue_number'].isin(IL_Cluster_digger_NAME)]\n",
    "INSIDE_water9 = IL_Cluster_digger_INSIDE[(IL_Cluster_digger_INSIDE['subst_name'] == WATER_MOLECULE)]"
   ]
  },
  {
   "cell_type": "code",
   "execution_count": 73,
   "id": "de975660",
   "metadata": {},
   "outputs": [],
   "source": [
    "IL_Cluster_digger_NAME = IL_Cluster_digger10[\"Residue_number\"].drop_duplicates().squeeze().to_list()\n",
    "IL_Cluster_digger_INSIDE = Total_system_SYSTEM_Reside_DF[~Total_system_SYSTEM_Reside_DF['Residue_number'].isin(IL_Cluster_digger_NAME)]\n",
    "INSIDE_water10 = IL_Cluster_digger_INSIDE[(IL_Cluster_digger_INSIDE['subst_name'] == WATER_MOLECULE)]"
   ]
  },
  {
   "cell_type": "code",
   "execution_count": 74,
   "id": "7caf0ec0",
   "metadata": {},
   "outputs": [],
   "source": [
    "IL_Cluster_digger_NAME = IL_Cluster_digger11[\"Residue_number\"].drop_duplicates().squeeze().to_list()\n",
    "IL_Cluster_digger_INSIDE = Total_system_SYSTEM_Reside_DF[~Total_system_SYSTEM_Reside_DF['Residue_number'].isin(IL_Cluster_digger_NAME)]\n",
    "INSIDE_water11 = IL_Cluster_digger_INSIDE[(IL_Cluster_digger_INSIDE['subst_name'] == WATER_MOLECULE)]"
   ]
  },
  {
   "cell_type": "code",
   "execution_count": 75,
   "id": "696ff8aa",
   "metadata": {},
   "outputs": [],
   "source": [
    "IL_Cluster_digger_NAME = IL_Cluster_digger12[\"Residue_number\"].drop_duplicates().squeeze().to_list()\n",
    "IL_Cluster_digger_INSIDE = Total_system_SYSTEM_Reside_DF[~Total_system_SYSTEM_Reside_DF['Residue_number'].isin(IL_Cluster_digger_NAME)]\n",
    "INSIDE_water12 = IL_Cluster_digger_INSIDE[(IL_Cluster_digger_INSIDE['subst_name'] == WATER_MOLECULE)]"
   ]
  },
  {
   "cell_type": "code",
   "execution_count": null,
   "id": "65a4f311",
   "metadata": {},
   "outputs": [],
   "source": []
  },
  {
   "cell_type": "code",
   "execution_count": null,
   "id": "bf587a00",
   "metadata": {},
   "outputs": [],
   "source": []
  },
  {
   "cell_type": "code",
   "execution_count": null,
   "id": "4563bb57",
   "metadata": {},
   "outputs": [],
   "source": []
  },
  {
   "cell_type": "code",
   "execution_count": null,
   "id": "fe858368",
   "metadata": {},
   "outputs": [],
   "source": []
  },
  {
   "cell_type": "code",
   "execution_count": null,
   "id": "6a099631",
   "metadata": {},
   "outputs": [],
   "source": []
  },
  {
   "cell_type": "markdown",
   "id": "1b6ee4f5",
   "metadata": {},
   "source": [
    "## ANALYSIS"
   ]
  },
  {
   "cell_type": "code",
   "execution_count": 76,
   "id": "cd8e94e2",
   "metadata": {},
   "outputs": [],
   "source": [
    "import sys\n",
    "from collections import Counter"
   ]
  },
  {
   "cell_type": "code",
   "execution_count": null,
   "id": "3e836c3b",
   "metadata": {},
   "outputs": [],
   "source": []
  },
  {
   "cell_type": "raw",
   "id": "7aed7a00",
   "metadata": {},
   "source": [
    "sys.stdout = open(INPUT_FILE+\"_inner_\"+str(INNER_range)+'.csv', \"w\")"
   ]
  },
  {
   "cell_type": "code",
   "execution_count": null,
   "id": "8090f28b",
   "metadata": {},
   "outputs": [],
   "source": []
  },
  {
   "cell_type": "code",
   "execution_count": 77,
   "id": "5f13f45d",
   "metadata": {},
   "outputs": [],
   "source": [
    "# (CMC) CATION_MOLECULE_COUNT\n",
    "CMC = Counter(IL_Cluster['subst_name'])[CATION_MOLECULE] / CATION_ATOM_COUNT"
   ]
  },
  {
   "cell_type": "code",
   "execution_count": 78,
   "id": "dcb82704",
   "metadata": {},
   "outputs": [],
   "source": [
    "# (AMC) ANION_MOLECULE_COUNT\n",
    "AMC = Counter(IL_Cluster['subst_name'])[ANION_MOLECULE] / ANION_ATOM_COUNT"
   ]
  },
  {
   "cell_type": "code",
   "execution_count": 79,
   "id": "588e89e4",
   "metadata": {},
   "outputs": [],
   "source": [
    "# (WMC) WATER_MOLECULE_COUNT\n",
    "WMC1 = Counter(INSIDE_water1['subst_name'])['T5P'] / WATER_ATOM_COUNT\n",
    "WMC2 = Counter(INSIDE_water2['subst_name'])['T5P'] / WATER_ATOM_COUNT\n",
    "WMC3 = Counter(INSIDE_water3['subst_name'])['T5P'] / WATER_ATOM_COUNT\n",
    "WMC4 = Counter(INSIDE_water4['subst_name'])['T5P'] / WATER_ATOM_COUNT\n",
    "WMC5 = Counter(INSIDE_water5['subst_name'])['T5P'] / WATER_ATOM_COUNT\n",
    "WMC6 = Counter(INSIDE_water6['subst_name'])['T5P'] / WATER_ATOM_COUNT\n",
    "WMC7 = Counter(INSIDE_water7['subst_name'])['T5P'] / WATER_ATOM_COUNT\n",
    "WMC8 = Counter(INSIDE_water8['subst_name'])['T5P'] / WATER_ATOM_COUNT\n",
    "WMC9 = Counter(INSIDE_water9['subst_name'])['T5P'] / WATER_ATOM_COUNT\n",
    "WMC10 = Counter(INSIDE_water10['subst_name'])['T5P'] / WATER_ATOM_COUNT\n",
    "WMC11 = Counter(INSIDE_water11['subst_name'])['T5P'] / WATER_ATOM_COUNT\n",
    "WMC12 = Counter(INSIDE_water12['subst_name'])['T5P'] / WATER_ATOM_COUNT"
   ]
  },
  {
   "cell_type": "code",
   "execution_count": 81,
   "id": "987c6334",
   "metadata": {},
   "outputs": [],
   "source": [
    "Absortion1 = (WMC1*WATER_weight)/((CMC*CATION_weight)+(AMC*ANION_weight)+(WMC1*WATER_weight))*100\n",
    "Absortion2 = (WMC2*WATER_weight)/((CMC*CATION_weight)+(AMC*ANION_weight)+(WMC2*WATER_weight))*100\n",
    "Absortion3 = (WMC3*WATER_weight)/((CMC*CATION_weight)+(AMC*ANION_weight)+(WMC3*WATER_weight))*100\n",
    "Absortion4 = (WMC4*WATER_weight)/((CMC*CATION_weight)+(AMC*ANION_weight)+(WMC4*WATER_weight))*100\n",
    "Absortion5 = (WMC5*WATER_weight)/((CMC*CATION_weight)+(AMC*ANION_weight)+(WMC5*WATER_weight))*100\n",
    "Absortion6 = (WMC6*WATER_weight)/((CMC*CATION_weight)+(AMC*ANION_weight)+(WMC6*WATER_weight))*100\n",
    "Absortion7 = (WMC7*WATER_weight)/((CMC*CATION_weight)+(AMC*ANION_weight)+(WMC7*WATER_weight))*100\n",
    "Absortion8 = (WMC8*WATER_weight)/((CMC*CATION_weight)+(AMC*ANION_weight)+(WMC8*WATER_weight))*100\n",
    "Absortion9 = (WMC9*WATER_weight)/((CMC*CATION_weight)+(AMC*ANION_weight)+(WMC9*WATER_weight))*100\n",
    "Absortion10 = (WMC10*WATER_weight)/((CMC*CATION_weight)+(AMC*ANION_weight)+(WMC10*WATER_weight))*100\n",
    "Absortion11 = (WMC11*WATER_weight)/((CMC*CATION_weight)+(AMC*ANION_weight)+(WMC11*WATER_weight))*100\n",
    "Absortion12 = (WMC12*WATER_weight)/((CMC*CATION_weight)+(AMC*ANION_weight)+(WMC12*WATER_weight))*100\n"
   ]
  },
  {
   "cell_type": "code",
   "execution_count": 83,
   "id": "25f5902b",
   "metadata": {},
   "outputs": [
    {
     "name": "stdout",
     "output_type": "stream",
     "text": [
      "4.662457000994847 3.424185397970309 2.54547067674524 2.121390454654562 1.6398668061716262 1.4243321854445723 1.2295418034100192 1.0992533007794938 0.914088424667614 0.6514956985278076 0.5086760027438016 0.2991993309309161\n"
     ]
    }
   ],
   "source": [
    "print(Absortion1,\n",
    "      Absortion2,\n",
    "      Absortion3,\n",
    "      Absortion4,\n",
    "      Absortion5,\n",
    "      Absortion6,\n",
    "      Absortion7,\n",
    "      Absortion8,\n",
    "      Absortion9,\n",
    "      Absortion10,\n",
    "      Absortion11,\n",
    "      Absortion12)"
   ]
  },
  {
   "cell_type": "code",
   "execution_count": null,
   "id": "20e122f1",
   "metadata": {},
   "outputs": [],
   "source": []
  },
  {
   "cell_type": "raw",
   "id": "b7286dff",
   "metadata": {},
   "source": [
    "sys.stdout.close() \n",
    "sys.stdout = temp"
   ]
  },
  {
   "cell_type": "code",
   "execution_count": null,
   "id": "634c9eef",
   "metadata": {},
   "outputs": [],
   "source": []
  },
  {
   "cell_type": "code",
   "execution_count": null,
   "id": "e34fa79a",
   "metadata": {},
   "outputs": [],
   "source": []
  },
  {
   "cell_type": "code",
   "execution_count": null,
   "id": "34a69905",
   "metadata": {},
   "outputs": [],
   "source": []
  },
  {
   "cell_type": "code",
   "execution_count": null,
   "id": "9c6543d7",
   "metadata": {},
   "outputs": [],
   "source": []
  },
  {
   "cell_type": "code",
   "execution_count": null,
   "id": "cda9b5bd",
   "metadata": {},
   "outputs": [],
   "source": []
  },
  {
   "cell_type": "code",
   "execution_count": null,
   "id": "70dca6b2",
   "metadata": {},
   "outputs": [],
   "source": []
  },
  {
   "cell_type": "code",
   "execution_count": null,
   "id": "e7520fc0",
   "metadata": {},
   "outputs": [],
   "source": []
  },
  {
   "cell_type": "code",
   "execution_count": null,
   "id": "8652799a",
   "metadata": {},
   "outputs": [],
   "source": []
  },
  {
   "cell_type": "code",
   "execution_count": null,
   "id": "b13cbc5d",
   "metadata": {},
   "outputs": [],
   "source": []
  },
  {
   "cell_type": "code",
   "execution_count": null,
   "id": "54a93767",
   "metadata": {},
   "outputs": [],
   "source": []
  },
  {
   "cell_type": "code",
   "execution_count": null,
   "id": "e6906b6f",
   "metadata": {},
   "outputs": [],
   "source": []
  },
  {
   "cell_type": "code",
   "execution_count": null,
   "id": "069c9cf6",
   "metadata": {},
   "outputs": [],
   "source": []
  },
  {
   "cell_type": "code",
   "execution_count": null,
   "id": "003401ed",
   "metadata": {},
   "outputs": [],
   "source": []
  },
  {
   "cell_type": "code",
   "execution_count": null,
   "id": "f58bc37a",
   "metadata": {},
   "outputs": [],
   "source": []
  }
 ],
 "metadata": {
  "kernelspec": {
   "display_name": "Python 3 (ipykernel)",
   "language": "python",
   "name": "python3"
  },
  "language_info": {
   "codemirror_mode": {
    "name": "ipython",
    "version": 3
   },
   "file_extension": ".py",
   "mimetype": "text/x-python",
   "name": "python",
   "nbconvert_exporter": "python",
   "pygments_lexer": "ipython3",
   "version": "3.7.12"
  }
 },
 "nbformat": 4,
 "nbformat_minor": 5
}
