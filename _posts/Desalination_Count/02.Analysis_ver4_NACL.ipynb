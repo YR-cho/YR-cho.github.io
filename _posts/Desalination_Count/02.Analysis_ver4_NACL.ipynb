{
 "cells": [
  {
   "cell_type": "code",
   "execution_count": 1,
   "id": "3787739a",
   "metadata": {},
   "outputs": [],
   "source": [
    "import string\n",
    "import sys\n",
    "import pandas as pd\n",
    "from pandas import DataFrame\n",
    "import os\n",
    "import natsort\n",
    "import matplotlib.pyplot as plt"
   ]
  },
  {
   "cell_type": "markdown",
   "id": "f96f4ba0",
   "metadata": {},
   "source": [
    "## 데이터 취합 & 분석"
   ]
  },
  {
   "cell_type": "markdown",
   "id": "a2f55d3e",
   "metadata": {},
   "source": [
    "### 001.데이터 작업할 CSV파일 list로 만들기"
   ]
  },
  {
   "cell_type": "code",
   "execution_count": 39,
   "id": "0db81c9d",
   "metadata": {},
   "outputs": [],
   "source": [
    "### NACL 정보 로드 \n",
    "import os\n",
    "\n",
    "folder_path = './Desalination_Analysis_NACL/' # 각 샘플 정보를 다 읽음\n",
    "csv_file_list = []\n",
    "\n",
    "for file_name in os.listdir(folder_path):\n",
    "    if file_name.endswith('.csv') and file_name.startswith('MD'):\n",
    "        csv_file_list.append(file_name)\n",
    "        \n",
    "csv_file_listNACL = csv_file_list"
   ]
  },
  {
   "cell_type": "code",
   "execution_count": 41,
   "id": "c43107ae",
   "metadata": {},
   "outputs": [],
   "source": [
    "### WATER 정보 로드 \n",
    "import os\n",
    "\n",
    "folder_path = './Desalination_Analysis_WATER_COUNT/' # 각 샘플 정보를 다 읽음\n",
    "csv_file_list = []\n",
    "\n",
    "for file_name in os.listdir(folder_path):\n",
    "    if file_name.endswith('.csv') and file_name.startswith('MD'):\n",
    "        csv_file_list.append(file_name)\n",
    "        \n",
    "csv_file_listWATER = csv_file_list"
   ]
  },
  {
   "cell_type": "code",
   "execution_count": null,
   "id": "39d454b9",
   "metadata": {},
   "outputs": [],
   "source": []
  },
  {
   "cell_type": "markdown",
   "id": "72a5e00e",
   "metadata": {},
   "source": [
    "### 002. NACL count정보와  WATER count 정보, 두 CSV에 있는 데이터를 각 범위에 따라서 feed 농도를 설정하고 Permeate 농도를 우선 구하고 두 농도를 나눈값 (Rejection)"
   ]
  },
  {
   "cell_type": "markdown",
   "id": "3732b051",
   "metadata": {},
   "source": [
    "$R=$ $\\left(1-\\frac{C_Permeate}{C_Feed} \\right) \\times 100$"
   ]
  },
  {
   "cell_type": "code",
   "execution_count": 35,
   "id": "d94afb7c",
   "metadata": {},
   "outputs": [],
   "source": [
    "mean_values = pd.DataFrame()  # 빈 데이터프레임으로 초기화\n",
    "\n",
    "for i in csv_file_listWATER:\n",
    "    DATA_WATER = pd.read_csv(\"./Desalination_Analysis_WATER_COUNT/\"+str(i))\n",
    "    DATA_Salt = pd.read_csv(\"./Desalination_Analysis_NACL/\"+str(i))\n",
    "    ###################################################################################\n",
    "    selected_columns = [col for col in DATA_Salt.columns if 'NA' in col]\n",
    "    DATA_NA = DATA_Salt[selected_columns]\n",
    "    new_columns = [col.replace(\"NA_\", \"\") if \"NA_\" in col else col for col in DATA_NA.columns]\n",
    "    DATA_NA.columns  = new_columns\n",
    "    ###################################################################################\n",
    "    selected_columns = [col for col in DATA_Salt.columns if 'CL' in col]\n",
    "    DATA_CL = DATA_Salt[selected_columns]\n",
    "    new_columns = [col.replace(\"CL_\", \"\") if \"CL_\" in col else col for col in DATA_CL.columns]\n",
    "    DATA_CL.columns  = new_columns\n",
    "    ###################################################################################\n",
    "    if '0.65M' in i:\n",
    "        DATA = (1 - ((DATA_CL)/(DATA_WATER)) / ((117)/(9000))) * 100  \n",
    "    elif '1.7M' in i:\n",
    "        DATA= (1 - ((DATA_CL)/(DATA_WATER)) / ((306)/(9000))) * 100 \n",
    "    elif '3.4M' in i:\n",
    "        DATA = (1 - ((DATA_CL)/(DATA_WATER)) / ((612)/(9000))) * 100 \n",
    "    ###################################################################################\n",
    "    mean_values = pd.concat([mean_values, DATA[19:].mean()], axis=1,sort=False)\n",
    "    \n",
    "modified_list = [csv[3:-4] for csv in csv_file_list]    \n",
    "mean_values.columns = modified_list\n",
    "mean_values.to_csv(\"SUMMARY_NACL_Rejection_Percent_Ver2.csv\", mode='a')\n"
   ]
  },
  {
   "cell_type": "code",
   "execution_count": null,
   "id": "c0a7a425",
   "metadata": {},
   "outputs": [],
   "source": []
  },
  {
   "cell_type": "code",
   "execution_count": null,
   "id": "d762dc27",
   "metadata": {},
   "outputs": [],
   "source": []
  }
 ],
 "metadata": {
  "kernelspec": {
   "display_name": "Python 3",
   "language": "python",
   "name": "python3"
  },
  "language_info": {
   "codemirror_mode": {
    "name": "ipython",
    "version": 3
   },
   "file_extension": ".py",
   "mimetype": "text/x-python",
   "name": "python",
   "nbconvert_exporter": "python",
   "pygments_lexer": "ipython3",
   "version": "3.6.15"
  }
 },
 "nbformat": 4,
 "nbformat_minor": 5
}
