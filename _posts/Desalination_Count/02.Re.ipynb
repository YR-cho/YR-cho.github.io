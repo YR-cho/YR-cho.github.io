{
 "cells": [
  {
   "cell_type": "code",
   "execution_count": 1,
   "id": "d260532a",
   "metadata": {},
   "outputs": [],
   "source": [
    "import string\n",
    "import sys\n",
    "import pandas as pd\n",
    "from pandas import DataFrame\n",
    "import os\n",
    "import natsort\n",
    "import matplotlib.pyplot as plt"
   ]
  },
  {
   "cell_type": "code",
   "execution_count": 3,
   "id": "27d03807",
   "metadata": {},
   "outputs": [],
   "source": [
    "file_path = \"SUMMARY_WATER.csv\"  # 실제 파일 경로로 변경해주세요.\n",
    "\n",
    "# CSV 파일 읽어들이기\n",
    "df = pd.read_csv(file_path)\n",
    "\n",
    "# 컬럼을 리스트로 변환\n",
    "column_list = df.columns.tolist()\n",
    "column_list = column_list[1:]\n",
    "\n",
    "# 같은 물질, 농도별로 정렬\n",
    "sorted_column_list_by_concentration = sorted(column_list, key=lambda x: (x.split('_')[0], float(x.split('_')[2][:-1])))\n",
    "\n",
    "# 같은 물질, 온도별로 정렬\n",
    "sorted_column_list_by_temperature = sorted(column_list, key=lambda x: (x.split('_')[0], int(x.split('_')[3][:-1])))\n",
    "First_DF = df.iloc[:, :1]"
   ]
  },
  {
   "cell_type": "code",
   "execution_count": 4,
   "id": "3cb30c6d",
   "metadata": {},
   "outputs": [],
   "source": [
    "df = df[sorted_column_list_by_temperature]"
   ]
  },
  {
   "cell_type": "code",
   "execution_count": 5,
   "id": "787672c1",
   "metadata": {},
   "outputs": [],
   "source": [
    "new_df = pd.concat([First_DF, df], axis=1)"
   ]
  },
  {
   "cell_type": "code",
   "execution_count": 6,
   "id": "670e8a03",
   "metadata": {},
   "outputs": [],
   "source": [
    "new_df.to_csv(\"SUMMARY_WATER_RE.csv\", mode='a')"
   ]
  },
  {
   "cell_type": "code",
   "execution_count": null,
   "id": "972d8600",
   "metadata": {},
   "outputs": [],
   "source": []
  }
 ],
 "metadata": {
  "kernelspec": {
   "display_name": "Python 3 (ipykernel)",
   "language": "python",
   "name": "python3"
  },
  "language_info": {
   "codemirror_mode": {
    "name": "ipython",
    "version": 3
   },
   "file_extension": ".py",
   "mimetype": "text/x-python",
   "name": "python",
   "nbconvert_exporter": "python",
   "pygments_lexer": "ipython3",
   "version": "3.8.15"
  }
 },
 "nbformat": 4,
 "nbformat_minor": 5
}
