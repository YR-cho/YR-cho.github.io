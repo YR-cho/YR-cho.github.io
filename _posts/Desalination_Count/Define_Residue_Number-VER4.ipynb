{
 "cells": [
  {
   "cell_type": "code",
   "execution_count": 386,
   "id": "99a64ed3",
   "metadata": {},
   "outputs": [],
   "source": [
    "import pandas as pd\n",
    "import numpy as np\n",
    "\n",
    "#import rdkit\n",
    "#from rdkit import Chem\n",
    "\n",
    "import biopandas\n",
    "from biopandas.pdb import PandasPdb\n",
    "from biopandas.mol2 import PandasMol2\n",
    "\n",
    "import matplotlib.pyplot as plt\n",
    "from mpl_toolkits.mplot3d import Axes3D\n",
    "\n",
    "import sys\n",
    "from collections import Counter\n",
    "import time"
   ]
  },
  {
   "cell_type": "code",
   "execution_count": 370,
   "id": "7cff6cf3",
   "metadata": {},
   "outputs": [],
   "source": [
    "ANION_MOLECULE = \"T2N\"\n",
    "ANION_ATOM_COUNT = 15\n",
    "ANION_weight = 139.22\n",
    "\n",
    "CATION_MOLECULE = \"BMI\"\n",
    "CATION_ATOM_COUNT = 25\n",
    "CATION_weight = 281.16\n",
    "\n",
    "WATER_MOLECULE = \"T5P\"\n",
    "WATER_ATOM_COUNT = 3\n",
    "WATER_weight = 18.02\n",
    "\n",
    "\n",
    "SODIUM_ATOM = \"NA\"\n",
    "CHLORIDE_ATOM = \"CL\"\n",
    "\n",
    "SURFACE_RANGE = 5\n",
    "DIGGER_RANGE = 6"
   ]
  },
  {
   "cell_type": "code",
   "execution_count": 371,
   "id": "f859345f",
   "metadata": {},
   "outputs": [],
   "source": [
    "INPUT_FILE = \"./FILE/BOX_Bmim_Tf2N_0_5M_all_components_amorphous_-_Frame_51.mol2\"\n",
    "INPUT_FILE_PATH = \"./FILE/BOX_Bmim_Tf2N_0_5M_all_components_amorphous_-_Frame_51.mol2\""
   ]
  },
  {
   "cell_type": "code",
   "execution_count": 372,
   "id": "564846bd",
   "metadata": {},
   "outputs": [],
   "source": [
    "cnt = 0\n",
    "find_word = \"@<TRIPOS>BOND\"\n",
    "with open(INPUT_FILE, 'r') as file:    # hello.txt 파일을 읽기 모드(r)로 열기\n",
    "    line = None    # 변수 line을 None으로 초기화\n",
    "    while line != '':\n",
    "        line = file.readline()\n",
    "        cnt += 1\n",
    "        if \"@<TRIPOS>BOND\" in line:\n",
    "            FN = cnt\n",
    "            \n",
    "        if \"@<TRIPOS>SUBSTRUCTURE\" in line:\n",
    "            EN = cnt\n",
    "#===============================================================================           \n",
    "f = open(INPUT_FILE_PATH, 'r')\n",
    "F = f.readlines()[FN:EN-1]\n",
    "Bond_list = []\n",
    "for i in range(EN-FN-1):\n",
    "    DATA = F[int(i)].strip().split()\n",
    "    Bond_list.append(DATA)\n",
    "#===============================================================================  \n",
    "column_name=['Bond_Index', 'Bond_Atom1', 'Bond_Atom2', 'Bond_Case']\n",
    "Bond_Data_Frame = pd.DataFrame(Bond_list, columns = column_name)\n",
    "#===============================================================================\n",
    "Bond_Data_Frame = Bond_Data_Frame.astype({'Bond_Atom1': int, 'Bond_Atom2': int})"
   ]
  },
  {
   "cell_type": "code",
   "execution_count": 373,
   "id": "07fa65cb",
   "metadata": {},
   "outputs": [],
   "source": [
    "pmol = PandasMol2().read_mol2(INPUT_FILE_PATH)  ### input\n",
    "Total_system = pmol.df"
   ]
  },
  {
   "cell_type": "code",
   "execution_count": 374,
   "id": "64d6fcff",
   "metadata": {},
   "outputs": [],
   "source": [
    "condition = (pmol.df.subst_name == CATION_MOLECULE) \n",
    "Data_Selecte_subst_CATION = pmol.df[condition]\n",
    "Data_Selecte_subst_CATION_index = pmol.df[condition].index\n",
    "\n",
    "condition = (pmol.df.subst_name == ANION_MOLECULE) \n",
    "Data_Selecte_subst_ANION = pmol.df[condition]\n",
    "Data_Selecte_subst_ANION_index = pmol.df[condition].index\n",
    "\n",
    "condition = (pmol.df.subst_name == WATER_MOLECULE) \n",
    "Data_Selecte_subst_WATER = pmol.df[condition]\n",
    "Data_Selecte_subst_WATER_index = pmol.df[condition].index\n",
    "\n",
    "condition = (pmol.df.subst_name == SODIUM_ATOM) \n",
    "Data_Selecte_subst_NA = pmol.df[condition]\n",
    "Data_Selecte_subst_NA_index = pmol.df[condition].index\n",
    "\n",
    "\n",
    "condition = (pmol.df.subst_name == CHLORIDE_ATOM) \n",
    "Data_Selecte_subst_CL = pmol.df[condition]\n",
    "Data_Selecte_subst_CL_index = pmol.df[condition].index"
   ]
  },
  {
   "cell_type": "code",
   "execution_count": 375,
   "id": "5781fc4c",
   "metadata": {},
   "outputs": [],
   "source": [
    "CATION_Residue_LIST = []\n",
    "for i in range(1, int(len(Data_Selecte_subst_CATION_index)/CATION_ATOM_COUNT)+1):\n",
    "    ATOM_COUNT = 0  ## while 반복문 초기화\n",
    "    while ATOM_COUNT < 25:    ## 수치 적정 변수로 생각하기\n",
    "        CATION_Residue_LIST.append(\"CATION_Res_\"+str(i))\n",
    "        ATOM_COUNT = ATOM_COUNT+1\n",
    "        \n",
    "        \n",
    "ANION_Residue_LIST = []\n",
    "for i in range(1, int(len(Data_Selecte_subst_ANION_index)/ANION_ATOM_COUNT)+1):\n",
    "    ATOM_COUNT = 0  ## while 반복문 초기화\n",
    "    while ATOM_COUNT < 15:    ## 수치 적정 변수로 생각하기\n",
    "        ANION_Residue_LIST.append(\"ANION_Res_\"+str(i))\n",
    "        ATOM_COUNT = ATOM_COUNT+1       \n",
    "        \n",
    "        \n",
    "WATER_Residue_LIST = []\n",
    "for i in range(1, int(len(Data_Selecte_subst_WATER_index)/WATER_ATOM_COUNT)+1):\n",
    "    ATOM_COUNT = 0  ## while 반복문 초기화\n",
    "    while ATOM_COUNT < 3:    ## 수치 적정 변수로 생각하기\n",
    "        WATER_Residue_LIST.append(\"WATER_Res_\"+str(i))\n",
    "        ATOM_COUNT = ATOM_COUNT+1        \n",
    "        \n",
    "        \n",
    "NA_Residue_LIST = []\n",
    "for i in range(1, int(len(Data_Selecte_subst_NA_index)/1)+1):\n",
    "    ATOM_COUNT = 0  ## while 반복문 초기화\n",
    "    while ATOM_COUNT < 1:    ## 수치 적정 변수로 생각하기\n",
    "        NA_Residue_LIST.append(\"NA_Res_\"+str(i))\n",
    "        ATOM_COUNT = ATOM_COUNT+1        \n",
    "        \n",
    "        \n",
    "CL_Residue_LIST = []\n",
    "for i in range(1, int(len(Data_Selecte_subst_CL_index)/1)+1):\n",
    "    ATOM_COUNT = 0  ## while 반복문 초기화\n",
    "    while ATOM_COUNT < 1:    ## 수치 적정 변수로 생각하기\n",
    "        CL_Residue_LIST.append(\"CL_Res_\"+str(i))\n",
    "        ATOM_COUNT = ATOM_COUNT+1        "
   ]
  },
  {
   "cell_type": "code",
   "execution_count": 376,
   "id": "ff7b879f",
   "metadata": {},
   "outputs": [],
   "source": [
    "SYSTEM_Reside_LIST = CATION_Residue_LIST + ANION_Residue_LIST + WATER_Residue_LIST + NA_Residue_LIST + CL_Residue_LIST"
   ]
  },
  {
   "cell_type": "code",
   "execution_count": 377,
   "id": "4a321e1e",
   "metadata": {},
   "outputs": [],
   "source": [
    "SYSTEM_Reside_DF = pd.DataFrame(SYSTEM_Reside_LIST)\n",
    "SYSTEM_Reside_DF.columns=[\"Residue_number\"]"
   ]
  },
  {
   "cell_type": "code",
   "execution_count": null,
   "id": "b94eb0e8",
   "metadata": {},
   "outputs": [],
   "source": []
  },
  {
   "cell_type": "code",
   "execution_count": 378,
   "id": "03e54c58",
   "metadata": {},
   "outputs": [],
   "source": [
    "Total_system_SYSTEM_Reside_DF = pd.concat([Total_system,SYSTEM_Reside_DF],axis=1)"
   ]
  },
  {
   "cell_type": "code",
   "execution_count": null,
   "id": "f96cf4b4",
   "metadata": {},
   "outputs": [],
   "source": []
  },
  {
   "cell_type": "code",
   "execution_count": 379,
   "id": "0368f915",
   "metadata": {},
   "outputs": [],
   "source": [
    "### 1. 특정 ATOM을 선택하면 해당 index를 뽑고 해당 Residue_number를 추출한다.\n",
    "### 2. 해당 Residue_number에 해당하는 분자를 찾는다."
   ]
  },
  {
   "cell_type": "code",
   "execution_count": 380,
   "id": "c1c1d593",
   "metadata": {},
   "outputs": [
    {
     "data": {
      "text/plain": [
       "42660"
      ]
     },
     "execution_count": 380,
     "metadata": {},
     "output_type": "execute_result"
    }
   ],
   "source": [
    "len(Total_system_SYSTEM_Reside_DF)"
   ]
  },
  {
   "cell_type": "code",
   "execution_count": 381,
   "id": "9943db5c",
   "metadata": {},
   "outputs": [
    {
     "data": {
      "text/plain": [
       "9675"
      ]
     },
     "execution_count": 381,
     "metadata": {},
     "output_type": "execute_result"
    }
   ],
   "source": [
    "len(Total_system_SYSTEM_Reside_DF[(Total_system_SYSTEM_Reside_DF['subst_name'] == CATION_MOLECULE)])"
   ]
  },
  {
   "cell_type": "code",
   "execution_count": null,
   "id": "61127e46",
   "metadata": {},
   "outputs": [],
   "source": []
  },
  {
   "cell_type": "markdown",
   "id": "21ae570b",
   "metadata": {},
   "source": [
    "## Define Cluster"
   ]
  },
  {
   "cell_type": "markdown",
   "id": "2800c20a",
   "metadata": {},
   "source": [
    "#### step 1. 선택한 molecule의 인근 (3A) ATOM 선택하기"
   ]
  },
  {
   "cell_type": "code",
   "execution_count": 382,
   "id": "7eac07a1",
   "metadata": {},
   "outputs": [],
   "source": [
    "condition = (pmol.df.subst_name == ANION_MOLECULE)\n",
    "Data_Selecte_subst = pmol.df[condition]\n",
    "Data_Selecte_subst_index = pmol.df[condition].index"
   ]
  },
  {
   "cell_type": "code",
   "execution_count": null,
   "id": "d211dd00",
   "metadata": {},
   "outputs": [],
   "source": []
  },
  {
   "cell_type": "code",
   "execution_count": 389,
   "id": "324a0671",
   "metadata": {},
   "outputs": [
    {
     "name": "stdout",
     "output_type": "stream",
     "text": [
      "time : 16.69072723388672\n"
     ]
    }
   ],
   "source": [
    "start = time.time()\n",
    "\n",
    "find_range = 3    ### input\n",
    "list_set = []\n",
    "list_set_array = np.array([], dtype= int)\n",
    "\n",
    "\n",
    "for i in range(0, len(Data_Selecte_subst_index)):\n",
    "    select_dataframe = None  ## 선택한 데이터 프레임 초기화\n",
    "    select_dataframe = Data_Selecte_subst.iloc[i]\n",
    "\n",
    "\n",
    "    sq1_range = (select_dataframe[['x','y','z']]+find_range)\n",
    "    sq3_range = (select_dataframe[['x','y','z']]-find_range)\n",
    "\n",
    "    selected_dataframe = Total_system_SYSTEM_Reside_DF[(Total_system_SYSTEM_Reside_DF['x'] <= sq1_range[\"x\"]) &\n",
    "                                                       (Total_system_SYSTEM_Reside_DF['x'] >= sq3_range[\"x\"]) &\n",
    "                                                       (Total_system_SYSTEM_Reside_DF['y'] <= sq1_range[\"y\"]) &\n",
    "                                                       (Total_system_SYSTEM_Reside_DF['y'] >= sq3_range[\"y\"]) &\n",
    "                                                       (Total_system_SYSTEM_Reside_DF['z'] <= sq1_range[\"z\"]) &\n",
    "                                                       (Total_system_SYSTEM_Reside_DF['z'] >= sq3_range[\"z\"])]\n",
    "                                      \n",
    "\n",
    "    cal_x = (float(select_dataframe[\"x\"]) - selected_dataframe[\"x\"]).pow(2)\n",
    "    cal_y = (float(select_dataframe[\"y\"]) - selected_dataframe[\"y\"]).pow(2)\n",
    "    cal_z = (float(select_dataframe[\"z\"]) - selected_dataframe[\"z\"]).pow(2)\n",
    "    Distance = (cal_x+cal_y+cal_z)**0.5\n",
    "    \n",
    "    #Distance\n",
    "\n",
    "    Distance_index = Distance[(Distance <= find_range)].index\n",
    "    Select_Atom_List = Distance_index.values.tolist()\n",
    "    Select_Atom_List_NP = np.array(Select_Atom_List,dtype=int)\n",
    "    \n",
    "    list_set_array = np.append(list_set_array,Select_Atom_List_NP)\n",
    "list_set_array= np.unique(list_set_array)\n",
    "    \n",
    "    ##  선택한 원자 선택\n",
    "    \n",
    "    # list_set\n",
    "    # list_set = [] 위쪽에 빈공간 있음\n",
    "    #for i in range(0,len(Select_Atom_List)+1):\n",
    "    #    list_set.extend(Select_Atom_List)\n",
    "    #    list_set = set(list_set)  \n",
    "    #    list_set = list(list_set)\n",
    "        \n",
    "        \n",
    "print(\"time :\",time.time() - start)"
   ]
  },
  {
   "cell_type": "code",
   "execution_count": 390,
   "id": "4e843d13",
   "metadata": {},
   "outputs": [
    {
     "data": {
      "text/plain": [
       "array([    5,    10,    11, ..., 42489, 42526, 42530])"
      ]
     },
     "execution_count": 390,
     "metadata": {},
     "output_type": "execute_result"
    }
   ],
   "source": [
    "list_set_array"
   ]
  },
  {
   "cell_type": "code",
   "execution_count": 391,
   "id": "64e41e53",
   "metadata": {},
   "outputs": [
    {
     "data": {
      "text/plain": [
       "[]"
      ]
     },
     "execution_count": 391,
     "metadata": {},
     "output_type": "execute_result"
    }
   ],
   "source": [
    "list_set"
   ]
  },
  {
   "cell_type": "code",
   "execution_count": null,
   "id": "d281752f",
   "metadata": {},
   "outputs": [],
   "source": []
  },
  {
   "cell_type": "code",
   "execution_count": null,
   "id": "aa85cc8c",
   "metadata": {},
   "outputs": [],
   "source": [
    "start = time.time()\n",
    "\n",
    "find_range = 3    ### input\n",
    "list_set = []\n",
    "list_set_array = np.array([], dtype= int)\n",
    "\n",
    "\n",
    "for i in range(0, len(Data_Selecte_subst_index)):\n",
    "    select_dataframe = None  ## 선택한 데이터 프레임 초기화\n",
    "    select_dataframe = Data_Selecte_subst.iloc[i]\n",
    "\n",
    "\n",
    "    sq1_range = (select_dataframe[['x','y','z']]+find_range)\n",
    "    sq3_range = (select_dataframe[['x','y','z']]-find_range)\n",
    "\n",
    "    selected_dataframe = Total_system_SYSTEM_Reside_DF[(Total_system_SYSTEM_Reside_DF['x'] <= sq1_range[\"x\"]) &\n",
    "                                                       (Total_system_SYSTEM_Reside_DF['x'] >= sq3_range[\"x\"]) &\n",
    "                                                       (Total_system_SYSTEM_Reside_DF['y'] <= sq1_range[\"y\"]) &\n",
    "                                                       (Total_system_SYSTEM_Reside_DF['y'] >= sq3_range[\"y\"]) &\n",
    "                                                       (Total_system_SYSTEM_Reside_DF['z'] <= sq1_range[\"z\"]) &\n",
    "                                                       (Total_system_SYSTEM_Reside_DF['z'] >= sq3_range[\"z\"])]\n",
    "                                      \n",
    "\n",
    "    cal_x = (float(select_dataframe[\"x\"]) - selected_dataframe[\"x\"]).pow(2)\n",
    "    cal_y = (float(select_dataframe[\"y\"]) - selected_dataframe[\"y\"]).pow(2)\n",
    "    cal_z = (float(select_dataframe[\"z\"]) - selected_dataframe[\"z\"]).pow(2)\n",
    "    Distance = (cal_x+cal_y+cal_z)**0.5\n",
    "    \n",
    "    #Distance\n",
    "\n",
    "    Distance_index = Distance[(Distance <= find_range)].index\n",
    "    Select_Atom_List = Distance_index.values.tolist()\n",
    "    Select_Atom_List_NP = np.array(Select_Atom_List,dtype=int)\n",
    "    \n",
    "    list_set_array = np.append(list_set_array,Select_Atom_List_NP)\n",
    "list_set_array= np.unique(list_set_array)\n",
    "    \n",
    "    ##  선택한 원자 선택\n",
    "    \n",
    "    # list_set\n",
    "    # list_set = [] 위쪽에 빈공간 있음\n",
    "    #for i in range(0,len(Select_Atom_List)+1):\n",
    "    #    list_set.extend(Select_Atom_List)\n",
    "    #    list_set = set(list_set)  \n",
    "    #    list_set = list(list_set)\n",
    "        \n",
    "        \n",
    "print(\"time :\",time.time() - start)"
   ]
  },
  {
   "cell_type": "code",
   "execution_count": null,
   "id": "e042d67d",
   "metadata": {},
   "outputs": [],
   "source": []
  },
  {
   "cell_type": "code",
   "execution_count": null,
   "id": "b948bf46",
   "metadata": {},
   "outputs": [],
   "source": []
  },
  {
   "cell_type": "markdown",
   "id": "1e38f5c3",
   "metadata": {},
   "source": [
    "#### step 2. 선택한 molecule에서 Cation Residue만 선택하기"
   ]
  },
  {
   "cell_type": "code",
   "execution_count": 237,
   "id": "3b949fd4",
   "metadata": {},
   "outputs": [],
   "source": [
    "# 포함하고자 하는 문자열 리스트 생성\n",
    "Select_Residue_List = Total_system_SYSTEM_Reside_DF.iloc[list_set][[\"Residue_number\"]].drop_duplicates().squeeze().to_list()\n",
    "\n",
    "# 해당 list_set 있는 잔기를 선택\n",
    "result = Total_system_SYSTEM_Reside_DF[Total_system_SYSTEM_Reside_DF['Residue_number'].isin(Select_Residue_List)]"
   ]
  },
  {
   "cell_type": "code",
   "execution_count": 238,
   "id": "c85d7d79",
   "metadata": {},
   "outputs": [
    {
     "data": {
      "text/html": [
       "<div>\n",
       "<style scoped>\n",
       "    .dataframe tbody tr th:only-of-type {\n",
       "        vertical-align: middle;\n",
       "    }\n",
       "\n",
       "    .dataframe tbody tr th {\n",
       "        vertical-align: top;\n",
       "    }\n",
       "\n",
       "    .dataframe thead th {\n",
       "        text-align: right;\n",
       "    }\n",
       "</style>\n",
       "<table border=\"1\" class=\"dataframe\">\n",
       "  <thead>\n",
       "    <tr style=\"text-align: right;\">\n",
       "      <th></th>\n",
       "      <th>atom_id</th>\n",
       "      <th>atom_name</th>\n",
       "      <th>x</th>\n",
       "      <th>y</th>\n",
       "      <th>z</th>\n",
       "      <th>atom_type</th>\n",
       "      <th>subst_id</th>\n",
       "      <th>subst_name</th>\n",
       "      <th>charge</th>\n",
       "      <th>Residue_number</th>\n",
       "    </tr>\n",
       "  </thead>\n",
       "  <tbody>\n",
       "    <tr>\n",
       "      <th>0</th>\n",
       "      <td>1</td>\n",
       "      <td>C</td>\n",
       "      <td>21.7125</td>\n",
       "      <td>12.9756</td>\n",
       "      <td>-21.7713</td>\n",
       "      <td>C.3</td>\n",
       "      <td>1</td>\n",
       "      <td>BMI</td>\n",
       "      <td>-0.3305</td>\n",
       "      <td>CATION_Res_1</td>\n",
       "    </tr>\n",
       "    <tr>\n",
       "      <th>1</th>\n",
       "      <td>2</td>\n",
       "      <td>N</td>\n",
       "      <td>22.9275</td>\n",
       "      <td>12.3355</td>\n",
       "      <td>-21.4824</td>\n",
       "      <td>N.pl3</td>\n",
       "      <td>1</td>\n",
       "      <td>BMI</td>\n",
       "      <td>0.1939</td>\n",
       "      <td>CATION_Res_1</td>\n",
       "    </tr>\n",
       "    <tr>\n",
       "      <th>2</th>\n",
       "      <td>3</td>\n",
       "      <td>C</td>\n",
       "      <td>22.9824</td>\n",
       "      <td>11.0176</td>\n",
       "      <td>-21.2151</td>\n",
       "      <td>C.ar</td>\n",
       "      <td>1</td>\n",
       "      <td>BMI</td>\n",
       "      <td>-0.1044</td>\n",
       "      <td>CATION_Res_1</td>\n",
       "    </tr>\n",
       "    <tr>\n",
       "      <th>3</th>\n",
       "      <td>4</td>\n",
       "      <td>N</td>\n",
       "      <td>24.2717</td>\n",
       "      <td>10.6997</td>\n",
       "      <td>-20.8984</td>\n",
       "      <td>N.pl3</td>\n",
       "      <td>1</td>\n",
       "      <td>BMI</td>\n",
       "      <td>0.2896</td>\n",
       "      <td>CATION_Res_1</td>\n",
       "    </tr>\n",
       "    <tr>\n",
       "      <th>4</th>\n",
       "      <td>5</td>\n",
       "      <td>C</td>\n",
       "      <td>25.0390</td>\n",
       "      <td>11.8696</td>\n",
       "      <td>-20.9131</td>\n",
       "      <td>C.ar</td>\n",
       "      <td>1</td>\n",
       "      <td>BMI</td>\n",
       "      <td>-0.3225</td>\n",
       "      <td>CATION_Res_1</td>\n",
       "    </tr>\n",
       "    <tr>\n",
       "      <th>...</th>\n",
       "      <td>...</td>\n",
       "      <td>...</td>\n",
       "      <td>...</td>\n",
       "      <td>...</td>\n",
       "      <td>...</td>\n",
       "      <td>...</td>\n",
       "      <td>...</td>\n",
       "      <td>...</td>\n",
       "      <td>...</td>\n",
       "      <td>...</td>\n",
       "    </tr>\n",
       "    <tr>\n",
       "      <th>9670</th>\n",
       "      <td>9671</td>\n",
       "      <td>H</td>\n",
       "      <td>22.3638</td>\n",
       "      <td>-11.8768</td>\n",
       "      <td>4.0557</td>\n",
       "      <td>H</td>\n",
       "      <td>1</td>\n",
       "      <td>BMI</td>\n",
       "      <td>0.0914</td>\n",
       "      <td>CATION_Res_387</td>\n",
       "    </tr>\n",
       "    <tr>\n",
       "      <th>9671</th>\n",
       "      <td>9672</td>\n",
       "      <td>H</td>\n",
       "      <td>22.3671</td>\n",
       "      <td>-13.5961</td>\n",
       "      <td>4.2719</td>\n",
       "      <td>H</td>\n",
       "      <td>1</td>\n",
       "      <td>BMI</td>\n",
       "      <td>0.0882</td>\n",
       "      <td>CATION_Res_387</td>\n",
       "    </tr>\n",
       "    <tr>\n",
       "      <th>9672</th>\n",
       "      <td>9673</td>\n",
       "      <td>HXT</td>\n",
       "      <td>24.2591</td>\n",
       "      <td>-11.2821</td>\n",
       "      <td>9.7294</td>\n",
       "      <td>H</td>\n",
       "      <td>1</td>\n",
       "      <td>BMI</td>\n",
       "      <td>0.2511</td>\n",
       "      <td>CATION_Res_387</td>\n",
       "    </tr>\n",
       "    <tr>\n",
       "      <th>9673</th>\n",
       "      <td>9674</td>\n",
       "      <td>HXT</td>\n",
       "      <td>27.8447</td>\n",
       "      <td>-11.9993</td>\n",
       "      <td>7.5262</td>\n",
       "      <td>H</td>\n",
       "      <td>1</td>\n",
       "      <td>BMI</td>\n",
       "      <td>0.2562</td>\n",
       "      <td>CATION_Res_387</td>\n",
       "    </tr>\n",
       "    <tr>\n",
       "      <th>9674</th>\n",
       "      <td>9675</td>\n",
       "      <td>HXT</td>\n",
       "      <td>25.7621</td>\n",
       "      <td>-11.1835</td>\n",
       "      <td>5.7785</td>\n",
       "      <td>H</td>\n",
       "      <td>1</td>\n",
       "      <td>BMI</td>\n",
       "      <td>0.3008</td>\n",
       "      <td>CATION_Res_387</td>\n",
       "    </tr>\n",
       "  </tbody>\n",
       "</table>\n",
       "<p>9650 rows × 10 columns</p>\n",
       "</div>"
      ],
      "text/plain": [
       "      atom_id atom_name        x        y        z atom_type  subst_id  \\\n",
       "0           1         C  21.7125  12.9756 -21.7713       C.3         1   \n",
       "1           2         N  22.9275  12.3355 -21.4824     N.pl3         1   \n",
       "2           3         C  22.9824  11.0176 -21.2151      C.ar         1   \n",
       "3           4         N  24.2717  10.6997 -20.8984     N.pl3         1   \n",
       "4           5         C  25.0390  11.8696 -20.9131      C.ar         1   \n",
       "...       ...       ...      ...      ...      ...       ...       ...   \n",
       "9670     9671         H  22.3638 -11.8768   4.0557         H         1   \n",
       "9671     9672         H  22.3671 -13.5961   4.2719         H         1   \n",
       "9672     9673       HXT  24.2591 -11.2821   9.7294         H         1   \n",
       "9673     9674       HXT  27.8447 -11.9993   7.5262         H         1   \n",
       "9674     9675       HXT  25.7621 -11.1835   5.7785         H         1   \n",
       "\n",
       "     subst_name  charge  Residue_number  \n",
       "0           BMI -0.3305    CATION_Res_1  \n",
       "1           BMI  0.1939    CATION_Res_1  \n",
       "2           BMI -0.1044    CATION_Res_1  \n",
       "3           BMI  0.2896    CATION_Res_1  \n",
       "4           BMI -0.3225    CATION_Res_1  \n",
       "...         ...     ...             ...  \n",
       "9670        BMI  0.0914  CATION_Res_387  \n",
       "9671        BMI  0.0882  CATION_Res_387  \n",
       "9672        BMI  0.2511  CATION_Res_387  \n",
       "9673        BMI  0.2562  CATION_Res_387  \n",
       "9674        BMI  0.3008  CATION_Res_387  \n",
       "\n",
       "[9650 rows x 10 columns]"
      ]
     },
     "execution_count": 238,
     "metadata": {},
     "output_type": "execute_result"
    }
   ],
   "source": [
    "result[result['subst_name'] == CATION_MOLECULE]"
   ]
  },
  {
   "cell_type": "code",
   "execution_count": null,
   "id": "49558286",
   "metadata": {},
   "outputs": [],
   "source": []
  },
  {
   "cell_type": "markdown",
   "id": "5663b2c9",
   "metadata": {},
   "source": [
    "#### step 3. 선택한 molecule의 인근 (3A) ATOM 선택하기"
   ]
  },
  {
   "cell_type": "code",
   "execution_count": 239,
   "id": "ce54228f",
   "metadata": {},
   "outputs": [],
   "source": [
    "Data_Selecte_subst = result[result['subst_name'] == CATION_MOLECULE]"
   ]
  },
  {
   "cell_type": "code",
   "execution_count": 240,
   "id": "f555519b",
   "metadata": {},
   "outputs": [],
   "source": [
    "Data_Selecte_subst_index = result[result['subst_name'] == CATION_MOLECULE].index"
   ]
  },
  {
   "cell_type": "code",
   "execution_count": 241,
   "id": "24fef65c",
   "metadata": {},
   "outputs": [],
   "source": [
    "\n",
    "find_range = 3    ### input\n",
    "list_set = []\n",
    "\n",
    "for i in range(0, len(Data_Selecte_subst_index)):\n",
    "    select_dataframe = None  ## 선택한 데이터 프레임 초기화\n",
    "    select_dataframe = Data_Selecte_subst.iloc[i]\n",
    "\n",
    "\n",
    "    sq1_range = (select_dataframe[['x','y','z']]+find_range)\n",
    "    sq3_range = (select_dataframe[['x','y','z']]-find_range)\n",
    "\n",
    "    selected_dataframe = Total_system[(Total_system['x'] <= sq1_range[\"x\"]) &\n",
    "                                      (Total_system['x'] >= sq3_range[\"x\"]) &\n",
    "                                      (Total_system['y'] <= sq1_range[\"y\"]) &\n",
    "                                      (Total_system['y'] >= sq3_range[\"y\"]) &\n",
    "                                      (Total_system['z'] <= sq1_range[\"z\"]) &\n",
    "                                      (Total_system['z'] >= sq3_range[\"z\"])]\n",
    "                                      \n",
    "\n",
    "    cal_x = (float(select_dataframe[\"x\"]) - selected_dataframe[\"x\"]).pow(2)\n",
    "    cal_y = (float(select_dataframe[\"y\"]) - selected_dataframe[\"y\"]).pow(2)\n",
    "    cal_z = (float(select_dataframe[\"z\"]) - selected_dataframe[\"z\"]).pow(2)\n",
    "    Distance = (cal_x+cal_y+cal_z)**0.5\n",
    "    \n",
    "    #Distance\n",
    "\n",
    "    Distance_index = Distance[(Distance <= find_range)].index\n",
    "    Select_Atom_List=Distance_index.values.tolist()\n",
    "    \n",
    "    ##  선택한 원자 선택\n",
    "    \n",
    "    # list_set\n",
    "    # list_set = [] 위쪽에 빈공간 있음\n",
    "    for i in range(0,len(Select_Atom_List)+1):\n",
    "        list_set.extend(Select_Atom_List)\n",
    "        list_set = set(list_set)  \n",
    "        list_set = list(list_set)\n"
   ]
  },
  {
   "cell_type": "code",
   "execution_count": 242,
   "id": "d0d0d3eb",
   "metadata": {},
   "outputs": [],
   "source": [
    "# 포함하고자 하는 문자열 리스트 생성\n",
    "Select_Residue_List = Total_system_SYSTEM_Reside_DF.iloc[list_set][[\"Residue_number\"]].drop_duplicates().squeeze().to_list()\n",
    "\n",
    "# 해당 list_set 있는 잔기를 선택\n",
    "result = Total_system_SYSTEM_Reside_DF[Total_system_SYSTEM_Reside_DF['Residue_number'].isin(Select_Residue_List)]"
   ]
  },
  {
   "cell_type": "code",
   "execution_count": null,
   "id": "f2364e06",
   "metadata": {},
   "outputs": [],
   "source": []
  },
  {
   "cell_type": "markdown",
   "id": "6bd5b0be",
   "metadata": {},
   "source": [
    "#### step 4. IL Cluster Define"
   ]
  },
  {
   "cell_type": "code",
   "execution_count": 243,
   "id": "8acb2380",
   "metadata": {},
   "outputs": [],
   "source": [
    "IL_Cluster = result[(result['subst_name'] == CATION_MOLECULE)|(result['subst_name'] == ANION_MOLECULE)]"
   ]
  },
  {
   "cell_type": "code",
   "execution_count": 346,
   "id": "e711ece4",
   "metadata": {},
   "outputs": [
    {
     "data": {
      "text/html": [
       "<div>\n",
       "<style scoped>\n",
       "    .dataframe tbody tr th:only-of-type {\n",
       "        vertical-align: middle;\n",
       "    }\n",
       "\n",
       "    .dataframe tbody tr th {\n",
       "        vertical-align: top;\n",
       "    }\n",
       "\n",
       "    .dataframe thead th {\n",
       "        text-align: right;\n",
       "    }\n",
       "</style>\n",
       "<table border=\"1\" class=\"dataframe\">\n",
       "  <thead>\n",
       "    <tr style=\"text-align: right;\">\n",
       "      <th></th>\n",
       "      <th>atom_id</th>\n",
       "      <th>atom_name</th>\n",
       "      <th>x</th>\n",
       "      <th>y</th>\n",
       "      <th>z</th>\n",
       "      <th>atom_type</th>\n",
       "      <th>subst_id</th>\n",
       "      <th>subst_name</th>\n",
       "      <th>charge</th>\n",
       "      <th>Residue_number</th>\n",
       "    </tr>\n",
       "  </thead>\n",
       "  <tbody>\n",
       "    <tr>\n",
       "      <th>0</th>\n",
       "      <td>1</td>\n",
       "      <td>C</td>\n",
       "      <td>21.7125</td>\n",
       "      <td>12.9756</td>\n",
       "      <td>-21.7713</td>\n",
       "      <td>C.3</td>\n",
       "      <td>1</td>\n",
       "      <td>BMI</td>\n",
       "      <td>-0.3305</td>\n",
       "      <td>CATION_Res_1</td>\n",
       "    </tr>\n",
       "    <tr>\n",
       "      <th>1</th>\n",
       "      <td>2</td>\n",
       "      <td>N</td>\n",
       "      <td>22.9275</td>\n",
       "      <td>12.3355</td>\n",
       "      <td>-21.4824</td>\n",
       "      <td>N.pl3</td>\n",
       "      <td>1</td>\n",
       "      <td>BMI</td>\n",
       "      <td>0.1939</td>\n",
       "      <td>CATION_Res_1</td>\n",
       "    </tr>\n",
       "    <tr>\n",
       "      <th>2</th>\n",
       "      <td>3</td>\n",
       "      <td>C</td>\n",
       "      <td>22.9824</td>\n",
       "      <td>11.0176</td>\n",
       "      <td>-21.2151</td>\n",
       "      <td>C.ar</td>\n",
       "      <td>1</td>\n",
       "      <td>BMI</td>\n",
       "      <td>-0.1044</td>\n",
       "      <td>CATION_Res_1</td>\n",
       "    </tr>\n",
       "    <tr>\n",
       "      <th>3</th>\n",
       "      <td>4</td>\n",
       "      <td>N</td>\n",
       "      <td>24.2717</td>\n",
       "      <td>10.6997</td>\n",
       "      <td>-20.8984</td>\n",
       "      <td>N.pl3</td>\n",
       "      <td>1</td>\n",
       "      <td>BMI</td>\n",
       "      <td>0.2896</td>\n",
       "      <td>CATION_Res_1</td>\n",
       "    </tr>\n",
       "    <tr>\n",
       "      <th>4</th>\n",
       "      <td>5</td>\n",
       "      <td>C</td>\n",
       "      <td>25.0390</td>\n",
       "      <td>11.8696</td>\n",
       "      <td>-20.9131</td>\n",
       "      <td>C.ar</td>\n",
       "      <td>1</td>\n",
       "      <td>BMI</td>\n",
       "      <td>-0.3225</td>\n",
       "      <td>CATION_Res_1</td>\n",
       "    </tr>\n",
       "    <tr>\n",
       "      <th>...</th>\n",
       "      <td>...</td>\n",
       "      <td>...</td>\n",
       "      <td>...</td>\n",
       "      <td>...</td>\n",
       "      <td>...</td>\n",
       "      <td>...</td>\n",
       "      <td>...</td>\n",
       "      <td>...</td>\n",
       "      <td>...</td>\n",
       "      <td>...</td>\n",
       "    </tr>\n",
       "    <tr>\n",
       "      <th>15475</th>\n",
       "      <td>15476</td>\n",
       "      <td>F</td>\n",
       "      <td>18.5276</td>\n",
       "      <td>30.0993</td>\n",
       "      <td>-18.6566</td>\n",
       "      <td>F</td>\n",
       "      <td>2</td>\n",
       "      <td>T2N</td>\n",
       "      <td>-0.1518</td>\n",
       "      <td>ANION_Res_387</td>\n",
       "    </tr>\n",
       "    <tr>\n",
       "      <th>15476</th>\n",
       "      <td>15477</td>\n",
       "      <td>O</td>\n",
       "      <td>17.4059</td>\n",
       "      <td>33.6747</td>\n",
       "      <td>-17.9482</td>\n",
       "      <td>O.2</td>\n",
       "      <td>2</td>\n",
       "      <td>T2N</td>\n",
       "      <td>-0.6559</td>\n",
       "      <td>ANION_Res_387</td>\n",
       "    </tr>\n",
       "    <tr>\n",
       "      <th>15477</th>\n",
       "      <td>15478</td>\n",
       "      <td>O</td>\n",
       "      <td>16.6167</td>\n",
       "      <td>31.5197</td>\n",
       "      <td>-16.9102</td>\n",
       "      <td>O.2</td>\n",
       "      <td>2</td>\n",
       "      <td>T2N</td>\n",
       "      <td>-0.6559</td>\n",
       "      <td>ANION_Res_387</td>\n",
       "    </tr>\n",
       "    <tr>\n",
       "      <th>15478</th>\n",
       "      <td>15479</td>\n",
       "      <td>O</td>\n",
       "      <td>15.8857</td>\n",
       "      <td>34.0225</td>\n",
       "      <td>-20.4904</td>\n",
       "      <td>O.2</td>\n",
       "      <td>2</td>\n",
       "      <td>T2N</td>\n",
       "      <td>-0.6559</td>\n",
       "      <td>ANION_Res_387</td>\n",
       "    </tr>\n",
       "    <tr>\n",
       "      <th>15479</th>\n",
       "      <td>15480</td>\n",
       "      <td>O</td>\n",
       "      <td>14.6515</td>\n",
       "      <td>33.8076</td>\n",
       "      <td>-18.3547</td>\n",
       "      <td>O.2</td>\n",
       "      <td>2</td>\n",
       "      <td>T2N</td>\n",
       "      <td>-0.6559</td>\n",
       "      <td>ANION_Res_387</td>\n",
       "    </tr>\n",
       "  </tbody>\n",
       "</table>\n",
       "<p>15425 rows × 10 columns</p>\n",
       "</div>"
      ],
      "text/plain": [
       "       atom_id atom_name        x        y        z atom_type  subst_id  \\\n",
       "0            1         C  21.7125  12.9756 -21.7713       C.3         1   \n",
       "1            2         N  22.9275  12.3355 -21.4824     N.pl3         1   \n",
       "2            3         C  22.9824  11.0176 -21.2151      C.ar         1   \n",
       "3            4         N  24.2717  10.6997 -20.8984     N.pl3         1   \n",
       "4            5         C  25.0390  11.8696 -20.9131      C.ar         1   \n",
       "...        ...       ...      ...      ...      ...       ...       ...   \n",
       "15475    15476         F  18.5276  30.0993 -18.6566         F         2   \n",
       "15476    15477         O  17.4059  33.6747 -17.9482       O.2         2   \n",
       "15477    15478         O  16.6167  31.5197 -16.9102       O.2         2   \n",
       "15478    15479         O  15.8857  34.0225 -20.4904       O.2         2   \n",
       "15479    15480         O  14.6515  33.8076 -18.3547       O.2         2   \n",
       "\n",
       "      subst_name  charge Residue_number  \n",
       "0            BMI -0.3305   CATION_Res_1  \n",
       "1            BMI  0.1939   CATION_Res_1  \n",
       "2            BMI -0.1044   CATION_Res_1  \n",
       "3            BMI  0.2896   CATION_Res_1  \n",
       "4            BMI -0.3225   CATION_Res_1  \n",
       "...          ...     ...            ...  \n",
       "15475        T2N -0.1518  ANION_Res_387  \n",
       "15476        T2N -0.6559  ANION_Res_387  \n",
       "15477        T2N -0.6559  ANION_Res_387  \n",
       "15478        T2N -0.6559  ANION_Res_387  \n",
       "15479        T2N -0.6559  ANION_Res_387  \n",
       "\n",
       "[15425 rows x 10 columns]"
      ]
     },
     "execution_count": 346,
     "metadata": {},
     "output_type": "execute_result"
    }
   ],
   "source": [
    "IL_Cluster"
   ]
  },
  {
   "cell_type": "code",
   "execution_count": null,
   "id": "9ec3819b",
   "metadata": {},
   "outputs": [],
   "source": []
  },
  {
   "cell_type": "markdown",
   "id": "793886f0",
   "metadata": {},
   "source": [
    "## Select 5A Surface"
   ]
  },
  {
   "cell_type": "markdown",
   "id": "68290f4d",
   "metadata": {},
   "source": [
    "#### step 1. Select 5A surface"
   ]
  },
  {
   "cell_type": "code",
   "execution_count": 255,
   "id": "b75872e9",
   "metadata": {},
   "outputs": [],
   "source": [
    "Data_Selecte_subst = IL_Cluster\n",
    "Data_Selecte_subst_index = IL_Cluster.index"
   ]
  },
  {
   "cell_type": "code",
   "execution_count": 256,
   "id": "77eb3b37",
   "metadata": {},
   "outputs": [],
   "source": [
    "\n",
    "find_range = SURFACE_RANGE    ### input\n",
    "list_set = []\n",
    "\n",
    "for i in range(0, len(Data_Selecte_subst_index)):\n",
    "    select_dataframe = None  ## 선택한 데이터 프레임 초기화\n",
    "    select_dataframe = Data_Selecte_subst.iloc[i]\n",
    "\n",
    "\n",
    "    sq1_range = (select_dataframe[['x','y','z']]+find_range)\n",
    "    sq3_range = (select_dataframe[['x','y','z']]-find_range)\n",
    "\n",
    "    selected_dataframe = Total_system[(Total_system['x'] <= sq1_range[\"x\"]) &\n",
    "                                      (Total_system['x'] >= sq3_range[\"x\"]) &\n",
    "                                      (Total_system['y'] <= sq1_range[\"y\"]) &\n",
    "                                      (Total_system['y'] >= sq3_range[\"y\"]) &\n",
    "                                      (Total_system['z'] <= sq1_range[\"z\"]) &\n",
    "                                      (Total_system['z'] >= sq3_range[\"z\"])]\n",
    "                                      \n",
    "\n",
    "    cal_x = (float(select_dataframe[\"x\"]) - selected_dataframe[\"x\"]).pow(2)\n",
    "    cal_y = (float(select_dataframe[\"y\"]) - selected_dataframe[\"y\"]).pow(2)\n",
    "    cal_z = (float(select_dataframe[\"z\"]) - selected_dataframe[\"z\"]).pow(2)\n",
    "    Distance = (cal_x+cal_y+cal_z)**0.5\n",
    "    \n",
    "    #Distance\n",
    "\n",
    "    Distance_index = Distance[(Distance <= find_range)].index\n",
    "    Select_Atom_List=Distance_index.values.tolist()\n",
    "    \n",
    "    ##  선택한 원자 선택\n",
    "    \n",
    "    # list_set\n",
    "    # list_set = [] 위쪽에 빈공간 있음\n",
    "    for i in range(0,len(Select_Atom_List)+1):\n",
    "        list_set.extend(Select_Atom_List)\n",
    "        list_set = set(list_set)  \n",
    "        list_set = list(list_set)\n"
   ]
  },
  {
   "cell_type": "code",
   "execution_count": 257,
   "id": "212897d3",
   "metadata": {},
   "outputs": [],
   "source": [
    "# 포함하고자 하는 문자열 리스트 생성\n",
    "Select_Residue_List = Total_system_SYSTEM_Reside_DF.iloc[list_set][[\"Residue_number\"]].drop_duplicates().squeeze().to_list()\n",
    "\n",
    "# 해당 list_set 있는 잔기를 선택\n",
    "result = Total_system_SYSTEM_Reside_DF[Total_system_SYSTEM_Reside_DF['Residue_number'].isin(Select_Residue_List)]"
   ]
  },
  {
   "cell_type": "code",
   "execution_count": 258,
   "id": "e68b42b3",
   "metadata": {},
   "outputs": [],
   "source": [
    "IL_Cluster_surface = result[(result['subst_name'] == CATION_MOLECULE)|\n",
    "                            (result['subst_name'] == ANION_MOLECULE)|\n",
    "                            (result['subst_name'] == WATER_MOLECULE)|\n",
    "                            (result['subst_name'] == SODIUM_ATOM)|\n",
    "                            (result['subst_name'] == CHLORIDE_ATOM)]"
   ]
  },
  {
   "cell_type": "code",
   "execution_count": 263,
   "id": "fc6782f3",
   "metadata": {},
   "outputs": [
    {
     "data": {
      "text/plain": [
       "9675"
      ]
     },
     "execution_count": 263,
     "metadata": {},
     "output_type": "execute_result"
    }
   ],
   "source": [
    "len(Total_system_SYSTEM_Reside_DF[(Total_system_SYSTEM_Reside_DF['subst_name'] == CATION_MOLECULE)])"
   ]
  },
  {
   "cell_type": "code",
   "execution_count": 264,
   "id": "a3051226",
   "metadata": {},
   "outputs": [
    {
     "data": {
      "text/plain": [
       "9650"
      ]
     },
     "execution_count": 264,
     "metadata": {},
     "output_type": "execute_result"
    }
   ],
   "source": [
    "len(IL_Cluster_surface[(IL_Cluster_surface['subst_name'] == CATION_MOLECULE)])"
   ]
  },
  {
   "cell_type": "code",
   "execution_count": null,
   "id": "de95c646",
   "metadata": {},
   "outputs": [],
   "source": []
  },
  {
   "cell_type": "markdown",
   "id": "2117f62a",
   "metadata": {},
   "source": [
    "#### step 2. Invert"
   ]
  },
  {
   "cell_type": "code",
   "execution_count": 295,
   "id": "4aec72a3",
   "metadata": {},
   "outputs": [],
   "source": [
    "IL_Cluster_surface_NAME = IL_Cluster_surface[\"Residue_number\"].drop_duplicates().squeeze().to_list()"
   ]
  },
  {
   "cell_type": "code",
   "execution_count": 297,
   "id": "b68876f3",
   "metadata": {},
   "outputs": [],
   "source": [
    "IL_Cluster_surface_invert = Total_system_SYSTEM_Reside_DF[~Total_system_SYSTEM_Reside_DF['Residue_number'].isin(IL_Cluster_surface_NAME)]"
   ]
  },
  {
   "cell_type": "code",
   "execution_count": null,
   "id": "f9275ed0",
   "metadata": {},
   "outputs": [],
   "source": []
  },
  {
   "cell_type": "markdown",
   "id": "66952656",
   "metadata": {},
   "source": [
    "#### step 3. Select 5A surface From Invert moleuce"
   ]
  },
  {
   "cell_type": "code",
   "execution_count": null,
   "id": "b30bea24",
   "metadata": {},
   "outputs": [],
   "source": []
  },
  {
   "cell_type": "code",
   "execution_count": 302,
   "id": "481a1327",
   "metadata": {},
   "outputs": [],
   "source": [
    "Data_Selecte_subst = IL_Cluster_surface_invert\n",
    "Data_Selecte_subst_index = IL_Cluster_surface_invert.index"
   ]
  },
  {
   "cell_type": "code",
   "execution_count": 304,
   "id": "56896961",
   "metadata": {},
   "outputs": [],
   "source": [
    "\n",
    "find_range = DIGGER_RANGE    ### input\n",
    "list_set = []\n",
    "\n",
    "for i in range(0, len(Data_Selecte_subst_index)):\n",
    "    select_dataframe = None  ## 선택한 데이터 프레임 초기화\n",
    "    select_dataframe = Data_Selecte_subst.iloc[i]\n",
    "\n",
    "\n",
    "    sq1_range = (select_dataframe[['x','y','z']]+find_range)\n",
    "    sq3_range = (select_dataframe[['x','y','z']]-find_range)\n",
    "\n",
    "    selected_dataframe = Total_system[(Total_system['x'] <= sq1_range[\"x\"]) &\n",
    "                                      (Total_system['x'] >= sq3_range[\"x\"]) &\n",
    "                                      (Total_system['y'] <= sq1_range[\"y\"]) &\n",
    "                                      (Total_system['y'] >= sq3_range[\"y\"]) &\n",
    "                                      (Total_system['z'] <= sq1_range[\"z\"]) &\n",
    "                                      (Total_system['z'] >= sq3_range[\"z\"])]\n",
    "                                      \n",
    "\n",
    "    cal_x = (float(select_dataframe[\"x\"]) - selected_dataframe[\"x\"]).pow(2)\n",
    "    cal_y = (float(select_dataframe[\"y\"]) - selected_dataframe[\"y\"]).pow(2)\n",
    "    cal_z = (float(select_dataframe[\"z\"]) - selected_dataframe[\"z\"]).pow(2)\n",
    "    Distance = (cal_x+cal_y+cal_z)**0.5\n",
    "    \n",
    "    #Distance\n",
    "\n",
    "    Distance_index = Distance[(Distance <= find_range)].index\n",
    "    Select_Atom_List=Distance_index.values.tolist()\n",
    "    \n",
    "    ##  선택한 원자 선택\n",
    "    \n",
    "    # list_set\n",
    "    # list_set = [] 위쪽에 빈공간 있음\n",
    "    for i in range(0,len(Select_Atom_List)+1):\n",
    "        list_set.extend(Select_Atom_List)\n",
    "        list_set = set(list_set)  \n",
    "        list_set = list(list_set)\n"
   ]
  },
  {
   "cell_type": "code",
   "execution_count": 306,
   "id": "715a3096",
   "metadata": {},
   "outputs": [],
   "source": [
    "# 포함하고자 하는 문자열 리스트 생성\n",
    "Select_Residue_List = Total_system_SYSTEM_Reside_DF.iloc[list_set][[\"Residue_number\"]].drop_duplicates().squeeze().to_list()\n",
    "\n",
    "# 해당 list_set 있는 잔기를 선택\n",
    "result = Total_system_SYSTEM_Reside_DF[Total_system_SYSTEM_Reside_DF['Residue_number'].isin(Select_Residue_List)]"
   ]
  },
  {
   "cell_type": "code",
   "execution_count": 307,
   "id": "512d9207",
   "metadata": {},
   "outputs": [],
   "source": [
    "IL_Cluster_digger = result[(result['subst_name'] == CATION_MOLECULE)|\n",
    "                           (result['subst_name'] == ANION_MOLECULE)|\n",
    "                           (result['subst_name'] == WATER_MOLECULE)|\n",
    "                           (result['subst_name'] == SODIUM_ATOM)|\n",
    "                           (result['subst_name'] == CHLORIDE_ATOM)]"
   ]
  },
  {
   "cell_type": "markdown",
   "id": "54de91fe",
   "metadata": {},
   "source": [
    "#### step 4. Define inside Water using invert"
   ]
  },
  {
   "cell_type": "code",
   "execution_count": 309,
   "id": "0a7c5b08",
   "metadata": {},
   "outputs": [],
   "source": [
    "IL_Cluster_digger_NAME = IL_Cluster_digger[\"Residue_number\"].drop_duplicates().squeeze().to_list()"
   ]
  },
  {
   "cell_type": "code",
   "execution_count": 310,
   "id": "70e166c8",
   "metadata": {},
   "outputs": [],
   "source": [
    "IL_Cluster_digger_INSIDE = Total_system_SYSTEM_Reside_DF[~Total_system_SYSTEM_Reside_DF['Residue_number'].isin(IL_Cluster_digger_NAME)]"
   ]
  },
  {
   "cell_type": "code",
   "execution_count": 311,
   "id": "f786f06d",
   "metadata": {},
   "outputs": [],
   "source": [
    "INSIDE_water = IL_Cluster_digger_INSIDE[(IL_Cluster_digger_INSIDE['subst_name'] == WATER_MOLECULE)]"
   ]
  },
  {
   "cell_type": "code",
   "execution_count": 319,
   "id": "415777a4",
   "metadata": {},
   "outputs": [
    {
     "data": {
      "text/plain": [
       "440.0"
      ]
     },
     "execution_count": 319,
     "metadata": {},
     "output_type": "execute_result"
    }
   ],
   "source": [
    "len(INSIDE_water)/3"
   ]
  },
  {
   "cell_type": "code",
   "execution_count": null,
   "id": "602c0bbb",
   "metadata": {},
   "outputs": [],
   "source": []
  },
  {
   "cell_type": "code",
   "execution_count": null,
   "id": "6a099631",
   "metadata": {},
   "outputs": [],
   "source": []
  },
  {
   "cell_type": "markdown",
   "id": "1b6ee4f5",
   "metadata": {},
   "source": [
    "## ANALYSIS"
   ]
  },
  {
   "cell_type": "code",
   "execution_count": 325,
   "id": "cd8e94e2",
   "metadata": {},
   "outputs": [],
   "source": [
    "import sys\n",
    "from collections import Counter"
   ]
  },
  {
   "cell_type": "raw",
   "id": "7aed7a00",
   "metadata": {},
   "source": [
    "sys.stdout = open(INPUT_FILE+\"_inner_\"+str(INNER_range)+'.csv', \"w\")"
   ]
  },
  {
   "cell_type": "code",
   "execution_count": null,
   "id": "8090f28b",
   "metadata": {},
   "outputs": [],
   "source": []
  },
  {
   "cell_type": "code",
   "execution_count": 357,
   "id": "5f13f45d",
   "metadata": {},
   "outputs": [],
   "source": [
    "# (CMC) CATION_MOLECULE_COUNT\n",
    "CMC = Counter(IL_Cluster['subst_name'])[CATION_MOLECULE] / CATION_ATOM_COUNT"
   ]
  },
  {
   "cell_type": "code",
   "execution_count": 358,
   "id": "dcb82704",
   "metadata": {},
   "outputs": [],
   "source": [
    "# (AMC) ANION_MOLECULE_COUNT\n",
    "AMC = Counter(IL_Cluster['subst_name'])[ANION_MOLECULE] / ANION_ATOM_COUNT"
   ]
  },
  {
   "cell_type": "code",
   "execution_count": 359,
   "id": "588e89e4",
   "metadata": {},
   "outputs": [],
   "source": [
    "# (WMC) WATER_MOLECULE_COUNT\n",
    "WMC = Counter(INSIDE_water['subst_name'])['T5P'] / WATER_ATOM_COUNT"
   ]
  },
  {
   "cell_type": "code",
   "execution_count": 363,
   "id": "987c6334",
   "metadata": {},
   "outputs": [],
   "source": [
    "Absortion = (WMC*WATER_weight)/((CMC*CATION_weight)+(AMC*ANION_weight)+(WMC*WATER_weight))*100"
   ]
  },
  {
   "cell_type": "code",
   "execution_count": 364,
   "id": "25f5902b",
   "metadata": {},
   "outputs": [
    {
     "name": "stdout",
     "output_type": "stream",
     "text": [
      "386.0 385.0 440.0 4.662457000994847\n"
     ]
    }
   ],
   "source": [
    "print(CMC,AMC,WMC,Absortion)"
   ]
  },
  {
   "cell_type": "code",
   "execution_count": null,
   "id": "20e122f1",
   "metadata": {},
   "outputs": [],
   "source": []
  },
  {
   "cell_type": "raw",
   "id": "b7286dff",
   "metadata": {},
   "source": [
    "sys.stdout.close() \n",
    "sys.stdout = temp"
   ]
  },
  {
   "cell_type": "code",
   "execution_count": null,
   "id": "634c9eef",
   "metadata": {},
   "outputs": [],
   "source": []
  },
  {
   "cell_type": "code",
   "execution_count": null,
   "id": "e34fa79a",
   "metadata": {},
   "outputs": [],
   "source": []
  },
  {
   "cell_type": "code",
   "execution_count": null,
   "id": "34a69905",
   "metadata": {},
   "outputs": [],
   "source": []
  },
  {
   "cell_type": "code",
   "execution_count": null,
   "id": "9c6543d7",
   "metadata": {},
   "outputs": [],
   "source": []
  },
  {
   "cell_type": "code",
   "execution_count": null,
   "id": "cda9b5bd",
   "metadata": {},
   "outputs": [],
   "source": []
  },
  {
   "cell_type": "code",
   "execution_count": null,
   "id": "70dca6b2",
   "metadata": {},
   "outputs": [],
   "source": []
  },
  {
   "cell_type": "code",
   "execution_count": null,
   "id": "e7520fc0",
   "metadata": {},
   "outputs": [],
   "source": []
  },
  {
   "cell_type": "code",
   "execution_count": null,
   "id": "8652799a",
   "metadata": {},
   "outputs": [],
   "source": []
  },
  {
   "cell_type": "code",
   "execution_count": null,
   "id": "b13cbc5d",
   "metadata": {},
   "outputs": [],
   "source": []
  },
  {
   "cell_type": "code",
   "execution_count": null,
   "id": "54a93767",
   "metadata": {},
   "outputs": [],
   "source": []
  },
  {
   "cell_type": "code",
   "execution_count": null,
   "id": "e6906b6f",
   "metadata": {},
   "outputs": [],
   "source": []
  },
  {
   "cell_type": "code",
   "execution_count": null,
   "id": "069c9cf6",
   "metadata": {},
   "outputs": [],
   "source": []
  },
  {
   "cell_type": "code",
   "execution_count": null,
   "id": "003401ed",
   "metadata": {},
   "outputs": [],
   "source": []
  },
  {
   "cell_type": "code",
   "execution_count": null,
   "id": "f58bc37a",
   "metadata": {},
   "outputs": [],
   "source": []
  }
 ],
 "metadata": {
  "kernelspec": {
   "display_name": "Python 3 (ipykernel)",
   "language": "python",
   "name": "python3"
  },
  "language_info": {
   "codemirror_mode": {
    "name": "ipython",
    "version": 3
   },
   "file_extension": ".py",
   "mimetype": "text/x-python",
   "name": "python",
   "nbconvert_exporter": "python",
   "pygments_lexer": "ipython3",
   "version": "3.7.12"
  }
 },
 "nbformat": 4,
 "nbformat_minor": 5
}
